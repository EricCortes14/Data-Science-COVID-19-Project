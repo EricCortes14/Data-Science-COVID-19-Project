{
 "cells": [
  {
   "cell_type": "code",
   "execution_count": 168,
   "metadata": {
    "id": "BHV7Uh9KRX39"
   },
   "outputs": [],
   "source": [
    "#import libraries\n",
    "import pandas as pd\n",
    "import numpy as np\n",
    "import matplotlib.pyplot as plt\n",
    "import statsmodels.formula.api as smf\n",
    "from sklearn.metrics import r2_score\n",
    "from sklearn.preprocessing import PolynomialFeatures\n",
    "from sklearn.linear_model import LinearRegression\n",
    "from datetime import datetime\n",
    "from sklearn.model_selection import train_test_split\n",
    "from sklearn import metrics\n",
    "%matplotlib inline"
   ]
  },
  {
   "cell_type": "markdown",
   "metadata": {},
   "source": [
    "# United States"
   ]
  },
  {
   "cell_type": "markdown",
   "metadata": {},
   "source": [
    "## Data Manipulation"
   ]
  },
  {
   "cell_type": "code",
   "execution_count": 169,
   "metadata": {
    "id": "OZ1yjHTBRX4A",
    "outputId": "a2b9a1ef-007a-4294-d17c-b00df04f6b34"
   },
   "outputs": [
    {
     "data": {
      "text/html": [
       "<div>\n",
       "<style scoped>\n",
       "    .dataframe tbody tr th:only-of-type {\n",
       "        vertical-align: middle;\n",
       "    }\n",
       "\n",
       "    .dataframe tbody tr th {\n",
       "        vertical-align: top;\n",
       "    }\n",
       "\n",
       "    .dataframe thead th {\n",
       "        text-align: right;\n",
       "    }\n",
       "</style>\n",
       "<table border=\"1\" class=\"dataframe\">\n",
       "  <thead>\n",
       "    <tr style=\"text-align: right;\">\n",
       "      <th></th>\n",
       "      <th>State</th>\n",
       "      <th>countyFIPS</th>\n",
       "      <th>County Name</th>\n",
       "      <th>Date</th>\n",
       "      <th>Num of Cases</th>\n",
       "      <th>Num of Deaths</th>\n",
       "      <th>population</th>\n",
       "    </tr>\n",
       "  </thead>\n",
       "  <tbody>\n",
       "    <tr>\n",
       "      <th>0</th>\n",
       "      <td>AL</td>\n",
       "      <td>0</td>\n",
       "      <td>statewide unallocated</td>\n",
       "      <td>2020-01-22</td>\n",
       "      <td>0</td>\n",
       "      <td>0</td>\n",
       "      <td>0</td>\n",
       "    </tr>\n",
       "    <tr>\n",
       "      <th>1</th>\n",
       "      <td>AL</td>\n",
       "      <td>0</td>\n",
       "      <td>statewide unallocated</td>\n",
       "      <td>2020-01-23</td>\n",
       "      <td>0</td>\n",
       "      <td>0</td>\n",
       "      <td>0</td>\n",
       "    </tr>\n",
       "    <tr>\n",
       "      <th>2</th>\n",
       "      <td>AL</td>\n",
       "      <td>0</td>\n",
       "      <td>statewide unallocated</td>\n",
       "      <td>2020-01-24</td>\n",
       "      <td>0</td>\n",
       "      <td>0</td>\n",
       "      <td>0</td>\n",
       "    </tr>\n",
       "    <tr>\n",
       "      <th>3</th>\n",
       "      <td>AL</td>\n",
       "      <td>0</td>\n",
       "      <td>statewide unallocated</td>\n",
       "      <td>2020-01-25</td>\n",
       "      <td>0</td>\n",
       "      <td>0</td>\n",
       "      <td>0</td>\n",
       "    </tr>\n",
       "    <tr>\n",
       "      <th>4</th>\n",
       "      <td>AL</td>\n",
       "      <td>0</td>\n",
       "      <td>statewide unallocated</td>\n",
       "      <td>2020-01-26</td>\n",
       "      <td>0</td>\n",
       "      <td>0</td>\n",
       "      <td>0</td>\n",
       "    </tr>\n",
       "  </tbody>\n",
       "</table>\n",
       "</div>"
      ],
      "text/plain": [
       "  State  countyFIPS            County Name        Date  Num of Cases  \\\n",
       "0    AL           0  statewide unallocated  2020-01-22             0   \n",
       "1    AL           0  statewide unallocated  2020-01-23             0   \n",
       "2    AL           0  statewide unallocated  2020-01-24             0   \n",
       "3    AL           0  statewide unallocated  2020-01-25             0   \n",
       "4    AL           0  statewide unallocated  2020-01-26             0   \n",
       "\n",
       "   Num of Deaths  population  \n",
       "0              0           0  \n",
       "1              0           0  \n",
       "2              0           0  \n",
       "3              0           0  \n",
       "4              0           0  "
      ]
     },
     "execution_count": 169,
     "metadata": {},
     "output_type": "execute_result"
    }
   ],
   "source": [
    "#import us dataset\n",
    "super_data = pd.read_csv(\"../data/covid_large.csv\")\n",
    "\n",
    "#display dataset\n",
    "super_data.head()"
   ]
  },
  {
   "cell_type": "code",
   "execution_count": 170,
   "metadata": {
    "id": "rmh1wwmrRX4H"
   },
   "outputs": [
    {
     "data": {
      "text/html": [
       "<div>\n",
       "<style scoped>\n",
       "    .dataframe tbody tr th:only-of-type {\n",
       "        vertical-align: middle;\n",
       "    }\n",
       "\n",
       "    .dataframe tbody tr th {\n",
       "        vertical-align: top;\n",
       "    }\n",
       "\n",
       "    .dataframe thead th {\n",
       "        text-align: right;\n",
       "    }\n",
       "</style>\n",
       "<table border=\"1\" class=\"dataframe\">\n",
       "  <thead>\n",
       "    <tr style=\"text-align: right;\">\n",
       "      <th></th>\n",
       "      <th>Date</th>\n",
       "      <th>population</th>\n",
       "      <th>Num of Cases Per Day</th>\n",
       "      <th>Num of Deaths Per Day</th>\n",
       "    </tr>\n",
       "  </thead>\n",
       "  <tbody>\n",
       "    <tr>\n",
       "      <th>0</th>\n",
       "      <td>2020-01-23</td>\n",
       "      <td>328239523</td>\n",
       "      <td>0.0</td>\n",
       "      <td>0.0</td>\n",
       "    </tr>\n",
       "    <tr>\n",
       "      <th>1</th>\n",
       "      <td>2020-01-24</td>\n",
       "      <td>328239523</td>\n",
       "      <td>1.0</td>\n",
       "      <td>0.0</td>\n",
       "    </tr>\n",
       "    <tr>\n",
       "      <th>2</th>\n",
       "      <td>2020-01-25</td>\n",
       "      <td>328239523</td>\n",
       "      <td>0.0</td>\n",
       "      <td>0.0</td>\n",
       "    </tr>\n",
       "    <tr>\n",
       "      <th>3</th>\n",
       "      <td>2020-01-26</td>\n",
       "      <td>328239523</td>\n",
       "      <td>3.0</td>\n",
       "      <td>0.0</td>\n",
       "    </tr>\n",
       "    <tr>\n",
       "      <th>4</th>\n",
       "      <td>2020-01-27</td>\n",
       "      <td>328239523</td>\n",
       "      <td>1.0</td>\n",
       "      <td>0.0</td>\n",
       "    </tr>\n",
       "  </tbody>\n",
       "</table>\n",
       "</div>"
      ],
      "text/plain": [
       "        Date  population  Num of Cases Per Day  Num of Deaths Per Day\n",
       "0 2020-01-23   328239523                   0.0                    0.0\n",
       "1 2020-01-24   328239523                   1.0                    0.0\n",
       "2 2020-01-25   328239523                   0.0                    0.0\n",
       "3 2020-01-26   328239523                   3.0                    0.0\n",
       "4 2020-01-27   328239523                   1.0                    0.0"
      ]
     },
     "execution_count": 170,
     "metadata": {},
     "output_type": "execute_result"
    }
   ],
   "source": [
    "#take difference of cases and deaths to obtain new cases and deaths\n",
    "super_data['Num of Cases Per Day'] = super_data['Num of Cases'].diff()\n",
    "super_data['Num of Deaths Per Day'] = super_data['Num of Deaths'].diff()\n",
    "\n",
    "#remove unessesary rows from dataset\n",
    "super_data= super_data[super_data['Date'] != '2020-01-22']\n",
    "\n",
    "#group us dataset by date\n",
    "super_data = super_data.groupby(\"Date\").sum().reset_index()\n",
    "\n",
    "#convert time from object to datetime\n",
    "super_data['Date'] = super_data.Date.apply(lambda d: datetime.strptime(d, '%Y-%m-%d'))\n",
    "\n",
    "#drop unnessesary columns\n",
    "super_data = super_data.drop(['countyFIPS','Num of Cases','Num of Deaths'],axis=1)\n",
    "\n",
    "#display dataset\n",
    "super_data.head()"
   ]
  },
  {
   "cell_type": "code",
   "execution_count": 171,
   "metadata": {
    "id": "A4Bwb3sgRX4d",
    "outputId": "47d4f1f7-7286-40c8-d8ff-34bc3d075fca"
   },
   "outputs": [
    {
     "data": {
      "text/html": [
       "<div>\n",
       "<style scoped>\n",
       "    .dataframe tbody tr th:only-of-type {\n",
       "        vertical-align: middle;\n",
       "    }\n",
       "\n",
       "    .dataframe tbody tr th {\n",
       "        vertical-align: top;\n",
       "    }\n",
       "\n",
       "    .dataframe thead th {\n",
       "        text-align: right;\n",
       "    }\n",
       "</style>\n",
       "<table border=\"1\" class=\"dataframe\">\n",
       "  <thead>\n",
       "    <tr style=\"text-align: right;\">\n",
       "      <th></th>\n",
       "      <th>Date</th>\n",
       "      <th>population</th>\n",
       "      <th>numOfDeathsSinceDay1</th>\n",
       "      <th>numOfCasesSinceDay1</th>\n",
       "      <th>Num of Cases Per Day</th>\n",
       "      <th>Num of Deaths Per Day</th>\n",
       "    </tr>\n",
       "  </thead>\n",
       "  <tbody>\n",
       "    <tr>\n",
       "      <th>0</th>\n",
       "      <td>2020-01-23</td>\n",
       "      <td>328239523</td>\n",
       "      <td>0</td>\n",
       "      <td>0</td>\n",
       "      <td>0.0</td>\n",
       "      <td>0.0</td>\n",
       "    </tr>\n",
       "    <tr>\n",
       "      <th>1</th>\n",
       "      <td>2020-01-24</td>\n",
       "      <td>328239523</td>\n",
       "      <td>0</td>\n",
       "      <td>0</td>\n",
       "      <td>1.0</td>\n",
       "      <td>0.0</td>\n",
       "    </tr>\n",
       "    <tr>\n",
       "      <th>2</th>\n",
       "      <td>2020-01-25</td>\n",
       "      <td>328239523</td>\n",
       "      <td>0</td>\n",
       "      <td>1</td>\n",
       "      <td>0.0</td>\n",
       "      <td>0.0</td>\n",
       "    </tr>\n",
       "    <tr>\n",
       "      <th>3</th>\n",
       "      <td>2020-01-26</td>\n",
       "      <td>328239523</td>\n",
       "      <td>0</td>\n",
       "      <td>2</td>\n",
       "      <td>3.0</td>\n",
       "      <td>0.0</td>\n",
       "    </tr>\n",
       "    <tr>\n",
       "      <th>4</th>\n",
       "      <td>2020-01-27</td>\n",
       "      <td>328239523</td>\n",
       "      <td>0</td>\n",
       "      <td>3</td>\n",
       "      <td>1.0</td>\n",
       "      <td>0.0</td>\n",
       "    </tr>\n",
       "  </tbody>\n",
       "</table>\n",
       "</div>"
      ],
      "text/plain": [
       "        Date  population  numOfDeathsSinceDay1  numOfCasesSinceDay1  \\\n",
       "0 2020-01-23   328239523                     0                    0   \n",
       "1 2020-01-24   328239523                     0                    0   \n",
       "2 2020-01-25   328239523                     0                    1   \n",
       "3 2020-01-26   328239523                     0                    2   \n",
       "4 2020-01-27   328239523                     0                    3   \n",
       "\n",
       "   Num of Cases Per Day  Num of Deaths Per Day  \n",
       "0                   0.0                    0.0  \n",
       "1                   1.0                    0.0  \n",
       "2                   0.0                    0.0  \n",
       "3                   3.0                    0.0  \n",
       "4                   1.0                    0.0  "
      ]
     },
     "execution_count": 171,
     "metadata": {},
     "output_type": "execute_result"
    }
   ],
   "source": [
    "#obtain the date of the first case\n",
    "first_case_index = super_data['Num of Cases Per Day'].ne(0).idxmax() \n",
    "\n",
    "#obtain the date of the first death\n",
    "first_death_index= super_data['Num of Deaths Per Day'].ne(0).idxmax() \n",
    "\n",
    "#list to hold the cases since day 1\n",
    "numOfCasesSinceDay1=[]\n",
    "\n",
    "#list to hold the deaths since day 1\n",
    "numOfDeathsSinceDay1=[]\n",
    "\n",
    "#loop to compute the number of cases since day 1\n",
    "counter=1\n",
    "for i,index in enumerate(range(len(super_data))):\n",
    "    if i<=first_case_index:\n",
    "        numOfCasesSinceDay1.insert(index, 0) \n",
    "    else:\n",
    "        numOfCasesSinceDay1.insert(index, counter) \n",
    "        counter = counter+1\n",
    "\n",
    "#loop to compute the number of deaths since day 1\n",
    "counter=1\n",
    "for i,index in enumerate(range(len(super_data))):\n",
    "    if i<=first_death_index:\n",
    "        numOfDeathsSinceDay1.insert(index, 0) \n",
    "    else:\n",
    "        numOfDeathsSinceDay1.insert(index, counter) \n",
    "        counter = counter+1\n",
    "\n",
    "#insert list into dataset as a column\n",
    "super_data.insert(2, \"numOfCasesSinceDay1\", numOfCasesSinceDay1)\n",
    "\n",
    "#insert list into dataset as a column   \n",
    "super_data.insert(2, \"numOfDeathsSinceDay1\", numOfDeathsSinceDay1)\n",
    "\n",
    "#print dataset\n",
    "super_data.head()"
   ]
  },
  {
   "cell_type": "markdown",
   "metadata": {},
   "source": [
    "## Regression Models of the Cases"
   ]
  },
  {
   "cell_type": "code",
   "execution_count": 172,
   "metadata": {
    "id": "nmIyaIBORX4k",
    "outputId": "2802d0bb-fac8-4842-849b-736c76067798"
   },
   "outputs": [
    {
     "data": {
      "text/html": [
       "<div>\n",
       "<style scoped>\n",
       "    .dataframe tbody tr th:only-of-type {\n",
       "        vertical-align: middle;\n",
       "    }\n",
       "\n",
       "    .dataframe tbody tr th {\n",
       "        vertical-align: top;\n",
       "    }\n",
       "\n",
       "    .dataframe thead th {\n",
       "        text-align: right;\n",
       "    }\n",
       "</style>\n",
       "<table border=\"1\" class=\"dataframe\">\n",
       "  <thead>\n",
       "    <tr style=\"text-align: right;\">\n",
       "      <th></th>\n",
       "      <th>numOfCasesSinceDay1</th>\n",
       "      <th>Num of Cases Per Day</th>\n",
       "    </tr>\n",
       "  </thead>\n",
       "  <tbody>\n",
       "    <tr>\n",
       "      <th>0</th>\n",
       "      <td>0</td>\n",
       "      <td>0.0</td>\n",
       "    </tr>\n",
       "    <tr>\n",
       "      <th>1</th>\n",
       "      <td>0</td>\n",
       "      <td>1.0</td>\n",
       "    </tr>\n",
       "    <tr>\n",
       "      <th>2</th>\n",
       "      <td>1</td>\n",
       "      <td>0.0</td>\n",
       "    </tr>\n",
       "    <tr>\n",
       "      <th>3</th>\n",
       "      <td>2</td>\n",
       "      <td>3.0</td>\n",
       "    </tr>\n",
       "    <tr>\n",
       "      <th>4</th>\n",
       "      <td>3</td>\n",
       "      <td>1.0</td>\n",
       "    </tr>\n",
       "    <tr>\n",
       "      <th>...</th>\n",
       "      <td>...</td>\n",
       "      <td>...</td>\n",
       "    </tr>\n",
       "    <tr>\n",
       "      <th>231</th>\n",
       "      <td>230</td>\n",
       "      <td>35510.0</td>\n",
       "    </tr>\n",
       "    <tr>\n",
       "      <th>232</th>\n",
       "      <td>231</td>\n",
       "      <td>46286.0</td>\n",
       "    </tr>\n",
       "    <tr>\n",
       "      <th>233</th>\n",
       "      <td>232</td>\n",
       "      <td>39133.0</td>\n",
       "    </tr>\n",
       "    <tr>\n",
       "      <th>234</th>\n",
       "      <td>233</td>\n",
       "      <td>34792.0</td>\n",
       "    </tr>\n",
       "    <tr>\n",
       "      <th>235</th>\n",
       "      <td>234</td>\n",
       "      <td>34162.0</td>\n",
       "    </tr>\n",
       "  </tbody>\n",
       "</table>\n",
       "<p>236 rows × 2 columns</p>\n",
       "</div>"
      ],
      "text/plain": [
       "     numOfCasesSinceDay1  Num of Cases Per Day\n",
       "0                      0                   0.0\n",
       "1                      0                   1.0\n",
       "2                      1                   0.0\n",
       "3                      2                   3.0\n",
       "4                      3                   1.0\n",
       "..                   ...                   ...\n",
       "231                  230               35510.0\n",
       "232                  231               46286.0\n",
       "233                  232               39133.0\n",
       "234                  233               34792.0\n",
       "235                  234               34162.0\n",
       "\n",
       "[236 rows x 2 columns]"
      ]
     },
     "execution_count": 172,
     "metadata": {},
     "output_type": "execute_result"
    }
   ],
   "source": [
    "#create second dataframe of just the cases data\n",
    "df_cases = super_data[['numOfCasesSinceDay1','Num of Cases Per Day']]\n",
    "\n",
    "#print dataframe\n",
    "df_cases"
   ]
  },
  {
   "cell_type": "markdown",
   "metadata": {},
   "source": [
    "### Linear Regression Model"
   ]
  },
  {
   "cell_type": "code",
   "execution_count": 173,
   "metadata": {
    "id": "XjrpUmQsRX4o",
    "outputId": "ed3ae426-c485-4a57-8ea6-b0afff7475a2"
   },
   "outputs": [],
   "source": [
    "#obtain x from the dataset as the number of cases since day 1\n",
    "X = df_cases.iloc[:,0].values.reshape(-1, 1) \n",
    "\n",
    "#obtain y from the dataset as the number of cases per day\n",
    "y = df_cases.iloc[:,1].values.reshape(-1, 1)\n",
    "\n",
    "#create linear regression model\n",
    "lm = LinearRegression()\n",
    "\n",
    "#fit the linear regression model to the data obtained\n",
    "lm.fit(X, y)\n",
    "\n",
    "#use the linear regression model to predict the varialbe x\n",
    "cases_prediction = lm.predict(X)"
   ]
  },
  {
   "cell_type": "code",
   "execution_count": 174,
   "metadata": {},
   "outputs": [
    {
     "name": "stdout",
     "output_type": "stream",
     "text": [
      "Evaluation of the Linear Model:\n",
      "Mean Absolute Error: 9244.824032000502\n",
      "Mean Squared Error: 134460697.24341974\n",
      "Sqrt of Mean Squared Error: 11595.718918782903\n",
      "R^2 Score: 0.6887368036784534\n"
     ]
    }
   ],
   "source": [
    "#print the data for the linear regression model of the cases\n",
    "print(\"Evaluation of the Linear Model:\")\n",
    "print(\"Mean Absolute Error:\", metrics.mean_absolute_error(y,cases_prediction))\n",
    "print(\"Mean Squared Error:\", metrics.mean_squared_error(y,cases_prediction))\n",
    "print(\"Sqrt of Mean Squared Error:\", np.sqrt(metrics.mean_squared_error(y,cases_prediction)))\n",
    "print(\"R^2 Score:\", r2_score(y,cases_prediction))"
   ]
  },
  {
   "cell_type": "code",
   "execution_count": 175,
   "metadata": {
    "id": "JC-v8RVwRX48",
    "outputId": "13d8467a-7e4f-4f21-9e7d-010e9c699a9d"
   },
   "outputs": [
    {
     "name": "stdout",
     "output_type": "stream",
     "text": [
      "Predicted Cases:\n",
      "[235] - [57552.24252906]\n",
      "[236] - [57805.45748478]\n",
      "[237] - [58058.67244051]\n",
      "[238] - [58311.88739623]\n",
      "[239] - [58565.10235196]\n",
      "[240] - [58818.31730769]\n",
      "[241] - [59071.53226341]\n"
     ]
    }
   ],
   "source": [
    "#create future dates\n",
    "future_dates = np.array([235,236,237,238,239,240,241])\n",
    "future_dates = np.arange(235,242).reshape(-1,1)\n",
    "\n",
    "#use linear model to predict dates\n",
    "future_cases = lm.predict(future_dates)\n",
    "\n",
    "#display the predicted cases for the future dates\n",
    "print(\"Predicted Cases:\")\n",
    "for i in range(0, len(future_dates)):\n",
    "    print(future_dates[i], '-', future_cases[i])"
   ]
  },
  {
   "cell_type": "code",
   "execution_count": 176,
   "metadata": {
    "scrolled": false
   },
   "outputs": [
    {
     "data": {
      "image/png": "[encoded data removed]",
      "text/plain": [
       "<Figure size 432x288 with 1 Axes>"
      ]
     },
     "metadata": {
      "needs_background": "light"
     },
     "output_type": "display_data"
    }
   ],
   "source": [
    "#display the cases with the linear regression on a plot\n",
    "def viz_linear():\n",
    "    plt.scatter(X, y, color='red')\n",
    "    plt.plot(X, lm.predict(X), color='blue')\n",
    "    plt.title('Linear Regression')\n",
    "    plt.xlabel('Days from first case')\n",
    "    plt.ylabel('Cases')\n",
    "    plt.show()\n",
    "    return\n",
    "\n",
    "viz_linear()"
   ]
  },
  {
   "cell_type": "markdown",
   "metadata": {},
   "source": [
    "### Polynomial Regression Model"
   ]
  },
  {
   "cell_type": "code",
   "execution_count": 177,
   "metadata": {},
   "outputs": [
    {
     "data": {
      "text/plain": [
       "LinearRegression(copy_X=True, fit_intercept=True, n_jobs=None, normalize=False)"
      ]
     },
     "execution_count": 177,
     "metadata": {},
     "output_type": "execute_result"
    }
   ],
   "source": [
    "#create regression for a polynomial of degree 2\n",
    "poly = PolynomialFeatures(degree = 2)\n",
    "poly_features = poly.fit_transform(X)\n",
    "poly.fit(X,y)\n",
    "poly_regression = LinearRegression()\n",
    "poly_regression.fit(poly_features,y)\n",
    "\n",
    "#create regression for a polynomial of degree 3\n",
    "poly3 = PolynomialFeatures(degree = 3)\n",
    "poly_features3 = poly3.fit_transform(X)\n",
    "poly3.fit(X,y)\n",
    "poly_regression3 = LinearRegression()\n",
    "poly_regression3.fit(poly_features3,y)\n",
    "\n",
    "#create regression for a polynomial of degree 4\n",
    "poly4 = PolynomialFeatures(degree = 4)\n",
    "poly_features4 = poly4.fit_transform(X)\n",
    "poly3.fit(X,y)\n",
    "poly_regression4 = LinearRegression()\n",
    "poly_regression4.fit(poly_features4,y)"
   ]
  },
  {
   "cell_type": "code",
   "execution_count": 178,
   "metadata": {},
   "outputs": [
    {
     "data": {
      "image/png": "[encoded data removed]",
      "text/plain": [
       "<Figure size 432x288 with 1 Axes>"
      ]
     },
     "metadata": {
      "needs_background": "light"
     },
     "output_type": "display_data"
    }
   ],
   "source": [
    "#ploting the data  for polynomial regression \n",
    "def viz_poly():\n",
    "    plt.scatter(X, y, color='red')\n",
    "    plt.plot(X,poly_regression.predict(poly_features),color='blue', label = \"Degree 2\")\n",
    "    plt.plot(X,poly_regression3.predict(poly_features3),color='green', label = \"Degree 3\")\n",
    "    plt.plot(X,poly_regression4.predict(poly_features4),color='orange', label = \"Degree 4\")\n",
    "    plt.legend(loc=\"upper left\")\n",
    "    plt.title(\"Days since case 1 vs cases\")\n",
    "    plt.xlabel(\"Days \")\n",
    "    plt.ylabel(\"Cases\")\n",
    "    plt.show()\n",
    "    return\n",
    "viz_poly()"
   ]
  },
  {
   "cell_type": "code",
   "execution_count": 179,
   "metadata": {},
   "outputs": [
    {
     "name": "stdout",
     "output_type": "stream",
     "text": [
      "Predicted Cases:\n",
      "[235] - [38297.33327666]\n",
      "[236] - [37775.10105571]\n",
      "[237] - [37239.09169466]\n",
      "[238] - [36689.20392268]\n",
      "[239] - [36125.33646891]\n",
      "[240] - [35547.3880625]\n",
      "[241] - [34955.25743261]\n"
     ]
    }
   ],
   "source": [
    "#predict future cases\n",
    "poly_features_f = poly3.fit_transform(future_dates)\n",
    "predicted_dates = poly_regression3.predict(poly_features_f)\n",
    "\n",
    "#display the predicted cases for the future dates\n",
    "print(\"Predicted Cases:\")\n",
    "for i in range(0, len(future_dates)):\n",
    "    print(future_dates[i], '-', predicted_dates[i])"
   ]
  },
  {
   "cell_type": "code",
   "execution_count": 180,
   "metadata": {},
   "outputs": [
    {
     "name": "stdout",
     "output_type": "stream",
     "text": [
      "Evaluation of the Polynomial-3 model:\n",
      "Polynomial Coefficients: [[ 0.00000000e+00 -9.78893946e+01  5.06138989e+00 -1.68784745e-02]]\n",
      "Polynomial Intercept: [832.81655274]\n",
      "Mean Squared Error: 104805002.68045194\n",
      "Sqrt of Mean Squared Error: 10237.431449365215\n",
      "r^2 score: 0.7573867993131934\n"
     ]
    }
   ],
   "source": [
    "#displaying data for the polynomial model\n",
    "print(\"Evaluation of the Polynomial-3 model:\")\n",
    "print(\"Polynomial Coefficients:\", poly_regression3.coef_)\n",
    "print(\"Polynomial Intercept:\", poly_regression3.intercept_)\n",
    "print(\"Mean Squared Error:\", metrics.mean_squared_error(y,poly_regression3.predict(poly_features3)))\n",
    "print(\"Sqrt of Mean Squared Error:\", np.sqrt(metrics.mean_squared_error(y,poly_regression3.predict(poly_features3))))\n",
    "print(\"r^2 score:\", r2_score(y,poly_regression3.predict(poly_features3)))"
   ]
  },
  {
   "cell_type": "markdown",
   "metadata": {},
   "source": [
    "## Deaths"
   ]
  },
  {
   "cell_type": "markdown",
   "metadata": {},
   "source": [
    "### Linear Model"
   ]
  },
  {
   "cell_type": "code",
   "execution_count": 181,
   "metadata": {},
   "outputs": [
    {
     "data": {
      "text/html": [
       "<div>\n",
       "<style scoped>\n",
       "    .dataframe tbody tr th:only-of-type {\n",
       "        vertical-align: middle;\n",
       "    }\n",
       "\n",
       "    .dataframe tbody tr th {\n",
       "        vertical-align: top;\n",
       "    }\n",
       "\n",
       "    .dataframe thead th {\n",
       "        text-align: right;\n",
       "    }\n",
       "</style>\n",
       "<table border=\"1\" class=\"dataframe\">\n",
       "  <thead>\n",
       "    <tr style=\"text-align: right;\">\n",
       "      <th></th>\n",
       "      <th>numOfDeathsSinceDay1</th>\n",
       "      <th>Num of Deaths Per Day</th>\n",
       "    </tr>\n",
       "  </thead>\n",
       "  <tbody>\n",
       "    <tr>\n",
       "      <th>0</th>\n",
       "      <td>0</td>\n",
       "      <td>0.0</td>\n",
       "    </tr>\n",
       "    <tr>\n",
       "      <th>1</th>\n",
       "      <td>0</td>\n",
       "      <td>0.0</td>\n",
       "    </tr>\n",
       "    <tr>\n",
       "      <th>2</th>\n",
       "      <td>0</td>\n",
       "      <td>0.0</td>\n",
       "    </tr>\n",
       "    <tr>\n",
       "      <th>3</th>\n",
       "      <td>0</td>\n",
       "      <td>0.0</td>\n",
       "    </tr>\n",
       "    <tr>\n",
       "      <th>4</th>\n",
       "      <td>0</td>\n",
       "      <td>0.0</td>\n",
       "    </tr>\n",
       "    <tr>\n",
       "      <th>...</th>\n",
       "      <td>...</td>\n",
       "      <td>...</td>\n",
       "    </tr>\n",
       "    <tr>\n",
       "      <th>231</th>\n",
       "      <td>217</td>\n",
       "      <td>1068.0</td>\n",
       "    </tr>\n",
       "    <tr>\n",
       "      <th>232</th>\n",
       "      <td>218</td>\n",
       "      <td>1093.0</td>\n",
       "    </tr>\n",
       "    <tr>\n",
       "      <th>233</th>\n",
       "      <td>219</td>\n",
       "      <td>694.0</td>\n",
       "    </tr>\n",
       "    <tr>\n",
       "      <th>234</th>\n",
       "      <td>220</td>\n",
       "      <td>385.0</td>\n",
       "    </tr>\n",
       "    <tr>\n",
       "      <th>235</th>\n",
       "      <td>221</td>\n",
       "      <td>426.0</td>\n",
       "    </tr>\n",
       "  </tbody>\n",
       "</table>\n",
       "<p>236 rows × 2 columns</p>\n",
       "</div>"
      ],
      "text/plain": [
       "     numOfDeathsSinceDay1  Num of Deaths Per Day\n",
       "0                       0                    0.0\n",
       "1                       0                    0.0\n",
       "2                       0                    0.0\n",
       "3                       0                    0.0\n",
       "4                       0                    0.0\n",
       "..                    ...                    ...\n",
       "231                   217                 1068.0\n",
       "232                   218                 1093.0\n",
       "233                   219                  694.0\n",
       "234                   220                  385.0\n",
       "235                   221                  426.0\n",
       "\n",
       "[236 rows x 2 columns]"
      ]
     },
     "execution_count": 181,
     "metadata": {},
     "output_type": "execute_result"
    }
   ],
   "source": [
    "#obtain the data for deaths\n",
    "df_deaths = super_data[['numOfDeathsSinceDay1','Num of Deaths Per Day']]\n",
    "\n",
    "#display datasets\n",
    "df_deaths"
   ]
  },
  {
   "cell_type": "code",
   "execution_count": 182,
   "metadata": {},
   "outputs": [
    {
     "name": "stdout",
     "output_type": "stream",
     "text": [
      "Evaluation of the linear model:\n",
      "Mean Absolute Error: 528.6189475960542\n",
      "Mean Squared Error: 474833.37465818034\n",
      "Sqrt of Mean Squared Error: 689.0815442733758\n",
      "r^2 score: 0.09763494246679605\n"
     ]
    }
   ],
   "source": [
    "#obtain x and y variables for deaths\n",
    "X_d = df_deaths.iloc[:,0].values.reshape(-1, 1) \n",
    "y_d = df_deaths.iloc[:,1].values.reshape(-1, 1) \n",
    "\n",
    "#make linear regression model and fit the death data\n",
    "lm = LinearRegression()\n",
    "lm.fit(X_d, y_d)\n",
    "\n",
    "#predict the x variable data using the linear regression model\n",
    "deaths_prediction = lm.predict(X_d)\n",
    "\n",
    "#display data for the linear model\n",
    "print(\"Evaluation of the linear model:\")\n",
    "print(\"Mean Absolute Error:\", metrics.mean_absolute_error(y_d,deaths_prediction))\n",
    "print(\"Mean Squared Error:\", metrics.mean_squared_error(y_d,deaths_prediction))\n",
    "print(\"Sqrt of Mean Squared Error:\", np.sqrt(metrics.mean_squared_error(y_d,deaths_prediction)))\n",
    "print(\"r^2 score:\", r2_score(y_d,deaths_prediction))"
   ]
  },
  {
   "cell_type": "code",
   "execution_count": 183,
   "metadata": {},
   "outputs": [
    {
     "name": "stdout",
     "output_type": "stream",
     "text": [
      "Predicted Deaths:\n",
      "[235] - [1258.11204127]\n",
      "[236] - [1261.47430457]\n",
      "[237] - [1264.83656787]\n",
      "[238] - [1268.19883118]\n",
      "[239] - [1271.56109448]\n",
      "[240] - [1274.92335779]\n",
      "[241] - [1278.28562109]\n"
     ]
    }
   ],
   "source": [
    "#predict the future deaths\n",
    "future_deaths = lm.predict(future_dates)\n",
    "\n",
    "#display the predicted deaths for the future dates\n",
    "print(\"Predicted Deaths:\")\n",
    "for i in range(0, len(future_dates)):\n",
    "    print(future_dates[i], '-', future_deaths[i])"
   ]
  },
  {
   "cell_type": "code",
   "execution_count": 184,
   "metadata": {},
   "outputs": [
    {
     "data": {
      "image/png": "[encoded data removed]",
      "text/plain": [
       "<Figure size 432x288 with 1 Axes>"
      ]
     },
     "metadata": {
      "needs_background": "light"
     },
     "output_type": "display_data"
    }
   ],
   "source": [
    "#display deaths and the linear regression model\n",
    "def viz_linear():\n",
    "    plt.scatter(X_d, y_d, color='red')\n",
    "    plt.plot(X_d, lm.predict(X_d), color='blue')\n",
    "    plt.title('Linear Regression')\n",
    "    plt.xlabel('Days from first death')\n",
    "    plt.ylabel('Deaths')\n",
    "    plt.show()\n",
    "    return\n",
    "viz_linear()"
   ]
  },
  {
   "cell_type": "code",
   "execution_count": 185,
   "metadata": {},
   "outputs": [
    {
     "data": {
      "text/plain": [
       "LinearRegression(copy_X=True, fit_intercept=True, n_jobs=None, normalize=False)"
      ]
     },
     "execution_count": 185,
     "metadata": {},
     "output_type": "execute_result"
    }
   ],
   "source": [
    "#create regression for a polynomial of degree 2\n",
    "poly_d = PolynomialFeatures(degree = 2)\n",
    "poly_features_d = poly_d.fit_transform(X_d)\n",
    "poly_d.fit(X_d,y_d)\n",
    "poly_regression_d = LinearRegression()\n",
    "poly_regression_d.fit(poly_features_d,y_d)\n",
    "\n",
    "#create regression for a polynomial of degree 3\n",
    "poly_d1 = PolynomialFeatures(degree = 3)\n",
    "poly_features_d1 = poly_d1.fit_transform(X_d)\n",
    "poly_d1.fit(X_d,y_d)\n",
    "poly_regression_d1 = LinearRegression()\n",
    "poly_regression_d1.fit(poly_features_d1,y_d)\n",
    "\n",
    "#create regression for a polynomial of degree 4\n",
    "poly_d2 = PolynomialFeatures(degree = 4)\n",
    "poly_features_d2 = poly_d2.fit_transform(X_d)\n",
    "poly_d2.fit(X_d,y_d)\n",
    "poly_regression_d2 = LinearRegression()\n",
    "poly_regression_d2.fit(poly_features_d2,y_d)\n",
    "\n",
    "#create regression for a polynomial of degree 5\n",
    "poly_d5 = PolynomialFeatures(degree = 5)\n",
    "poly_features_d5 = poly_d5.fit_transform(X_d)\n",
    "poly_d5.fit(X_d,y_d)\n",
    "poly_regression_d5 = LinearRegression()\n",
    "poly_regression_d5.fit(poly_features_d5,y_d)"
   ]
  },
  {
   "cell_type": "code",
   "execution_count": 186,
   "metadata": {},
   "outputs": [
    {
     "data": {
      "image/png": "[encoded data removed]",
      "text/plain": [
       "<Figure size 432x288 with 1 Axes>"
      ]
     },
     "metadata": {
      "needs_background": "light"
     },
     "output_type": "display_data"
    }
   ],
   "source": [
    "#ploting the data  for polynomial regression \n",
    "def viz_poly():\n",
    "    plt.scatter(X_d, y_d, color='red')\n",
    "    plt.plot(X_d,poly_regression_d.predict(poly_features_d),color='blue', label = \"Degree 2\")\n",
    "    plt.plot(X_d,poly_regression_d1.predict(poly_features_d1),color='green', label = \"Degree 3\")\n",
    "    plt.plot(X,poly_regression_d2.predict(poly_features_d2),color='orange', label = \"Degree 4\")\n",
    "    plt.plot(X,poly_regression_d5.predict(poly_features_d5),color='purple', label = \"Degree 5\")\n",
    "    plt.legend(loc=\"upper left\")\n",
    "    plt.title(\"Days since Death 1 vs deaths\")\n",
    "    plt.xlabel(\"Days \")\n",
    "    plt.ylabel(\"Deaths\")\n",
    "    plt.show()\n",
    "    return\n",
    "viz_poly()"
   ]
  },
  {
   "cell_type": "code",
   "execution_count": 187,
   "metadata": {},
   "outputs": [
    {
     "name": "stdout",
     "output_type": "stream",
     "text": [
      "Predicted Deaths:\n",
      "[235] - [1074.0750622]\n",
      "[236] - [1088.8573498]\n",
      "[237] - [1104.09909326]\n",
      "[238] - [1119.80518685]\n",
      "[239] - [1135.9805248]\n",
      "[240] - [1152.63000136]\n",
      "[241] - [1169.75851078]\n"
     ]
    }
   ],
   "source": [
    "#predict future deaths \n",
    "poly_features_fd = poly_d1.fit_transform(future_dates)\n",
    "future_deaths = poly_regression_d1.predict(poly_features_fd)\n",
    "\n",
    "#display the predicted deaths for the future dates\n",
    "print(\"Predicted Deaths:\")\n",
    "for i in range(0, len(future_dates)):\n",
    "    print(future_dates[i], '-', future_deaths[i])"
   ]
  },
  {
   "cell_type": "code",
   "execution_count": 188,
   "metadata": {},
   "outputs": [
    {
     "name": "stdout",
     "output_type": "stream",
     "text": [
      "Evaluation of the Polynomial-3 model:\n",
      "Polynomial Coefficients: [[ 0.00000000e+00  4.28745812e+01 -3.47793111e-01  8.15707694e-04]]\n",
      "Intercept: [-380.72943165]\n",
      "Mean Squared Error: 318637.2346877619\n",
      "Sqrt Mean Squared Error: 564.4796140586141\n",
      "r^2 score: 0.6287643043736407\n"
     ]
    }
   ],
   "source": [
    "#display the data for the polynomial-3 model\n",
    "print(\"Evaluation of the Polynomial-3 model:\")\n",
    "print(\"Polynomial Coefficients:\", poly_regression_d1.coef_)\n",
    "print(\"Intercept:\", poly_regression_d1.intercept_)\n",
    "print(\"Mean Squared Error:\", metrics.mean_squared_error(y_d,poly_regression_d1.predict(poly_features_d1)))\n",
    "print(\"Sqrt Mean Squared Error:\", np.sqrt(metrics.mean_squared_error(y_d,poly_regression_d1.predict(poly_features_d1))))\n",
    "print(\"r^2 score:\", r2_score(y_d,poly_regression_d5.predict(poly_features_d5)))"
   ]
  },
  {
   "cell_type": "markdown",
   "metadata": {},
   "source": [
    "# Other Countries"
   ]
  },
  {
   "cell_type": "code",
   "execution_count": 189,
   "metadata": {},
   "outputs": [
    {
     "name": "stderr",
     "output_type": "stream",
     "text": [
      "C:\\Users\\tanya\\Miniconda3\\lib\\site-packages\\IPython\\core\\interactiveshell.py:3063: DtypeWarning: Columns (1,24) have mixed types.Specify dtype option on import or set low_memory=False.\n",
      "  interactivity=interactivity, compiler=compiler, result=result)\n",
      "C:\\Users\\tanya\\Miniconda3\\lib\\site-packages\\ipykernel_launcher.py:17: FutureWarning: Indexing with multiple keys (implicitly converted to a tuple of keys) will be deprecated, use a list instead.\n"
     ]
    },
    {
     "data": {
      "text/html": [
       "<div>\n",
       "<style scoped>\n",
       "    .dataframe tbody tr th:only-of-type {\n",
       "        vertical-align: middle;\n",
       "    }\n",
       "\n",
       "    .dataframe tbody tr th {\n",
       "        vertical-align: top;\n",
       "    }\n",
       "\n",
       "    .dataframe thead th {\n",
       "        text-align: right;\n",
       "    }\n",
       "</style>\n",
       "<table border=\"1\" class=\"dataframe\">\n",
       "  <thead>\n",
       "    <tr style=\"text-align: right;\">\n",
       "      <th></th>\n",
       "      <th>location</th>\n",
       "      <th>date</th>\n",
       "      <th>new_cases</th>\n",
       "      <th>new_deaths</th>\n",
       "    </tr>\n",
       "  </thead>\n",
       "  <tbody>\n",
       "    <tr>\n",
       "      <th>0</th>\n",
       "      <td>Brazil</td>\n",
       "      <td>2019-12-31</td>\n",
       "      <td>0.0</td>\n",
       "      <td>0.0</td>\n",
       "    </tr>\n",
       "    <tr>\n",
       "      <th>1</th>\n",
       "      <td>Brazil</td>\n",
       "      <td>2020-01-01</td>\n",
       "      <td>0.0</td>\n",
       "      <td>0.0</td>\n",
       "    </tr>\n",
       "    <tr>\n",
       "      <th>2</th>\n",
       "      <td>Brazil</td>\n",
       "      <td>2020-01-02</td>\n",
       "      <td>0.0</td>\n",
       "      <td>0.0</td>\n",
       "    </tr>\n",
       "    <tr>\n",
       "      <th>3</th>\n",
       "      <td>Brazil</td>\n",
       "      <td>2020-01-03</td>\n",
       "      <td>0.0</td>\n",
       "      <td>0.0</td>\n",
       "    </tr>\n",
       "    <tr>\n",
       "      <th>4</th>\n",
       "      <td>Brazil</td>\n",
       "      <td>2020-01-04</td>\n",
       "      <td>0.0</td>\n",
       "      <td>0.0</td>\n",
       "    </tr>\n",
       "    <tr>\n",
       "      <th>...</th>\n",
       "      <td>...</td>\n",
       "      <td>...</td>\n",
       "      <td>...</td>\n",
       "      <td>...</td>\n",
       "    </tr>\n",
       "    <tr>\n",
       "      <th>1430</th>\n",
       "      <td>Russia</td>\n",
       "      <td>2020-10-08</td>\n",
       "      <td>11115.0</td>\n",
       "      <td>202.0</td>\n",
       "    </tr>\n",
       "    <tr>\n",
       "      <th>1431</th>\n",
       "      <td>Russia</td>\n",
       "      <td>2020-10-09</td>\n",
       "      <td>11493.0</td>\n",
       "      <td>191.0</td>\n",
       "    </tr>\n",
       "    <tr>\n",
       "      <th>1432</th>\n",
       "      <td>Russia</td>\n",
       "      <td>2020-10-10</td>\n",
       "      <td>12126.0</td>\n",
       "      <td>201.0</td>\n",
       "    </tr>\n",
       "    <tr>\n",
       "      <th>1433</th>\n",
       "      <td>Russia</td>\n",
       "      <td>2020-10-11</td>\n",
       "      <td>12846.0</td>\n",
       "      <td>197.0</td>\n",
       "    </tr>\n",
       "    <tr>\n",
       "      <th>1434</th>\n",
       "      <td>Russia</td>\n",
       "      <td>2020-10-12</td>\n",
       "      <td>13634.0</td>\n",
       "      <td>143.0</td>\n",
       "    </tr>\n",
       "  </tbody>\n",
       "</table>\n",
       "<p>1435 rows × 4 columns</p>\n",
       "</div>"
      ],
      "text/plain": [
       "     location       date  new_cases  new_deaths\n",
       "0      Brazil 2019-12-31        0.0         0.0\n",
       "1      Brazil 2020-01-01        0.0         0.0\n",
       "2      Brazil 2020-01-02        0.0         0.0\n",
       "3      Brazil 2020-01-03        0.0         0.0\n",
       "4      Brazil 2020-01-04        0.0         0.0\n",
       "...       ...        ...        ...         ...\n",
       "1430   Russia 2020-10-08    11115.0       202.0\n",
       "1431   Russia 2020-10-09    11493.0       191.0\n",
       "1432   Russia 2020-10-10    12126.0       201.0\n",
       "1433   Russia 2020-10-11    12846.0       197.0\n",
       "1434   Russia 2020-10-12    13634.0       143.0\n",
       "\n",
       "[1435 rows x 4 columns]"
      ]
     },
     "execution_count": 189,
     "metadata": {},
     "output_type": "execute_result"
    }
   ],
   "source": [
    "#import dataset\n",
    "other_country_data = pd.read_csv(\"../data/owid-covid-data.csv\")\n",
    "\n",
    "#selecting \"India\",\"Pakistan\",\"Brazil\",\"Russia\",\"Mexico\" \n",
    "other_country_data = other_country_data[other_country_data[\"location\"].isin([\"India\",\"Pakistan\",\"Brazil\",\"Russia\",\"Mexico\"])]\n",
    "\n",
    "#Fill the missing data values with 0\n",
    "other_country_data = other_country_data.fillna(0)\n",
    "\n",
    "#Convertion to date format and stripping time\n",
    "other_country_data['date'] = other_country_data.date.apply(lambda d: datetime.strptime(d, '%Y-%m-%d'))\n",
    "\n",
    "#Remove unneeded columns\n",
    "other_country_data = other_country_data[['location','date','new_cases','new_deaths']]\n",
    "\n",
    "#groupby location and date\n",
    "other_country_data = other_country_data.groupby(['location','date'])['new_cases','new_deaths'].sum().reset_index()\n",
    "\n",
    "#display dataset\n",
    "other_country_data"
   ]
  },
  {
   "cell_type": "markdown",
   "metadata": {},
   "source": [
    "## Brazil"
   ]
  },
  {
   "cell_type": "code",
   "execution_count": 190,
   "metadata": {
    "scrolled": false
   },
   "outputs": [
    {
     "data": {
      "text/html": [
       "<div>\n",
       "<style scoped>\n",
       "    .dataframe tbody tr th:only-of-type {\n",
       "        vertical-align: middle;\n",
       "    }\n",
       "\n",
       "    .dataframe tbody tr th {\n",
       "        vertical-align: top;\n",
       "    }\n",
       "\n",
       "    .dataframe thead th {\n",
       "        text-align: right;\n",
       "    }\n",
       "</style>\n",
       "<table border=\"1\" class=\"dataframe\">\n",
       "  <thead>\n",
       "    <tr style=\"text-align: right;\">\n",
       "      <th></th>\n",
       "      <th>location</th>\n",
       "      <th>date</th>\n",
       "      <th>numOfDeathsSinceDay1</th>\n",
       "      <th>numOfCasesSinceDay1</th>\n",
       "      <th>new_cases</th>\n",
       "      <th>new_deaths</th>\n",
       "    </tr>\n",
       "  </thead>\n",
       "  <tbody>\n",
       "    <tr>\n",
       "      <th>282</th>\n",
       "      <td>Brazil</td>\n",
       "      <td>2020-10-08</td>\n",
       "      <td>204</td>\n",
       "      <td>225</td>\n",
       "      <td>31553.0</td>\n",
       "      <td>734.0</td>\n",
       "    </tr>\n",
       "    <tr>\n",
       "      <th>283</th>\n",
       "      <td>Brazil</td>\n",
       "      <td>2020-10-09</td>\n",
       "      <td>205</td>\n",
       "      <td>226</td>\n",
       "      <td>27750.0</td>\n",
       "      <td>729.0</td>\n",
       "    </tr>\n",
       "    <tr>\n",
       "      <th>284</th>\n",
       "      <td>Brazil</td>\n",
       "      <td>2020-10-10</td>\n",
       "      <td>206</td>\n",
       "      <td>227</td>\n",
       "      <td>27444.0</td>\n",
       "      <td>682.0</td>\n",
       "    </tr>\n",
       "    <tr>\n",
       "      <th>285</th>\n",
       "      <td>Brazil</td>\n",
       "      <td>2020-10-11</td>\n",
       "      <td>207</td>\n",
       "      <td>228</td>\n",
       "      <td>26749.0</td>\n",
       "      <td>559.0</td>\n",
       "    </tr>\n",
       "    <tr>\n",
       "      <th>286</th>\n",
       "      <td>Brazil</td>\n",
       "      <td>2020-10-12</td>\n",
       "      <td>208</td>\n",
       "      <td>229</td>\n",
       "      <td>12345.0</td>\n",
       "      <td>290.0</td>\n",
       "    </tr>\n",
       "  </tbody>\n",
       "</table>\n",
       "</div>"
      ],
      "text/plain": [
       "    location       date  numOfDeathsSinceDay1  numOfCasesSinceDay1  new_cases  \\\n",
       "282   Brazil 2020-10-08                   204                  225    31553.0   \n",
       "283   Brazil 2020-10-09                   205                  226    27750.0   \n",
       "284   Brazil 2020-10-10                   206                  227    27444.0   \n",
       "285   Brazil 2020-10-11                   207                  228    26749.0   \n",
       "286   Brazil 2020-10-12                   208                  229    12345.0   \n",
       "\n",
       "     new_deaths  \n",
       "282       734.0  \n",
       "283       729.0  \n",
       "284       682.0  \n",
       "285       559.0  \n",
       "286       290.0  "
      ]
     },
     "execution_count": 190,
     "metadata": {},
     "output_type": "execute_result"
    }
   ],
   "source": [
    "#obtain the data for the country of brazil\n",
    "df_brazil = other_country_data[other_country_data.location =='Brazil']\n",
    "\n",
    "#obtain the date of the first case\n",
    "first_case_index = df_brazil['new_cases'].ne(0).idxmax() \n",
    "\n",
    "#obtain the date of the first death\n",
    "first_death_index = df_brazil['new_deaths'].ne(0).idxmax() \n",
    "\n",
    "#list to hold the cases since day 1\n",
    "numOfCasesSinceDay1 = []\n",
    "\n",
    "#list to hold the deaths since day 1\n",
    "numOfDeathsSinceDay1 = []\n",
    "\n",
    "#loop to compute the number of cases since day 1\n",
    "counter = 1\n",
    "for i, index in enumerate(range(len(df_brazil))):\n",
    "    if i <= first_case_index:\n",
    "        numOfCasesSinceDay1.insert(index, 0) \n",
    "    else:\n",
    "        numOfCasesSinceDay1.insert(index, counter) \n",
    "        counter = counter+1\n",
    "\n",
    "#loop to compute the number of deaths since day 1\n",
    "counter=1\n",
    "for i,index in enumerate(range(len(df_brazil))):\n",
    "    if i<=first_death_index:\n",
    "        numOfDeathsSinceDay1.insert(index, 0) \n",
    "    else:\n",
    "        numOfDeathsSinceDay1.insert(index, counter) \n",
    "        counter = counter+1\n",
    "\n",
    "#insert list into dataset as a column\n",
    "df_brazil.insert(2, \"numOfCasesSinceDay1\", numOfCasesSinceDay1)\n",
    "\n",
    "#insert list into dataset as a column   \n",
    "df_brazil.insert(2, \"numOfDeathsSinceDay1\", numOfDeathsSinceDay1)\n",
    "\n",
    "#print dataset\n",
    "df_brazil.tail()"
   ]
  },
  {
   "cell_type": "markdown",
   "metadata": {},
   "source": [
    "### Linear Model Cases"
   ]
  },
  {
   "cell_type": "code",
   "execution_count": 191,
   "metadata": {
    "scrolled": true
   },
   "outputs": [
    {
     "name": "stdout",
     "output_type": "stream",
     "text": [
      "Evaluation of the linear model:\n",
      "Mean Absolute Error: 7860.373648972207\n",
      "Mean Squared Error: 129252184.37755273\n",
      "Sqrt of Mean Squared Error: 11368.9130693111\n",
      "r^2 score: 0.6235803700082017\n",
      "\n",
      "Predicted Deaths:\n",
      "[235] - [45713.36546531]\n",
      "[236] - [45908.56745725]\n",
      "[237] - [46103.76944918]\n",
      "[238] - [46298.97144112]\n",
      "[239] - [46494.17343306]\n",
      "[240] - [46689.375425]\n",
      "[241] - [46884.57741693]\n"
     ]
    }
   ],
   "source": [
    "#create second dataframe of just the cases data\n",
    "df = df_brazil[['numOfCasesSinceDay1','new_cases']]\n",
    "\n",
    "#obtain x and y variables for cases\n",
    "X = df.iloc[:,0].values.reshape(-1, 1) \n",
    "y = df.iloc[:,1].values.reshape(-1, 1) \n",
    "\n",
    "#make linear regression model and fit the cases data\n",
    "lm = LinearRegression()\n",
    "lm.fit(X, y)\n",
    "\n",
    "#predict the x variable data using the linear regression model\n",
    "cases_prediction = lm.predict(X)\n",
    "\n",
    "#display data for the linear model\n",
    "print(\"Evaluation of the linear model:\")\n",
    "print(\"Mean Absolute Error:\", metrics.mean_absolute_error(y,cases_prediction))\n",
    "print(\"Mean Squared Error:\", metrics.mean_squared_error(y,cases_prediction))\n",
    "print(\"Sqrt of Mean Squared Error:\", np.sqrt(metrics.mean_squared_error(y,cases_prediction)))\n",
    "print(\"r^2 score:\", r2_score(y,cases_prediction))\n",
    "\n",
    "#predict the future deaths\n",
    "future_cases = lm.predict(future_dates)\n",
    "\n",
    "#display the predicted cases for the future dates\n",
    "print(\"\\nPredicted Deaths:\")\n",
    "for i in range(0, len(future_dates)):\n",
    "    print(future_dates[i], '-', future_cases[i])"
   ]
  },
  {
   "cell_type": "code",
   "execution_count": 192,
   "metadata": {},
   "outputs": [
    {
     "data": {
      "image/png": "[encoded data removed]",
      "text/plain": [
       "<Figure size 432x288 with 1 Axes>"
      ]
     },
     "metadata": {
      "needs_background": "light"
     },
     "output_type": "display_data"
    }
   ],
   "source": [
    "#display cases and the linear regression model\n",
    "def viz_linear():\n",
    "    plt.scatter(X, y, color='red')\n",
    "    plt.plot(X, lm.predict(X), color='blue')\n",
    "    plt.title('Linear Regression')\n",
    "    plt.xlabel('Days from first case')\n",
    "    plt.ylabel('Cases')\n",
    "    plt.show()\n",
    "    return\n",
    "viz_linear()"
   ]
  },
  {
   "cell_type": "markdown",
   "metadata": {},
   "source": [
    "### Polynomial Model Cases"
   ]
  },
  {
   "cell_type": "code",
   "execution_count": 193,
   "metadata": {},
   "outputs": [
    {
     "data": {
      "text/plain": [
       "LinearRegression(copy_X=True, fit_intercept=True, n_jobs=None, normalize=False)"
      ]
     },
     "execution_count": 193,
     "metadata": {},
     "output_type": "execute_result"
    }
   ],
   "source": [
    "#create regression for a polynomial of degree 2\n",
    "poly = PolynomialFeatures(degree = 2)\n",
    "poly_features = poly.fit_transform(X)\n",
    "poly.fit(X,y)\n",
    "poly_regression = LinearRegression()\n",
    "poly_regression.fit(poly_features,y)\n",
    "\n",
    "#create regression for a polynomial of degree 3\n",
    "poly3 = PolynomialFeatures(degree = 3)\n",
    "poly_features3 = poly3.fit_transform(X)\n",
    "poly3.fit(X,y)\n",
    "poly_regression3 = LinearRegression()\n",
    "poly_regression3.fit(poly_features3,y)\n",
    "\n",
    "#create regression for a polynomial of degree 4\n",
    "poly4 = PolynomialFeatures(degree = 4)\n",
    "poly_features4 = poly4.fit_transform(X)\n",
    "poly3.fit(X,y)\n",
    "poly_regression4 = LinearRegression()\n",
    "poly_regression4.fit(poly_features4,y)"
   ]
  },
  {
   "cell_type": "code",
   "execution_count": 194,
   "metadata": {},
   "outputs": [
    {
     "data": {
      "image/png": "[encoded data removed]",
      "text/plain": [
       "<Figure size 432x288 with 1 Axes>"
      ]
     },
     "metadata": {
      "needs_background": "light"
     },
     "output_type": "display_data"
    }
   ],
   "source": [
    "#ploting the data  for polynomial regression \n",
    "plt.scatter(X, y, color='red')\n",
    "plt.plot(X,poly_regression.predict(poly_features),color='blue', label = \"Degree 2\")\n",
    "plt.plot(X,poly_regression3.predict(poly_features3),color='green', label = \"Degree 3\")\n",
    "plt.plot(X,poly_regression4.predict(poly_features4),color='orange', label = \"Degree 4\")\n",
    "plt.legend(loc=\"upper left\")\n",
    "plt.title(\"Days since case 1 vs cases\")\n",
    "plt.xlabel(\"Days \")\n",
    "plt.ylabel(\"Cases\")\n",
    "plt.show()"
   ]
  },
  {
   "cell_type": "code",
   "execution_count": 195,
   "metadata": {},
   "outputs": [
    {
     "name": "stdout",
     "output_type": "stream",
     "text": [
      "Evaluation of the Polynomial-3 model:\n",
      "Polynomial Coefficients: [[ 0.00000000e+00 -2.14115527e+02  6.95874887e+00 -2.50131591e-02]]\n",
      "Polynomial Intercept: [148.33674348]\n",
      "Mean Squared Error: 69480721.6080889\n",
      "Sqrt of Mean Squared Error: 8335.509678963183\n",
      "r^2 score: 0.7976521043320788\n",
      "\n",
      "Predicted Cases:\n",
      "[235] - [9510.44152068]\n",
      "[236] - [8412.18228094]\n",
      "[237] - [7292.42190561]\n",
      "[238] - [6151.01031573]\n",
      "[239] - [4987.79743236]\n",
      "[240] - [3802.63317653]\n",
      "[241] - [2595.36746928]\n"
     ]
    }
   ],
   "source": [
    "#displaying data for the polynomial model\n",
    "print(\"Evaluation of the Polynomial-3 model:\")\n",
    "print(\"Polynomial Coefficients:\", poly_regression3.coef_)\n",
    "print(\"Polynomial Intercept:\", poly_regression3.intercept_)\n",
    "print(\"Mean Squared Error:\", metrics.mean_squared_error(y,poly_regression3.predict(poly_features3)))\n",
    "print(\"Sqrt of Mean Squared Error:\", np.sqrt(metrics.mean_squared_error(y,poly_regression3.predict(poly_features3))))\n",
    "print(\"r^2 score:\", r2_score(y,poly_regression3.predict(poly_features3)))\n",
    "\n",
    "#predict future cases\n",
    "poly_features_f = poly3.fit_transform(future_dates)\n",
    "predicted_dates = poly_regression3.predict(poly_features_f)\n",
    "\n",
    "#display the predicted cases for the future dates\n",
    "print(\"\\nPredicted Cases:\")\n",
    "for i in range(0, len(future_dates)):\n",
    "    print(future_dates[i], '-', predicted_dates[i])"
   ]
  },
  {
   "cell_type": "markdown",
   "metadata": {},
   "source": [
    "### Linear Model Deaths"
   ]
  },
  {
   "cell_type": "code",
   "execution_count": 196,
   "metadata": {
    "scrolled": true
   },
   "outputs": [
    {
     "name": "stdout",
     "output_type": "stream",
     "text": [
      "Evaluation of the linear model:\n",
      "Mean Absolute Error: 268.54140164738453\n",
      "Mean Squared Error: 113158.52092694462\n",
      "Sqrt of Mean Squared Error: 336.39042930342805\n",
      "r^2 score: 0.5072874866633752\n",
      "\n",
      "Predicted Deaths:\n",
      "[235] - [1309.69937677]\n",
      "[236] - [1314.63047833]\n",
      "[237] - [1319.56157988]\n",
      "[238] - [1324.49268144]\n",
      "[239] - [1329.423783]\n",
      "[240] - [1334.35488456]\n",
      "[241] - [1339.28598612]\n"
     ]
    }
   ],
   "source": [
    "#create second dataframe of just the deaths data\n",
    "df = df_brazil[['numOfDeathsSinceDay1','new_deaths']]\n",
    "\n",
    "#obtain x and y variables for deaths\n",
    "X = df.iloc[:,0].values.reshape(-1, 1) \n",
    "y = df.iloc[:,1].values.reshape(-1, 1) \n",
    "\n",
    "#make linear regression model and fit the deaths data\n",
    "lm = LinearRegression()\n",
    "lm.fit(X, y)\n",
    "\n",
    "#predict the x variable data using the linear regression model\n",
    "deaths_prediction = lm.predict(X)\n",
    "\n",
    "#display data for the linear model\n",
    "print(\"Evaluation of the linear model:\")\n",
    "print(\"Mean Absolute Error:\", metrics.mean_absolute_error(y,deaths_prediction))\n",
    "print(\"Mean Squared Error:\", metrics.mean_squared_error(y,deaths_prediction))\n",
    "print(\"Sqrt of Mean Squared Error:\", np.sqrt(metrics.mean_squared_error(y,deaths_prediction)))\n",
    "print(\"r^2 score:\", r2_score(y,deaths_prediction))\n",
    "\n",
    "#predict the future deaths\n",
    "future_deaths = lm.predict(future_dates)\n",
    "\n",
    "#display the predicted deaths for the future dates\n",
    "print(\"\\nPredicted Deaths:\")\n",
    "for i in range(0, len(future_dates)):\n",
    "    print(future_dates[i], '-', future_deaths[i])"
   ]
  },
  {
   "cell_type": "code",
   "execution_count": 197,
   "metadata": {},
   "outputs": [
    {
     "data": {
      "image/png": "[encoded data removed]",
      "text/plain": [
       "<Figure size 432x288 with 1 Axes>"
      ]
     },
     "metadata": {
      "needs_background": "light"
     },
     "output_type": "display_data"
    }
   ],
   "source": [
    "#display deaths and the linear regression model\n",
    "def viz_linear():\n",
    "    plt.scatter(X, y, color='red')\n",
    "    plt.plot(X, lm.predict(X), color='blue')\n",
    "    plt.title('Linear Regression')\n",
    "    plt.xlabel('Days from first death')\n",
    "    plt.ylabel('Deaths')\n",
    "    plt.show()\n",
    "    return\n",
    "viz_linear()"
   ]
  },
  {
   "cell_type": "markdown",
   "metadata": {},
   "source": [
    "### Polynomial Model Deaths"
   ]
  },
  {
   "cell_type": "code",
   "execution_count": 198,
   "metadata": {},
   "outputs": [
    {
     "data": {
      "text/plain": [
       "LinearRegression(copy_X=True, fit_intercept=True, n_jobs=None, normalize=False)"
      ]
     },
     "execution_count": 198,
     "metadata": {},
     "output_type": "execute_result"
    }
   ],
   "source": [
    "#create regression for a polynomial of degree 2\n",
    "poly = PolynomialFeatures(degree = 2)\n",
    "poly_features = poly.fit_transform(X)\n",
    "poly.fit(X,y)\n",
    "poly_regression = LinearRegression()\n",
    "poly_regression.fit(poly_features,y)\n",
    "\n",
    "#create regression for a polynomial of degree 3\n",
    "poly3 = PolynomialFeatures(degree = 3)\n",
    "poly_features3 = poly3.fit_transform(X)\n",
    "poly3.fit(X,y)\n",
    "poly_regression3 = LinearRegression()\n",
    "poly_regression3.fit(poly_features3,y)\n",
    "\n",
    "#create regression for a polynomial of degree 4\n",
    "poly4 = PolynomialFeatures(degree = 4)\n",
    "poly_features4 = poly4.fit_transform(X)\n",
    "poly3.fit(X,y)\n",
    "poly_regression4 = LinearRegression()\n",
    "poly_regression4.fit(poly_features4,y)"
   ]
  },
  {
   "cell_type": "code",
   "execution_count": 199,
   "metadata": {},
   "outputs": [
    {
     "data": {
      "image/png": "[encoded data removed]",
      "text/plain": [
       "<Figure size 432x288 with 1 Axes>"
      ]
     },
     "metadata": {
      "needs_background": "light"
     },
     "output_type": "display_data"
    }
   ],
   "source": [
    "#ploting the data  for polynomial regression \n",
    "plt.scatter(X, y, color='red')\n",
    "plt.plot(X,poly_regression.predict(poly_features),color='blue', label = \"Degree 2\")\n",
    "plt.plot(X,poly_regression3.predict(poly_features3),color='green', label = \"Degree 3\")\n",
    "plt.plot(X,poly_regression4.predict(poly_features4),color='orange', label = \"Degree 4\")\n",
    "plt.legend(loc=\"upper left\")\n",
    "plt.title(\"Days since death 1 vs cases\")\n",
    "plt.xlabel(\"Days \")\n",
    "plt.ylabel(\"Deaths\")\n",
    "plt.show()"
   ]
  },
  {
   "cell_type": "code",
   "execution_count": 200,
   "metadata": {},
   "outputs": [
    {
     "name": "stdout",
     "output_type": "stream",
     "text": [
      "Evaluation of the Polynomial-3 model:\n",
      "Polynomial Coefficients: [[ 0.00000000e+00  1.43541592e+01 -2.53456150e-02 -1.57654134e-04]]\n",
      "Polynomial Intercept: [-36.42131662]\n",
      "Mean Squared Error: 46073.49442781997\n",
      "Sqrt of Mean Squared Error: 214.6473722825881\n",
      "r^2 score: 0.7993877345534769\n",
      "\n",
      "Predicted Cases:\n",
      "[235] - [-108.92113869]\n",
      "[236] - [-132.73541662]\n",
      "[237] - [-156.82362402]\n",
      "[238] - [-181.18670684]\n",
      "[239] - [-205.82561099]\n",
      "[240] - [-230.74128239]\n",
      "[241] - [-255.93466698]\n"
     ]
    }
   ],
   "source": [
    "#displaying data for the polynomial model\n",
    "print(\"Evaluation of the Polynomial-3 model:\")\n",
    "print(\"Polynomial Coefficients:\", poly_regression3.coef_)\n",
    "print(\"Polynomial Intercept:\", poly_regression3.intercept_)\n",
    "print(\"Mean Squared Error:\", metrics.mean_squared_error(y,poly_regression3.predict(poly_features3)))\n",
    "print(\"Sqrt of Mean Squared Error:\", np.sqrt(metrics.mean_squared_error(y,poly_regression3.predict(poly_features3))))\n",
    "print(\"r^2 score:\", r2_score(y,poly_regression3.predict(poly_features3)))\n",
    "\n",
    "#predict future cases\n",
    "poly_features_f = poly3.fit_transform(future_dates)\n",
    "predicted_dates = poly_regression3.predict(poly_features_f)\n",
    "\n",
    "#display the predicted cases for the future dates\n",
    "print(\"\\nPredicted Cases:\")\n",
    "for i in range(0, len(future_dates)):\n",
    "    print(future_dates[i], '-', predicted_dates[i])"
   ]
  },
  {
   "cell_type": "markdown",
   "metadata": {},
   "source": [
    "## Mexico"
   ]
  },
  {
   "cell_type": "code",
   "execution_count": 201,
   "metadata": {
    "scrolled": false
   },
   "outputs": [
    {
     "data": {
      "text/html": [
       "<div>\n",
       "<style scoped>\n",
       "    .dataframe tbody tr th:only-of-type {\n",
       "        vertical-align: middle;\n",
       "    }\n",
       "\n",
       "    .dataframe tbody tr th {\n",
       "        vertical-align: top;\n",
       "    }\n",
       "\n",
       "    .dataframe thead th {\n",
       "        text-align: right;\n",
       "    }\n",
       "</style>\n",
       "<table border=\"1\" class=\"dataframe\">\n",
       "  <thead>\n",
       "    <tr style=\"text-align: right;\">\n",
       "      <th></th>\n",
       "      <th>index</th>\n",
       "      <th>location</th>\n",
       "      <th>numOfDeathsSinceDay1</th>\n",
       "      <th>numOfCasesSinceDay1</th>\n",
       "      <th>date</th>\n",
       "      <th>new_cases</th>\n",
       "      <th>new_deaths</th>\n",
       "    </tr>\n",
       "  </thead>\n",
       "  <tbody>\n",
       "    <tr>\n",
       "      <th>282</th>\n",
       "      <td>856</td>\n",
       "      <td>Mexico</td>\n",
       "      <td>201</td>\n",
       "      <td>222</td>\n",
       "      <td>2020-10-08</td>\n",
       "      <td>4462.0</td>\n",
       "      <td>369.0</td>\n",
       "    </tr>\n",
       "    <tr>\n",
       "      <th>283</th>\n",
       "      <td>857</td>\n",
       "      <td>Mexico</td>\n",
       "      <td>202</td>\n",
       "      <td>223</td>\n",
       "      <td>2020-10-09</td>\n",
       "      <td>30468.0</td>\n",
       "      <td>3013.0</td>\n",
       "    </tr>\n",
       "    <tr>\n",
       "      <th>284</th>\n",
       "      <td>858</td>\n",
       "      <td>Mexico</td>\n",
       "      <td>203</td>\n",
       "      <td>224</td>\n",
       "      <td>2020-10-10</td>\n",
       "      <td>5263.0</td>\n",
       "      <td>411.0</td>\n",
       "    </tr>\n",
       "    <tr>\n",
       "      <th>285</th>\n",
       "      <td>859</td>\n",
       "      <td>Mexico</td>\n",
       "      <td>204</td>\n",
       "      <td>225</td>\n",
       "      <td>2020-10-11</td>\n",
       "      <td>4577.0</td>\n",
       "      <td>135.0</td>\n",
       "    </tr>\n",
       "    <tr>\n",
       "      <th>286</th>\n",
       "      <td>860</td>\n",
       "      <td>Mexico</td>\n",
       "      <td>205</td>\n",
       "      <td>226</td>\n",
       "      <td>2020-10-12</td>\n",
       "      <td>0.0</td>\n",
       "      <td>0.0</td>\n",
       "    </tr>\n",
       "  </tbody>\n",
       "</table>\n",
       "</div>"
      ],
      "text/plain": [
       "     index location  numOfDeathsSinceDay1  numOfCasesSinceDay1       date  \\\n",
       "282    856   Mexico                   201                  222 2020-10-08   \n",
       "283    857   Mexico                   202                  223 2020-10-09   \n",
       "284    858   Mexico                   203                  224 2020-10-10   \n",
       "285    859   Mexico                   204                  225 2020-10-11   \n",
       "286    860   Mexico                   205                  226 2020-10-12   \n",
       "\n",
       "     new_cases  new_deaths  \n",
       "282     4462.0       369.0  \n",
       "283    30468.0      3013.0  \n",
       "284     5263.0       411.0  \n",
       "285     4577.0       135.0  \n",
       "286        0.0         0.0  "
      ]
     },
     "execution_count": 201,
     "metadata": {},
     "output_type": "execute_result"
    }
   ],
   "source": [
    "#obtain the data for the country of brazil\n",
    "df_mexico = other_country_data[other_country_data.location =='Mexico'].reset_index()\n",
    "\n",
    "#obtain the date of the first case\n",
    "first_case_index = df_mexico['new_cases'].ne(0).idxmax() \n",
    "\n",
    "#obtain the date of the first death\n",
    "first_death_index= df_mexico['new_deaths'].ne(0).idxmax() \n",
    "\n",
    "#list to hold the cases since day 1\n",
    "numOfCasesSinceDay1=[]\n",
    "\n",
    "#list to hold the deaths since day 1\n",
    "numOfDeathsSinceDay1=[]\n",
    "\n",
    "#loop to compute the number of cases since day 1\n",
    "counter=1\n",
    "for i,index in enumerate(range(len(df_mexico))):\n",
    "    if i<=first_case_index:\n",
    "        numOfCasesSinceDay1.insert(index, 0) \n",
    "    else:\n",
    "        numOfCasesSinceDay1.insert(index, counter) \n",
    "        counter = counter+1\n",
    "\n",
    "#loop to compute the number of deaths since day 1\n",
    "counter=1\n",
    "for i,index in enumerate(range(len(df_mexico))):\n",
    "    if i<=first_death_index:\n",
    "        numOfDeathsSinceDay1.insert(index, 0) \n",
    "    else:\n",
    "        numOfDeathsSinceDay1.insert(index, counter) \n",
    "        counter = counter+1\n",
    "\n",
    "#insert list into dataset as a column\n",
    "df_mexico.insert(2, \"numOfCasesSinceDay1\", numOfCasesSinceDay1)\n",
    "\n",
    "#insert list into dataset as a column   \n",
    "df_mexico.insert(2, \"numOfDeathsSinceDay1\", numOfDeathsSinceDay1)\n",
    "\n",
    "#print dataset\n",
    "df_mexico.tail()"
   ]
  },
  {
   "cell_type": "markdown",
   "metadata": {},
   "source": [
    "### Linear Model Cases"
   ]
  },
  {
   "cell_type": "code",
   "execution_count": 202,
   "metadata": {
    "scrolled": true
   },
   "outputs": [
    {
     "name": "stdout",
     "output_type": "stream",
     "text": [
      "Evaluation of the linear model:\n",
      "Mean Absolute Error: 998.2154840247958\n",
      "Mean Squared Error: 3757978.5153419105\n",
      "Sqrt of Mean Squared Error: 1938.5506223315167\n",
      "r^2 score: 0.5991740650353661\n",
      "\n",
      "Predicted Deaths:\n",
      "[235] - [7488.12685351]\n",
      "[236] - [7520.06360057]\n",
      "[237] - [7552.00034764]\n",
      "[238] - [7583.93709471]\n",
      "[239] - [7615.87384178]\n",
      "[240] - [7647.81058884]\n",
      "[241] - [7679.74733591]\n"
     ]
    }
   ],
   "source": [
    "#create second dataframe of just the cases data\n",
    "df = df_mexico[['numOfCasesSinceDay1','new_cases']]\n",
    "\n",
    "#obtain x and y variables for cases\n",
    "X = df.iloc[:,0].values.reshape(-1, 1) \n",
    "y = df.iloc[:,1].values.reshape(-1, 1) \n",
    "\n",
    "#make linear regression model and fit the cases data\n",
    "lm = LinearRegression()\n",
    "lm.fit(X, y)\n",
    "\n",
    "#predict the x variable data using the linear regression model\n",
    "cases_prediction = lm.predict(X)\n",
    "\n",
    "#display data for the linear model\n",
    "print(\"Evaluation of the linear model:\")\n",
    "print(\"Mean Absolute Error:\", metrics.mean_absolute_error(y,cases_prediction))\n",
    "print(\"Mean Squared Error:\", metrics.mean_squared_error(y,cases_prediction))\n",
    "print(\"Sqrt of Mean Squared Error:\", np.sqrt(metrics.mean_squared_error(y,cases_prediction)))\n",
    "print(\"r^2 score:\", r2_score(y,cases_prediction))\n",
    "\n",
    "#predict the future deaths\n",
    "future_cases = lm.predict(future_dates)\n",
    "\n",
    "#display the predicted cases for the future dates\n",
    "print(\"\\nPredicted Deaths:\")\n",
    "for i in range(0, len(future_dates)):\n",
    "    print(future_dates[i], '-', future_cases[i])"
   ]
  },
  {
   "cell_type": "code",
   "execution_count": 203,
   "metadata": {},
   "outputs": [
    {
     "data": {
      "image/png": "[encoded data removed]",
      "text/plain": [
       "<Figure size 432x288 with 1 Axes>"
      ]
     },
     "metadata": {
      "needs_background": "light"
     },
     "output_type": "display_data"
    }
   ],
   "source": [
    "#display cases and the linear regression model\n",
    "def viz_linear():\n",
    "    plt.scatter(X, y, color='red')\n",
    "    plt.plot(X, lm.predict(X), color='blue')\n",
    "    plt.title('Linear Regression')\n",
    "    plt.xlabel('Days from first case')\n",
    "    plt.ylabel('Cases')\n",
    "    plt.show()\n",
    "    return\n",
    "viz_linear()"
   ]
  },
  {
   "cell_type": "markdown",
   "metadata": {},
   "source": [
    "### Polynomial Model Cases"
   ]
  },
  {
   "cell_type": "code",
   "execution_count": 204,
   "metadata": {},
   "outputs": [
    {
     "data": {
      "text/plain": [
       "LinearRegression(copy_X=True, fit_intercept=True, n_jobs=None, normalize=False)"
      ]
     },
     "execution_count": 204,
     "metadata": {},
     "output_type": "execute_result"
    }
   ],
   "source": [
    "#create regression for a polynomial of degree 2\n",
    "poly = PolynomialFeatures(degree = 2)\n",
    "poly_features = poly.fit_transform(X)\n",
    "poly.fit(X,y)\n",
    "poly_regression = LinearRegression()\n",
    "poly_regression.fit(poly_features,y)\n",
    "\n",
    "#create regression for a polynomial of degree 3\n",
    "poly3 = PolynomialFeatures(degree = 3)\n",
    "poly_features3 = poly3.fit_transform(X)\n",
    "poly3.fit(X,y)\n",
    "poly_regression3 = LinearRegression()\n",
    "poly_regression3.fit(poly_features3,y)\n",
    "\n",
    "#create regression for a polynomial of degree 4\n",
    "poly4 = PolynomialFeatures(degree = 4)\n",
    "poly_features4 = poly4.fit_transform(X)\n",
    "poly3.fit(X,y)\n",
    "poly_regression4 = LinearRegression()\n",
    "poly_regression4.fit(poly_features4,y)"
   ]
  },
  {
   "cell_type": "code",
   "execution_count": 205,
   "metadata": {},
   "outputs": [
    {
     "data": {
      "image/png": "[encoded data removed]",
      "text/plain": [
       "<Figure size 432x288 with 1 Axes>"
      ]
     },
     "metadata": {
      "needs_background": "light"
     },
     "output_type": "display_data"
    }
   ],
   "source": [
    "#ploting the data  for polynomial regression \n",
    "plt.scatter(X, y, color='red')\n",
    "plt.plot(X,poly_regression.predict(poly_features),color='blue', label = \"Degree 2\")\n",
    "plt.plot(X,poly_regression3.predict(poly_features3),color='green', label = \"Degree 3\")\n",
    "plt.plot(X,poly_regression4.predict(poly_features4),color='orange', label = \"Degree 4\")\n",
    "plt.legend(loc=\"upper left\")\n",
    "plt.title(\"Days since case 1 vs cases\")\n",
    "plt.xlabel(\"Days \")\n",
    "plt.ylabel(\"Cases\")\n",
    "plt.show()"
   ]
  },
  {
   "cell_type": "code",
   "execution_count": 206,
   "metadata": {},
   "outputs": [
    {
     "name": "stdout",
     "output_type": "stream",
     "text": [
      "Evaluation of the Polynomial-3 model:\n",
      "Polynomial Coefficients: [[ 0.         -1.54422389  0.6445568  -0.00245038]]\n",
      "Polynomial Intercept: [-105.70175209]\n",
      "Mean Squared Error: 3118465.4751153397\n",
      "Sqrt of Mean Squared Error: 1765.9177430207046\n",
      "r^2 score: 0.6673845168046916\n",
      "\n",
      "Predicted Cases:\n",
      "[235] - [3326.30255117]\n",
      "[236] - [3220.64755796]\n",
      "[237] - [3112.81193729]\n",
      "[238] - [3002.78098689]\n",
      "[239] - [2890.54000447]\n",
      "[240] - [2776.07428772]\n",
      "[241] - [2659.36913435]\n"
     ]
    }
   ],
   "source": [
    "#displaying data for the polynomial model\n",
    "print(\"Evaluation of the Polynomial-3 model:\")\n",
    "print(\"Polynomial Coefficients:\", poly_regression3.coef_)\n",
    "print(\"Polynomial Intercept:\", poly_regression3.intercept_)\n",
    "print(\"Mean Squared Error:\", metrics.mean_squared_error(y,poly_regression3.predict(poly_features3)))\n",
    "print(\"Sqrt of Mean Squared Error:\", np.sqrt(metrics.mean_squared_error(y,poly_regression3.predict(poly_features3))))\n",
    "print(\"r^2 score:\", r2_score(y,poly_regression3.predict(poly_features3)))\n",
    "\n",
    "#predict future cases\n",
    "poly_features_f = poly3.fit_transform(future_dates)\n",
    "predicted_dates = poly_regression3.predict(poly_features_f)\n",
    "\n",
    "#display the predicted cases for the future dates\n",
    "print(\"\\nPredicted Cases:\")\n",
    "for i in range(0, len(future_dates)):\n",
    "    print(future_dates[i], '-', predicted_dates[i])"
   ]
  },
  {
   "cell_type": "markdown",
   "metadata": {},
   "source": [
    "### Linear Model Deaths"
   ]
  },
  {
   "cell_type": "code",
   "execution_count": 207,
   "metadata": {
    "scrolled": true
   },
   "outputs": [
    {
     "name": "stdout",
     "output_type": "stream",
     "text": [
      "Evaluation of the linear model:\n",
      "Mean Absolute Error: 156.63687945846632\n",
      "Mean Squared Error: 61551.648459548815\n",
      "Sqrt of Mean Squared Error: 248.09604684385604\n",
      "r^2 score: 0.44746476507134914\n",
      "\n",
      "Predicted Deaths:\n",
      "[235] - [819.03290859]\n",
      "[236] - [822.30121087]\n",
      "[237] - [825.56951316]\n",
      "[238] - [828.83781544]\n",
      "[239] - [832.10611772]\n",
      "[240] - [835.37442]\n",
      "[241] - [838.64272229]\n"
     ]
    }
   ],
   "source": [
    "#create second dataframe of just the deaths data\n",
    "df = df_mexico[['numOfDeathsSinceDay1','new_deaths']]\n",
    "\n",
    "#obtain x and y variables for deaths\n",
    "X = df.iloc[:,0].values.reshape(-1, 1) \n",
    "y = df.iloc[:,1].values.reshape(-1, 1) \n",
    "\n",
    "#make linear regression model and fit the deaths data\n",
    "lm = LinearRegression()\n",
    "lm.fit(X, y)\n",
    "\n",
    "#predict the x variable data using the linear regression model\n",
    "deaths_prediction = lm.predict(X)\n",
    "\n",
    "#display data for the linear model\n",
    "print(\"Evaluation of the linear model:\")\n",
    "print(\"Mean Absolute Error:\", metrics.mean_absolute_error(y,deaths_prediction))\n",
    "print(\"Mean Squared Error:\", metrics.mean_squared_error(y,deaths_prediction))\n",
    "print(\"Sqrt of Mean Squared Error:\", np.sqrt(metrics.mean_squared_error(y,deaths_prediction)))\n",
    "print(\"r^2 score:\", r2_score(y,deaths_prediction))\n",
    "\n",
    "#predict the future deaths\n",
    "future_deaths = lm.predict(future_dates)\n",
    "\n",
    "#display the predicted deaths for the future dates\n",
    "print(\"\\nPredicted Deaths:\")\n",
    "for i in range(0, len(future_dates)):\n",
    "    print(future_dates[i], '-', future_deaths[i])"
   ]
  },
  {
   "cell_type": "code",
   "execution_count": 208,
   "metadata": {},
   "outputs": [
    {
     "data": {
      "image/png": "[encoded data removed]",
      "text/plain": [
       "<Figure size 432x288 with 1 Axes>"
      ]
     },
     "metadata": {
      "needs_background": "light"
     },
     "output_type": "display_data"
    }
   ],
   "source": [
    "#display deaths and the linear regression model\n",
    "def viz_linear():\n",
    "    plt.scatter(X, y, color='red')\n",
    "    plt.plot(X, lm.predict(X), color='blue')\n",
    "    plt.title('Linear Regression')\n",
    "    plt.xlabel('Days from first death')\n",
    "    plt.ylabel('Deaths')\n",
    "    plt.show()\n",
    "    return\n",
    "viz_linear()"
   ]
  },
  {
   "cell_type": "markdown",
   "metadata": {},
   "source": [
    "### Polynomial Model Deaths"
   ]
  },
  {
   "cell_type": "code",
   "execution_count": 209,
   "metadata": {},
   "outputs": [
    {
     "data": {
      "text/plain": [
       "LinearRegression(copy_X=True, fit_intercept=True, n_jobs=None, normalize=False)"
      ]
     },
     "execution_count": 209,
     "metadata": {},
     "output_type": "execute_result"
    }
   ],
   "source": [
    "#create regression for a polynomial of degree 2\n",
    "poly = PolynomialFeatures(degree = 2)\n",
    "poly_features = poly.fit_transform(X)\n",
    "poly.fit(X,y)\n",
    "poly_regression = LinearRegression()\n",
    "poly_regression.fit(poly_features,y)\n",
    "\n",
    "#create regression for a polynomial of degree 3\n",
    "poly3 = PolynomialFeatures(degree = 3)\n",
    "poly_features3 = poly3.fit_transform(X)\n",
    "poly3.fit(X,y)\n",
    "poly_regression3 = LinearRegression()\n",
    "poly_regression3.fit(poly_features3,y)\n",
    "\n",
    "#create regression for a polynomial of degree 4\n",
    "poly4 = PolynomialFeatures(degree = 4)\n",
    "poly_features4 = poly4.fit_transform(X)\n",
    "poly3.fit(X,y)\n",
    "poly_regression4 = LinearRegression()\n",
    "poly_regression4.fit(poly_features4,y)"
   ]
  },
  {
   "cell_type": "code",
   "execution_count": 210,
   "metadata": {},
   "outputs": [
    {
     "data": {
      "image/png": "[encoded data removed]",
      "text/plain": [
       "<Figure size 432x288 with 1 Axes>"
      ]
     },
     "metadata": {
      "needs_background": "light"
     },
     "output_type": "display_data"
    }
   ],
   "source": [
    "#ploting the data  for polynomial regression \n",
    "plt.scatter(X, y, color='red')\n",
    "plt.plot(X,poly_regression.predict(poly_features),color='blue', label = \"Degree 2\")\n",
    "plt.plot(X,poly_regression3.predict(poly_features3),color='green', label = \"Degree 3\")\n",
    "plt.plot(X,poly_regression4.predict(poly_features4),color='orange', label = \"Degree 4\")\n",
    "plt.legend(loc=\"upper left\")\n",
    "plt.title(\"Days since death 1 vs cases\")\n",
    "plt.xlabel(\"Days \")\n",
    "plt.ylabel(\"Deaths\")\n",
    "plt.show()"
   ]
  },
  {
   "cell_type": "code",
   "execution_count": 211,
   "metadata": {},
   "outputs": [
    {
     "name": "stdout",
     "output_type": "stream",
     "text": [
      "Evaluation of the Polynomial-3 model:\n",
      "Polynomial Coefficients: [[ 0.00000000e+00  5.61994265e+00  1.65573600e-02 -1.73052658e-04]]\n",
      "Polynomial Intercept: [-20.08752504]\n",
      "Mean Squared Error: 47666.06378011732\n",
      "Sqrt of Mean Squared Error: 218.3255912166902\n",
      "r^2 score: 0.5721125200053783\n",
      "\n",
      "Predicted Cases:\n",
      "[235] - [-30.87656387]\n",
      "[236] - [-46.25077899]\n",
      "[237] - [-61.83692196]\n",
      "[238] - [-77.63603108]\n",
      "[239] - [-93.64914469]\n",
      "[240] - [-109.87730108]\n",
      "[241] - [-126.32153858]\n"
     ]
    }
   ],
   "source": [
    "#displaying data for the polynomial model\n",
    "print(\"Evaluation of the Polynomial-3 model:\")\n",
    "print(\"Polynomial Coefficients:\", poly_regression3.coef_)\n",
    "print(\"Polynomial Intercept:\", poly_regression3.intercept_)\n",
    "print(\"Mean Squared Error:\", metrics.mean_squared_error(y,poly_regression3.predict(poly_features3)))\n",
    "print(\"Sqrt of Mean Squared Error:\", np.sqrt(metrics.mean_squared_error(y,poly_regression3.predict(poly_features3))))\n",
    "print(\"r^2 score:\", r2_score(y,poly_regression3.predict(poly_features3)))\n",
    "\n",
    "#predict future cases\n",
    "poly_features_f = poly3.fit_transform(future_dates)\n",
    "predicted_dates = poly_regression3.predict(poly_features_f)\n",
    "\n",
    "#display the predicted cases for the future dates\n",
    "print(\"\\nPredicted Cases:\")\n",
    "for i in range(0, len(future_dates)):\n",
    "    print(future_dates[i], '-', predicted_dates[i])"
   ]
  },
  {
   "cell_type": "markdown",
   "metadata": {},
   "source": [
    "## Russia"
   ]
  },
  {
   "cell_type": "code",
   "execution_count": 212,
   "metadata": {
    "scrolled": false
   },
   "outputs": [
    {
     "data": {
      "text/html": [
       "<div>\n",
       "<style scoped>\n",
       "    .dataframe tbody tr th:only-of-type {\n",
       "        vertical-align: middle;\n",
       "    }\n",
       "\n",
       "    .dataframe tbody tr th {\n",
       "        vertical-align: top;\n",
       "    }\n",
       "\n",
       "    .dataframe thead th {\n",
       "        text-align: right;\n",
       "    }\n",
       "</style>\n",
       "<table border=\"1\" class=\"dataframe\">\n",
       "  <thead>\n",
       "    <tr style=\"text-align: right;\">\n",
       "      <th></th>\n",
       "      <th>index</th>\n",
       "      <th>location</th>\n",
       "      <th>numOfDeathsSinceDay1</th>\n",
       "      <th>numOfCasesSinceDay1</th>\n",
       "      <th>date</th>\n",
       "      <th>new_cases</th>\n",
       "      <th>new_deaths</th>\n",
       "    </tr>\n",
       "  </thead>\n",
       "  <tbody>\n",
       "    <tr>\n",
       "      <th>282</th>\n",
       "      <td>1430</td>\n",
       "      <td>Russia</td>\n",
       "      <td>195</td>\n",
       "      <td>250</td>\n",
       "      <td>2020-10-08</td>\n",
       "      <td>11115.0</td>\n",
       "      <td>202.0</td>\n",
       "    </tr>\n",
       "    <tr>\n",
       "      <th>283</th>\n",
       "      <td>1431</td>\n",
       "      <td>Russia</td>\n",
       "      <td>196</td>\n",
       "      <td>251</td>\n",
       "      <td>2020-10-09</td>\n",
       "      <td>11493.0</td>\n",
       "      <td>191.0</td>\n",
       "    </tr>\n",
       "    <tr>\n",
       "      <th>284</th>\n",
       "      <td>1432</td>\n",
       "      <td>Russia</td>\n",
       "      <td>197</td>\n",
       "      <td>252</td>\n",
       "      <td>2020-10-10</td>\n",
       "      <td>12126.0</td>\n",
       "      <td>201.0</td>\n",
       "    </tr>\n",
       "    <tr>\n",
       "      <th>285</th>\n",
       "      <td>1433</td>\n",
       "      <td>Russia</td>\n",
       "      <td>198</td>\n",
       "      <td>253</td>\n",
       "      <td>2020-10-11</td>\n",
       "      <td>12846.0</td>\n",
       "      <td>197.0</td>\n",
       "    </tr>\n",
       "    <tr>\n",
       "      <th>286</th>\n",
       "      <td>1434</td>\n",
       "      <td>Russia</td>\n",
       "      <td>199</td>\n",
       "      <td>254</td>\n",
       "      <td>2020-10-12</td>\n",
       "      <td>13634.0</td>\n",
       "      <td>143.0</td>\n",
       "    </tr>\n",
       "  </tbody>\n",
       "</table>\n",
       "</div>"
      ],
      "text/plain": [
       "     index location  numOfDeathsSinceDay1  numOfCasesSinceDay1       date  \\\n",
       "282   1430   Russia                   195                  250 2020-10-08   \n",
       "283   1431   Russia                   196                  251 2020-10-09   \n",
       "284   1432   Russia                   197                  252 2020-10-10   \n",
       "285   1433   Russia                   198                  253 2020-10-11   \n",
       "286   1434   Russia                   199                  254 2020-10-12   \n",
       "\n",
       "     new_cases  new_deaths  \n",
       "282    11115.0       202.0  \n",
       "283    11493.0       191.0  \n",
       "284    12126.0       201.0  \n",
       "285    12846.0       197.0  \n",
       "286    13634.0       143.0  "
      ]
     },
     "execution_count": 212,
     "metadata": {},
     "output_type": "execute_result"
    }
   ],
   "source": [
    "#obtain the data for the country of brazil\n",
    "df_russia = other_country_data[other_country_data.location =='Russia'].reset_index()\n",
    "\n",
    "#obtain the date of the first case\n",
    "first_case_index = df_russia['new_cases'].ne(0).idxmax() \n",
    "\n",
    "#obtain the date of the first death\n",
    "first_death_index= df_russia['new_deaths'].ne(0).idxmax() \n",
    "\n",
    "#list to hold the cases since day 1\n",
    "numOfCasesSinceDay1=[]\n",
    "\n",
    "#list to hold the deaths since day 1\n",
    "numOfDeathsSinceDay1=[]\n",
    "\n",
    "#loop to compute the number of cases since day 1\n",
    "counter=1\n",
    "for i,index in enumerate(range(len(df_russia))):\n",
    "    if i<=first_case_index:\n",
    "        numOfCasesSinceDay1.insert(index, 0) \n",
    "    else:\n",
    "        numOfCasesSinceDay1.insert(index, counter) \n",
    "        counter = counter+1\n",
    "\n",
    "#loop to compute the number of deaths since day 1\n",
    "counter=1\n",
    "for i,index in enumerate(range(len(df_russia))):\n",
    "    if i<=first_death_index:\n",
    "        numOfDeathsSinceDay1.insert(index, 0) \n",
    "    else:\n",
    "        numOfDeathsSinceDay1.insert(index, counter) \n",
    "        counter = counter+1\n",
    "\n",
    "#insert list into dataset as a column\n",
    "df_russia.insert(2, \"numOfCasesSinceDay1\", numOfCasesSinceDay1)\n",
    "\n",
    "#insert list into dataset as a column   \n",
    "df_russia.insert(2, \"numOfDeathsSinceDay1\", numOfDeathsSinceDay1)\n",
    "\n",
    "#print dataset\n",
    "df_russia.tail()"
   ]
  },
  {
   "cell_type": "markdown",
   "metadata": {},
   "source": [
    "### Linear Model Cases"
   ]
  },
  {
   "cell_type": "code",
   "execution_count": 213,
   "metadata": {
    "scrolled": true
   },
   "outputs": [
    {
     "name": "stdout",
     "output_type": "stream",
     "text": [
      "Evaluation of the linear model:\n",
      "Mean Absolute Error: 2149.8007347393996\n",
      "Mean Squared Error: 6865525.55278062\n",
      "Sqrt of Mean Squared Error: 2620.2147913445224\n",
      "r^2 score: 0.5082751893864725\n",
      "\n",
      "Predicted Deaths:\n",
      "[235] - [8589.08849381]\n",
      "[236] - [8622.35576128]\n",
      "[237] - [8655.62302876]\n",
      "[238] - [8688.89029623]\n",
      "[239] - [8722.15756371]\n",
      "[240] - [8755.42483119]\n",
      "[241] - [8788.69209866]\n"
     ]
    }
   ],
   "source": [
    "#create second dataframe of just the cases data\n",
    "df = df_russia[['numOfCasesSinceDay1','new_cases']]\n",
    "\n",
    "#obtain x and y variables for cases\n",
    "X = df.iloc[:,0].values.reshape(-1, 1) \n",
    "y = df.iloc[:,1].values.reshape(-1, 1) \n",
    "\n",
    "#make linear regression model and fit the cases data\n",
    "lm = LinearRegression()\n",
    "lm.fit(X, y)\n",
    "\n",
    "#predict the x variable data using the linear regression model\n",
    "cases_prediction = lm.predict(X)\n",
    "\n",
    "#display data for the linear model\n",
    "print(\"Evaluation of the linear model:\")\n",
    "print(\"Mean Absolute Error:\", metrics.mean_absolute_error(y,cases_prediction))\n",
    "print(\"Mean Squared Error:\", metrics.mean_squared_error(y,cases_prediction))\n",
    "print(\"Sqrt of Mean Squared Error:\", np.sqrt(metrics.mean_squared_error(y,cases_prediction)))\n",
    "print(\"r^2 score:\", r2_score(y,cases_prediction))\n",
    "\n",
    "#predict the future deaths\n",
    "future_cases = lm.predict(future_dates)\n",
    "\n",
    "#display the predicted cases for the future dates\n",
    "print(\"\\nPredicted Deaths:\")\n",
    "for i in range(0, len(future_dates)):\n",
    "    print(future_dates[i], '-', future_cases[i])"
   ]
  },
  {
   "cell_type": "code",
   "execution_count": 214,
   "metadata": {},
   "outputs": [
    {
     "data": {
      "image/png": "[encoded data removed]",
      "text/plain": [
       "<Figure size 432x288 with 1 Axes>"
      ]
     },
     "metadata": {
      "needs_background": "light"
     },
     "output_type": "display_data"
    }
   ],
   "source": [
    "#display cases and the linear regression model\n",
    "def viz_linear():\n",
    "    plt.scatter(X, y, color='red')\n",
    "    plt.plot(X, lm.predict(X), color='blue')\n",
    "    plt.title('Linear Regression')\n",
    "    plt.xlabel('Days from first case')\n",
    "    plt.ylabel('Cases')\n",
    "    plt.show()\n",
    "    return\n",
    "viz_linear()"
   ]
  },
  {
   "cell_type": "markdown",
   "metadata": {},
   "source": [
    "### Polynomial Model Cases"
   ]
  },
  {
   "cell_type": "code",
   "execution_count": 215,
   "metadata": {},
   "outputs": [
    {
     "data": {
      "text/plain": [
       "LinearRegression(copy_X=True, fit_intercept=True, n_jobs=None, normalize=False)"
      ]
     },
     "execution_count": 215,
     "metadata": {},
     "output_type": "execute_result"
    }
   ],
   "source": [
    "#create regression for a polynomial of degree 2\n",
    "poly = PolynomialFeatures(degree = 2)\n",
    "poly_features = poly.fit_transform(X)\n",
    "poly.fit(X,y)\n",
    "poly_regression = LinearRegression()\n",
    "poly_regression.fit(poly_features,y)\n",
    "\n",
    "#create regression for a polynomial of degree 3\n",
    "poly3 = PolynomialFeatures(degree = 3)\n",
    "poly_features3 = poly3.fit_transform(X)\n",
    "poly3.fit(X,y)\n",
    "poly_regression3 = LinearRegression()\n",
    "poly_regression3.fit(poly_features3,y)\n",
    "\n",
    "#create regression for a polynomial of degree 4\n",
    "poly4 = PolynomialFeatures(degree = 4)\n",
    "poly_features4 = poly4.fit_transform(X)\n",
    "poly3.fit(X,y)\n",
    "poly_regression4 = LinearRegression()\n",
    "poly_regression4.fit(poly_features4,y)"
   ]
  },
  {
   "cell_type": "code",
   "execution_count": 216,
   "metadata": {},
   "outputs": [
    {
     "data": {
      "image/png": "[encoded data removed]",
      "text/plain": [
       "<Figure size 432x288 with 1 Axes>"
      ]
     },
     "metadata": {
      "needs_background": "light"
     },
     "output_type": "display_data"
    }
   ],
   "source": [
    "#ploting the data  for polynomial regression \n",
    "plt.scatter(X, y, color='red')\n",
    "plt.plot(X,poly_regression.predict(poly_features),color='blue', label = \"Degree 2\")\n",
    "plt.plot(X,poly_regression3.predict(poly_features3),color='green', label = \"Degree 3\")\n",
    "plt.plot(X,poly_regression4.predict(poly_features4),color='orange', label = \"Degree 4\")\n",
    "plt.legend(loc=\"upper left\")\n",
    "plt.title(\"Days since case 1 vs cases\")\n",
    "plt.xlabel(\"Days \")\n",
    "plt.ylabel(\"Cases\")\n",
    "plt.show()"
   ]
  },
  {
   "cell_type": "code",
   "execution_count": 217,
   "metadata": {},
   "outputs": [
    {
     "name": "stdout",
     "output_type": "stream",
     "text": [
      "Evaluation of the Polynomial-3 model:\n",
      "Polynomial Coefficients: [[ 0.00000000e+00  1.25026233e+02 -6.48264510e-01  1.14606248e-03]]\n",
      "Polynomial Intercept: [-1359.73364369]\n",
      "Mean Squared Error: 5057391.35009288\n",
      "Sqrt of Mean Squared Error: 2248.8644579193474\n",
      "r^2 score: 0.6377779407119515\n",
      "\n",
      "Predicted Cases:\n",
      "[235] - [7094.47914101]\n",
      "[236] - [7104.85581143]\n",
      "[237] - [7115.5587773]\n",
      "[238] - [7126.594915]\n",
      "[239] - [7137.9711009]\n",
      "[240] - [7149.69421139]\n",
      "[241] - [7161.77112283]\n"
     ]
    }
   ],
   "source": [
    "#displaying data for the polynomial model\n",
    "print(\"Evaluation of the Polynomial-3 model:\")\n",
    "print(\"Polynomial Coefficients:\", poly_regression3.coef_)\n",
    "print(\"Polynomial Intercept:\", poly_regression3.intercept_)\n",
    "print(\"Mean Squared Error:\", metrics.mean_squared_error(y,poly_regression3.predict(poly_features3)))\n",
    "print(\"Sqrt of Mean Squared Error:\", np.sqrt(metrics.mean_squared_error(y,poly_regression3.predict(poly_features3))))\n",
    "print(\"r^2 score:\", r2_score(y,poly_regression3.predict(poly_features3)))\n",
    "\n",
    "#predict future cases\n",
    "poly_features_f = poly3.fit_transform(future_dates)\n",
    "predicted_dates = poly_regression3.predict(poly_features_f)\n",
    "\n",
    "#display the predicted cases for the future dates\n",
    "print(\"\\nPredicted Cases:\")\n",
    "for i in range(0, len(future_dates)):\n",
    "    print(future_dates[i], '-', predicted_dates[i])"
   ]
  },
  {
   "cell_type": "markdown",
   "metadata": {},
   "source": [
    "### Linear Model Deaths"
   ]
  },
  {
   "cell_type": "code",
   "execution_count": 218,
   "metadata": {
    "scrolled": true
   },
   "outputs": [
    {
     "name": "stdout",
     "output_type": "stream",
     "text": [
      "Evaluation of the linear model:\n",
      "Mean Absolute Error: 37.38179060991638\n",
      "Mean Squared Error: 2257.5468561486737\n",
      "Sqrt of Mean Squared Error: 47.51364915630743\n",
      "r^2 score: 0.5418549887836539\n",
      "\n",
      "Predicted Deaths:\n",
      "[235] - [207.57664004]\n",
      "[236] - [208.35437683]\n",
      "[237] - [209.13211362]\n",
      "[238] - [209.90985041]\n",
      "[239] - [210.6875872]\n",
      "[240] - [211.46532399]\n",
      "[241] - [212.24306078]\n"
     ]
    }
   ],
   "source": [
    "#create second dataframe of just the deaths data\n",
    "df = df_russia[['numOfDeathsSinceDay1','new_deaths']]\n",
    "\n",
    "#obtain x and y variables for deaths\n",
    "X = df.iloc[:,0].values.reshape(-1, 1) \n",
    "y = df.iloc[:,1].values.reshape(-1, 1) \n",
    "\n",
    "#make linear regression model and fit the deaths data\n",
    "lm = LinearRegression()\n",
    "lm.fit(X, y)\n",
    "\n",
    "#predict the x variable data using the linear regression model\n",
    "deaths_prediction = lm.predict(X)\n",
    "\n",
    "#display data for the linear model\n",
    "print(\"Evaluation of the linear model:\")\n",
    "print(\"Mean Absolute Error:\", metrics.mean_absolute_error(y,deaths_prediction))\n",
    "print(\"Mean Squared Error:\", metrics.mean_squared_error(y,deaths_prediction))\n",
    "print(\"Sqrt of Mean Squared Error:\", np.sqrt(metrics.mean_squared_error(y,deaths_prediction)))\n",
    "print(\"r^2 score:\", r2_score(y,deaths_prediction))\n",
    "\n",
    "#predict the future deaths\n",
    "future_deaths = lm.predict(future_dates)\n",
    "\n",
    "#display the predicted deaths for the future dates\n",
    "print(\"\\nPredicted Deaths:\")\n",
    "for i in range(0, len(future_dates)):\n",
    "    print(future_dates[i], '-', future_deaths[i])"
   ]
  },
  {
   "cell_type": "code",
   "execution_count": 219,
   "metadata": {},
   "outputs": [
    {
     "data": {
      "image/png": "[encoded data removed]",
      "text/plain": [
       "<Figure size 432x288 with 1 Axes>"
      ]
     },
     "metadata": {
      "needs_background": "light"
     },
     "output_type": "display_data"
    }
   ],
   "source": [
    "#display deaths and the linear regression model\n",
    "def viz_linear():\n",
    "    plt.scatter(X, y, color='red')\n",
    "    plt.plot(X, lm.predict(X), color='blue')\n",
    "    plt.title('Linear Regression')\n",
    "    plt.xlabel('Days from first death')\n",
    "    plt.ylabel('Deaths')\n",
    "    plt.show()\n",
    "    return\n",
    "viz_linear()"
   ]
  },
  {
   "cell_type": "markdown",
   "metadata": {},
   "source": [
    "### Polynomial Model Deaths"
   ]
  },
  {
   "cell_type": "code",
   "execution_count": 220,
   "metadata": {},
   "outputs": [
    {
     "data": {
      "text/plain": [
       "LinearRegression(copy_X=True, fit_intercept=True, n_jobs=None, normalize=False)"
      ]
     },
     "execution_count": 220,
     "metadata": {},
     "output_type": "execute_result"
    }
   ],
   "source": [
    "#create regression for a polynomial of degree 2\n",
    "poly = PolynomialFeatures(degree = 2)\n",
    "poly_features = poly.fit_transform(X)\n",
    "poly.fit(X,y)\n",
    "poly_regression = LinearRegression()\n",
    "poly_regression.fit(poly_features,y)\n",
    "\n",
    "#create regression for a polynomial of degree 3\n",
    "poly3 = PolynomialFeatures(degree = 3)\n",
    "poly_features3 = poly3.fit_transform(X)\n",
    "poly3.fit(X,y)\n",
    "poly_regression3 = LinearRegression()\n",
    "poly_regression3.fit(poly_features3,y)\n",
    "\n",
    "#create regression for a polynomial of degree 4\n",
    "poly4 = PolynomialFeatures(degree = 4)\n",
    "poly_features4 = poly4.fit_transform(X)\n",
    "poly3.fit(X,y)\n",
    "poly_regression4 = LinearRegression()\n",
    "poly_regression4.fit(poly_features4,y)"
   ]
  },
  {
   "cell_type": "code",
   "execution_count": 221,
   "metadata": {},
   "outputs": [
    {
     "data": {
      "image/png": "[encoded data removed]",
      "text/plain": [
       "<Figure size 432x288 with 1 Axes>"
      ]
     },
     "metadata": {
      "needs_background": "light"
     },
     "output_type": "display_data"
    }
   ],
   "source": [
    "#ploting the data  for polynomial regression \n",
    "plt.scatter(X, y, color='red')\n",
    "plt.plot(X,poly_regression.predict(poly_features),color='blue', label = \"Degree 2\")\n",
    "plt.plot(X,poly_regression3.predict(poly_features3),color='green', label = \"Degree 3\")\n",
    "plt.plot(X,poly_regression4.predict(poly_features4),color='orange', label = \"Degree 4\")\n",
    "plt.legend(loc=\"upper left\")\n",
    "plt.title(\"Days since death 1 vs cases\")\n",
    "plt.xlabel(\"Days \")\n",
    "plt.ylabel(\"Deaths\")\n",
    "plt.show()"
   ]
  },
  {
   "cell_type": "code",
   "execution_count": 222,
   "metadata": {},
   "outputs": [
    {
     "name": "stdout",
     "output_type": "stream",
     "text": [
      "Evaluation of the Polynomial-3 model:\n",
      "Polynomial Coefficients: [[ 0.00000000e+00  4.34207487e+00 -4.03084952e-02  1.13297247e-04]]\n",
      "Polynomial Intercept: [-6.94299172]\n",
      "Mean Squared Error: 958.9442081560259\n",
      "Sqrt of Mean Squared Error: 30.966824314999204\n",
      "r^2 score: 0.805392519847411\n",
      "\n",
      "Predicted Cases:\n",
      "[235] - [257.76546813]\n",
      "[236] - [261.97275104]\n",
      "[237] - [266.25984586]\n",
      "[238] - [270.62743238]\n",
      "[239] - [275.07619038]\n",
      "[240] - [279.60679964]\n",
      "[241] - [284.21993994]\n"
     ]
    }
   ],
   "source": [
    "#displaying data for the polynomial model\n",
    "print(\"Evaluation of the Polynomial-3 model:\")\n",
    "print(\"Polynomial Coefficients:\", poly_regression3.coef_)\n",
    "print(\"Polynomial Intercept:\", poly_regression3.intercept_)\n",
    "print(\"Mean Squared Error:\", metrics.mean_squared_error(y,poly_regression3.predict(poly_features3)))\n",
    "print(\"Sqrt of Mean Squared Error:\", np.sqrt(metrics.mean_squared_error(y,poly_regression3.predict(poly_features3))))\n",
    "print(\"r^2 score:\", r2_score(y,poly_regression3.predict(poly_features3)))\n",
    "\n",
    "#predict future cases\n",
    "poly_features_f = poly3.fit_transform(future_dates)\n",
    "predicted_dates = poly_regression3.predict(poly_features_f)\n",
    "\n",
    "#display the predicted cases for the future dates\n",
    "print(\"\\nPredicted Cases:\")\n",
    "for i in range(0, len(future_dates)):\n",
    "    print(future_dates[i], '-', predicted_dates[i])"
   ]
  },
  {
   "cell_type": "markdown",
   "metadata": {},
   "source": [
    "## India"
   ]
  },
  {
   "cell_type": "code",
   "execution_count": 223,
   "metadata": {
    "scrolled": false
   },
   "outputs": [
    {
     "data": {
      "text/html": [
       "<div>\n",
       "<style scoped>\n",
       "    .dataframe tbody tr th:only-of-type {\n",
       "        vertical-align: middle;\n",
       "    }\n",
       "\n",
       "    .dataframe tbody tr th {\n",
       "        vertical-align: top;\n",
       "    }\n",
       "\n",
       "    .dataframe thead th {\n",
       "        text-align: right;\n",
       "    }\n",
       "</style>\n",
       "<table border=\"1\" class=\"dataframe\">\n",
       "  <thead>\n",
       "    <tr style=\"text-align: right;\">\n",
       "      <th></th>\n",
       "      <th>index</th>\n",
       "      <th>location</th>\n",
       "      <th>numOfDeathsSinceDay1</th>\n",
       "      <th>numOfCasesSinceDay1</th>\n",
       "      <th>date</th>\n",
       "      <th>new_cases</th>\n",
       "      <th>new_deaths</th>\n",
       "    </tr>\n",
       "  </thead>\n",
       "  <tbody>\n",
       "    <tr>\n",
       "      <th>282</th>\n",
       "      <td>569</td>\n",
       "      <td>India</td>\n",
       "      <td>209</td>\n",
       "      <td>252</td>\n",
       "      <td>2020-10-08</td>\n",
       "      <td>78524.0</td>\n",
       "      <td>971.0</td>\n",
       "    </tr>\n",
       "    <tr>\n",
       "      <th>283</th>\n",
       "      <td>570</td>\n",
       "      <td>India</td>\n",
       "      <td>210</td>\n",
       "      <td>253</td>\n",
       "      <td>2020-10-09</td>\n",
       "      <td>70496.0</td>\n",
       "      <td>964.0</td>\n",
       "    </tr>\n",
       "    <tr>\n",
       "      <th>284</th>\n",
       "      <td>571</td>\n",
       "      <td>India</td>\n",
       "      <td>211</td>\n",
       "      <td>254</td>\n",
       "      <td>2020-10-10</td>\n",
       "      <td>73272.0</td>\n",
       "      <td>926.0</td>\n",
       "    </tr>\n",
       "    <tr>\n",
       "      <th>285</th>\n",
       "      <td>572</td>\n",
       "      <td>India</td>\n",
       "      <td>212</td>\n",
       "      <td>255</td>\n",
       "      <td>2020-10-11</td>\n",
       "      <td>74383.0</td>\n",
       "      <td>918.0</td>\n",
       "    </tr>\n",
       "    <tr>\n",
       "      <th>286</th>\n",
       "      <td>573</td>\n",
       "      <td>India</td>\n",
       "      <td>213</td>\n",
       "      <td>256</td>\n",
       "      <td>2020-10-12</td>\n",
       "      <td>66732.0</td>\n",
       "      <td>816.0</td>\n",
       "    </tr>\n",
       "  </tbody>\n",
       "</table>\n",
       "</div>"
      ],
      "text/plain": [
       "     index location  numOfDeathsSinceDay1  numOfCasesSinceDay1       date  \\\n",
       "282    569    India                   209                  252 2020-10-08   \n",
       "283    570    India                   210                  253 2020-10-09   \n",
       "284    571    India                   211                  254 2020-10-10   \n",
       "285    572    India                   212                  255 2020-10-11   \n",
       "286    573    India                   213                  256 2020-10-12   \n",
       "\n",
       "     new_cases  new_deaths  \n",
       "282    78524.0       971.0  \n",
       "283    70496.0       964.0  \n",
       "284    73272.0       926.0  \n",
       "285    74383.0       918.0  \n",
       "286    66732.0       816.0  "
      ]
     },
     "execution_count": 223,
     "metadata": {},
     "output_type": "execute_result"
    }
   ],
   "source": [
    "#obtain the data for the country of brazil\n",
    "df_india = other_country_data[other_country_data.location =='India'].reset_index()\n",
    "\n",
    "#obtain the date of the first case\n",
    "first_case_index = df_india['new_cases'].ne(0).idxmax() \n",
    "\n",
    "#obtain the date of the first death\n",
    "first_death_index= df_india['new_deaths'].ne(0).idxmax() \n",
    "\n",
    "#list to hold the cases since day 1\n",
    "numOfCasesSinceDay1=[]\n",
    "\n",
    "#list to hold the deaths since day 1\n",
    "numOfDeathsSinceDay1=[]\n",
    "\n",
    "#loop to compute the number of cases since day 1\n",
    "counter=1\n",
    "for i,index in enumerate(range(len(df_india))):\n",
    "    if i<=first_case_index:\n",
    "        numOfCasesSinceDay1.insert(index, 0) \n",
    "    else:\n",
    "        numOfCasesSinceDay1.insert(index, counter) \n",
    "        counter = counter+1\n",
    "\n",
    "#loop to compute the number of deaths since day 1\n",
    "counter=1\n",
    "for i,index in enumerate(range(len(df_india))):\n",
    "    if i<=first_death_index:\n",
    "        numOfDeathsSinceDay1.insert(index, 0) \n",
    "    else:\n",
    "        numOfDeathsSinceDay1.insert(index, counter) \n",
    "        counter = counter+1\n",
    "\n",
    "#insert list into dataset as a column\n",
    "df_india.insert(2, \"numOfCasesSinceDay1\", numOfCasesSinceDay1)\n",
    "\n",
    "#insert list into dataset as a column   \n",
    "df_india.insert(2, \"numOfDeathsSinceDay1\", numOfDeathsSinceDay1)\n",
    "\n",
    "#print dataset\n",
    "df_india.tail()"
   ]
  },
  {
   "cell_type": "markdown",
   "metadata": {},
   "source": [
    "### Linear Model Cases"
   ]
  },
  {
   "cell_type": "code",
   "execution_count": 224,
   "metadata": {
    "scrolled": true
   },
   "outputs": [
    {
     "name": "stdout",
     "output_type": "stream",
     "text": [
      "Evaluation of the linear model:\n",
      "Mean Absolute Error: 12704.14732844353\n",
      "Mean Squared Error: 212177124.35061312\n",
      "Sqrt of Mean Squared Error: 14566.300983798636\n",
      "r^2 score: 0.7929241619676282\n",
      "\n",
      "Predicted Deaths:\n",
      "[235] - [67493.89653065]\n",
      "[236] - [67848.47149097]\n",
      "[237] - [68203.0464513]\n",
      "[238] - [68557.62141162]\n",
      "[239] - [68912.19637195]\n",
      "[240] - [69266.77133227]\n",
      "[241] - [69621.3462926]\n"
     ]
    }
   ],
   "source": [
    "#create second dataframe of just the cases data\n",
    "df = df_india[['numOfCasesSinceDay1','new_cases']]\n",
    "\n",
    "#obtain x and y variables for cases\n",
    "X = df.iloc[:,0].values.reshape(-1, 1) \n",
    "y = df.iloc[:,1].values.reshape(-1, 1) \n",
    "\n",
    "#make linear regression model and fit the cases data\n",
    "lm = LinearRegression()\n",
    "lm.fit(X, y)\n",
    "\n",
    "#predict the x variable data using the linear regression model\n",
    "cases_prediction = lm.predict(X)\n",
    "\n",
    "#display data for the linear model\n",
    "print(\"Evaluation of the linear model:\")\n",
    "print(\"Mean Absolute Error:\", metrics.mean_absolute_error(y,cases_prediction))\n",
    "print(\"Mean Squared Error:\", metrics.mean_squared_error(y,cases_prediction))\n",
    "print(\"Sqrt of Mean Squared Error:\", np.sqrt(metrics.mean_squared_error(y,cases_prediction)))\n",
    "print(\"r^2 score:\", r2_score(y,cases_prediction))\n",
    "\n",
    "#predict the future deaths\n",
    "future_cases = lm.predict(future_dates)\n",
    "\n",
    "#display the predicted cases for the future dates\n",
    "print(\"\\nPredicted Deaths:\")\n",
    "for i in range(0, len(future_dates)):\n",
    "    print(future_dates[i], '-', future_cases[i])"
   ]
  },
  {
   "cell_type": "code",
   "execution_count": 225,
   "metadata": {},
   "outputs": [
    {
     "data": {
      "image/png": "[encoded data removed]",
      "text/plain": [
       "<Figure size 432x288 with 1 Axes>"
      ]
     },
     "metadata": {
      "needs_background": "light"
     },
     "output_type": "display_data"
    }
   ],
   "source": [
    "#display cases and the linear regression model\n",
    "def viz_linear():\n",
    "    plt.scatter(X, y, color='red')\n",
    "    plt.plot(X, lm.predict(X), color='blue')\n",
    "    plt.title('Linear Regression')\n",
    "    plt.xlabel('Days from first case')\n",
    "    plt.ylabel('Cases')\n",
    "    plt.show()\n",
    "    return\n",
    "viz_linear()"
   ]
  },
  {
   "cell_type": "markdown",
   "metadata": {},
   "source": [
    "### Polynomial Model Cases"
   ]
  },
  {
   "cell_type": "code",
   "execution_count": 226,
   "metadata": {},
   "outputs": [
    {
     "data": {
      "text/plain": [
       "LinearRegression(copy_X=True, fit_intercept=True, n_jobs=None, normalize=False)"
      ]
     },
     "execution_count": 226,
     "metadata": {},
     "output_type": "execute_result"
    }
   ],
   "source": [
    "#create regression for a polynomial of degree 2\n",
    "poly = PolynomialFeatures(degree = 2)\n",
    "poly_features = poly.fit_transform(X)\n",
    "poly.fit(X,y)\n",
    "poly_regression = LinearRegression()\n",
    "poly_regression.fit(poly_features,y)\n",
    "\n",
    "#create regression for a polynomial of degree 3\n",
    "poly3 = PolynomialFeatures(degree = 3)\n",
    "poly_features3 = poly3.fit_transform(X)\n",
    "poly3.fit(X,y)\n",
    "poly_regression3 = LinearRegression()\n",
    "poly_regression3.fit(poly_features3,y)\n",
    "\n",
    "#create regression for a polynomial of degree 4\n",
    "poly4 = PolynomialFeatures(degree = 4)\n",
    "poly_features4 = poly4.fit_transform(X)\n",
    "poly3.fit(X,y)\n",
    "poly_regression4 = LinearRegression()\n",
    "poly_regression4.fit(poly_features4,y)"
   ]
  },
  {
   "cell_type": "code",
   "execution_count": 227,
   "metadata": {},
   "outputs": [
    {
     "data": {
      "image/png": "[encoded data removed]",
      "text/plain": [
       "<Figure size 432x288 with 1 Axes>"
      ]
     },
     "metadata": {
      "needs_background": "light"
     },
     "output_type": "display_data"
    }
   ],
   "source": [
    "#ploting the data  for polynomial regression \n",
    "plt.scatter(X, y, color='red')\n",
    "plt.plot(X,poly_regression.predict(poly_features),color='blue', label = \"Degree 2\")\n",
    "plt.plot(X,poly_regression3.predict(poly_features3),color='green', label = \"Degree 3\")\n",
    "plt.plot(X,poly_regression4.predict(poly_features4),color='orange', label = \"Degree 4\")\n",
    "plt.legend(loc=\"upper left\")\n",
    "plt.title(\"Days since case 1 vs cases\")\n",
    "plt.xlabel(\"Days \")\n",
    "plt.ylabel(\"Cases\")\n",
    "plt.show()"
   ]
  },
  {
   "cell_type": "code",
   "execution_count": 228,
   "metadata": {},
   "outputs": [
    {
     "name": "stdout",
     "output_type": "stream",
     "text": [
      "Evaluation of the Polynomial-3 model:\n",
      "Polynomial Coefficients: [[ 0.00000000e+00 -4.14185105e+02  4.97386138e+00 -7.64835906e-03]]\n",
      "Polynomial Intercept: [3634.75265509]\n",
      "Mean Squared Error: 58756565.564774096\n",
      "Sqrt of Mean Squared Error: 7665.283136634556\n",
      "r^2 score: 0.942656094093706\n",
      "\n",
      "Predicted Cases:\n",
      "[235] - [81723.29978774]\n",
      "[236] - [82379.26176365]\n",
      "[237] - [83034.3413859]\n",
      "[238] - [83688.49276431]\n",
      "[239] - [84341.67000875]\n",
      "[240] - [84993.82722906]\n",
      "[241] - [85644.91853508]\n"
     ]
    }
   ],
   "source": [
    "#displaying data for the polynomial model\n",
    "print(\"Evaluation of the Polynomial-3 model:\")\n",
    "print(\"Polynomial Coefficients:\", poly_regression3.coef_)\n",
    "print(\"Polynomial Intercept:\", poly_regression3.intercept_)\n",
    "print(\"Mean Squared Error:\", metrics.mean_squared_error(y,poly_regression3.predict(poly_features3)))\n",
    "print(\"Sqrt of Mean Squared Error:\", np.sqrt(metrics.mean_squared_error(y,poly_regression3.predict(poly_features3))))\n",
    "print(\"r^2 score:\", r2_score(y,poly_regression3.predict(poly_features3)))\n",
    "\n",
    "#predict future cases\n",
    "poly_features_f = poly3.fit_transform(future_dates)\n",
    "predicted_dates = poly_regression3.predict(poly_features_f)\n",
    "\n",
    "#display the predicted cases for the future dates\n",
    "print(\"\\nPredicted Cases:\")\n",
    "for i in range(0, len(future_dates)):\n",
    "    print(future_dates[i], '-', predicted_dates[i])"
   ]
  },
  {
   "cell_type": "markdown",
   "metadata": {},
   "source": [
    "### Linear Model Deaths"
   ]
  },
  {
   "cell_type": "code",
   "execution_count": 229,
   "metadata": {
    "scrolled": true
   },
   "outputs": [
    {
     "name": "stdout",
     "output_type": "stream",
     "text": [
      "Evaluation of the linear model:\n",
      "Mean Absolute Error: 108.24281896039616\n",
      "Mean Squared Error: 22489.826148709668\n",
      "Sqrt of Mean Squared Error: 149.96608332789674\n",
      "r^2 score: 0.8797348223205674\n",
      "\n",
      "Predicted Deaths:\n",
      "[235] - [1273.07380481]\n",
      "[236] - [1278.81174949]\n",
      "[237] - [1284.54969418]\n",
      "[238] - [1290.28763886]\n",
      "[239] - [1296.02558355]\n",
      "[240] - [1301.76352823]\n",
      "[241] - [1307.50147292]\n"
     ]
    }
   ],
   "source": [
    "#create second dataframe of just the deaths data\n",
    "df = df_india[['numOfDeathsSinceDay1','new_deaths']]\n",
    "\n",
    "#obtain x and y variables for deaths\n",
    "X = df.iloc[:,0].values.reshape(-1, 1) \n",
    "y = df.iloc[:,1].values.reshape(-1, 1) \n",
    "\n",
    "#make linear regression model and fit the deaths data\n",
    "lm = LinearRegression()\n",
    "lm.fit(X, y)\n",
    "\n",
    "#predict the x variable data using the linear regression model\n",
    "deaths_prediction = lm.predict(X)\n",
    "\n",
    "#display data for the linear model\n",
    "print(\"Evaluation of the linear model:\")\n",
    "print(\"Mean Absolute Error:\", metrics.mean_absolute_error(y,deaths_prediction))\n",
    "print(\"Mean Squared Error:\", metrics.mean_squared_error(y,deaths_prediction))\n",
    "print(\"Sqrt of Mean Squared Error:\", np.sqrt(metrics.mean_squared_error(y,deaths_prediction)))\n",
    "print(\"r^2 score:\", r2_score(y,deaths_prediction))\n",
    "\n",
    "#predict the future deaths\n",
    "future_deaths = lm.predict(future_dates)\n",
    "\n",
    "#display the predicted deaths for the future dates\n",
    "print(\"\\nPredicted Deaths:\")\n",
    "for i in range(0, len(future_dates)):\n",
    "    print(future_dates[i], '-', future_deaths[i])"
   ]
  },
  {
   "cell_type": "code",
   "execution_count": 230,
   "metadata": {},
   "outputs": [
    {
     "data": {
      "image/png": "[encoded data removed]",
      "text/plain": [
       "<Figure size 432x288 with 1 Axes>"
      ]
     },
     "metadata": {
      "needs_background": "light"
     },
     "output_type": "display_data"
    }
   ],
   "source": [
    "#display deaths and the linear regression model\n",
    "def viz_linear():\n",
    "    plt.scatter(X, y, color='red')\n",
    "    plt.plot(X, lm.predict(X), color='blue')\n",
    "    plt.title('Linear Regression')\n",
    "    plt.xlabel('Days from first death')\n",
    "    plt.ylabel('Deaths')\n",
    "    plt.show()\n",
    "    return\n",
    "viz_linear()"
   ]
  },
  {
   "cell_type": "markdown",
   "metadata": {},
   "source": [
    "### Polynomial Model Deaths"
   ]
  },
  {
   "cell_type": "code",
   "execution_count": 231,
   "metadata": {},
   "outputs": [
    {
     "data": {
      "text/plain": [
       "LinearRegression(copy_X=True, fit_intercept=True, n_jobs=None, normalize=False)"
      ]
     },
     "execution_count": 231,
     "metadata": {},
     "output_type": "execute_result"
    }
   ],
   "source": [
    "#create regression for a polynomial of degree 2\n",
    "poly = PolynomialFeatures(degree = 2)\n",
    "poly_features = poly.fit_transform(X)\n",
    "poly.fit(X,y)\n",
    "poly_regression = LinearRegression()\n",
    "poly_regression.fit(poly_features,y)\n",
    "\n",
    "#create regression for a polynomial of degree 3\n",
    "poly3 = PolynomialFeatures(degree = 3)\n",
    "poly_features3 = poly3.fit_transform(X)\n",
    "poly3.fit(X,y)\n",
    "poly_regression3 = LinearRegression()\n",
    "poly_regression3.fit(poly_features3,y)\n",
    "\n",
    "#create regression for a polynomial of degree 4\n",
    "poly4 = PolynomialFeatures(degree = 4)\n",
    "poly_features4 = poly4.fit_transform(X)\n",
    "poly3.fit(X,y)\n",
    "poly_regression4 = LinearRegression()\n",
    "poly_regression4.fit(poly_features4,y)"
   ]
  },
  {
   "cell_type": "code",
   "execution_count": 232,
   "metadata": {},
   "outputs": [
    {
     "data": {
      "image/png": "[encoded data removed]",
      "text/plain": [
       "<Figure size 432x288 with 1 Axes>"
      ]
     },
     "metadata": {
      "needs_background": "light"
     },
     "output_type": "display_data"
    }
   ],
   "source": [
    "#ploting the data  for polynomial regression \n",
    "plt.scatter(X, y, color='red')\n",
    "plt.plot(X,poly_regression.predict(poly_features),color='blue', label = \"Degree 2\")\n",
    "plt.plot(X,poly_regression3.predict(poly_features3),color='green', label = \"Degree 3\")\n",
    "plt.plot(X,poly_regression4.predict(poly_features4),color='orange', label = \"Degree 4\")\n",
    "plt.legend(loc=\"upper left\")\n",
    "plt.title(\"Days since death 1 vs cases\")\n",
    "plt.xlabel(\"Days \")\n",
    "plt.ylabel(\"Deaths\")\n",
    "plt.show()"
   ]
  },
  {
   "cell_type": "code",
   "execution_count": 233,
   "metadata": {},
   "outputs": [
    {
     "name": "stdout",
     "output_type": "stream",
     "text": [
      "Evaluation of the Polynomial-3 model:\n",
      "Polynomial Coefficients: [[ 0.00000000e+00 -4.61447062e+00  1.27551818e-01 -3.90787205e-04]]\n",
      "Polynomial Intercept: [12.32441018]\n",
      "Mean Squared Error: 13918.200453595535\n",
      "Sqrt of Mean Squared Error: 117.97542309140296\n",
      "r^2 score: 0.9255719079613399\n",
      "\n",
      "Predicted Cases:\n",
      "[235] - [900.38549226]\n",
      "[236] - [890.82836221]\n",
      "[237] - [880.97298111]\n",
      "[238] - [870.81700425]\n",
      "[239] - [860.35808689]\n",
      "[240] - [849.59388432]\n",
      "[241] - [838.52205181]\n"
     ]
    }
   ],
   "source": [
    "#displaying data for the polynomial model\n",
    "print(\"Evaluation of the Polynomial-3 model:\")\n",
    "print(\"Polynomial Coefficients:\", poly_regression3.coef_)\n",
    "print(\"Polynomial Intercept:\", poly_regression3.intercept_)\n",
    "print(\"Mean Squared Error:\", metrics.mean_squared_error(y,poly_regression3.predict(poly_features3)))\n",
    "print(\"Sqrt of Mean Squared Error:\", np.sqrt(metrics.mean_squared_error(y,poly_regression3.predict(poly_features3))))\n",
    "print(\"r^2 score:\", r2_score(y,poly_regression3.predict(poly_features3)))\n",
    "\n",
    "#predict future cases\n",
    "poly_features_f = poly3.fit_transform(future_dates)\n",
    "predicted_dates = poly_regression3.predict(poly_features_f)\n",
    "\n",
    "#display the predicted cases for the future dates\n",
    "print(\"\\nPredicted Cases:\")\n",
    "for i in range(0, len(future_dates)):\n",
    "    print(future_dates[i], '-', predicted_dates[i])"
   ]
  },
  {
   "cell_type": "markdown",
   "metadata": {},
   "source": [
    "## Pakistan"
   ]
  },
  {
   "cell_type": "code",
   "execution_count": 234,
   "metadata": {
    "scrolled": false
   },
   "outputs": [
    {
     "data": {
      "text/html": [
       "<div>\n",
       "<style scoped>\n",
       "    .dataframe tbody tr th:only-of-type {\n",
       "        vertical-align: middle;\n",
       "    }\n",
       "\n",
       "    .dataframe tbody tr th {\n",
       "        vertical-align: top;\n",
       "    }\n",
       "\n",
       "    .dataframe thead th {\n",
       "        text-align: right;\n",
       "    }\n",
       "</style>\n",
       "<table border=\"1\" class=\"dataframe\">\n",
       "  <thead>\n",
       "    <tr style=\"text-align: right;\">\n",
       "      <th></th>\n",
       "      <th>index</th>\n",
       "      <th>location</th>\n",
       "      <th>numOfDeathsSinceDay1</th>\n",
       "      <th>numOfCasesSinceDay1</th>\n",
       "      <th>date</th>\n",
       "      <th>new_cases</th>\n",
       "      <th>new_deaths</th>\n",
       "    </tr>\n",
       "  </thead>\n",
       "  <tbody>\n",
       "    <tr>\n",
       "      <th>282</th>\n",
       "      <td>1143</td>\n",
       "      <td>Pakistan</td>\n",
       "      <td>202</td>\n",
       "      <td>224</td>\n",
       "      <td>2020-10-08</td>\n",
       "      <td>583.0</td>\n",
       "      <td>9.0</td>\n",
       "    </tr>\n",
       "    <tr>\n",
       "      <th>283</th>\n",
       "      <td>1144</td>\n",
       "      <td>Pakistan</td>\n",
       "      <td>203</td>\n",
       "      <td>225</td>\n",
       "      <td>2020-10-09</td>\n",
       "      <td>661.0</td>\n",
       "      <td>8.0</td>\n",
       "    </tr>\n",
       "    <tr>\n",
       "      <th>284</th>\n",
       "      <td>1145</td>\n",
       "      <td>Pakistan</td>\n",
       "      <td>204</td>\n",
       "      <td>226</td>\n",
       "      <td>2020-10-10</td>\n",
       "      <td>671.0</td>\n",
       "      <td>6.0</td>\n",
       "    </tr>\n",
       "    <tr>\n",
       "      <th>285</th>\n",
       "      <td>1146</td>\n",
       "      <td>Pakistan</td>\n",
       "      <td>205</td>\n",
       "      <td>227</td>\n",
       "      <td>2020-10-11</td>\n",
       "      <td>666.0</td>\n",
       "      <td>12.0</td>\n",
       "    </tr>\n",
       "    <tr>\n",
       "      <th>286</th>\n",
       "      <td>1147</td>\n",
       "      <td>Pakistan</td>\n",
       "      <td>206</td>\n",
       "      <td>228</td>\n",
       "      <td>2020-10-12</td>\n",
       "      <td>0.0</td>\n",
       "      <td>0.0</td>\n",
       "    </tr>\n",
       "  </tbody>\n",
       "</table>\n",
       "</div>"
      ],
      "text/plain": [
       "     index  location  numOfDeathsSinceDay1  numOfCasesSinceDay1       date  \\\n",
       "282   1143  Pakistan                   202                  224 2020-10-08   \n",
       "283   1144  Pakistan                   203                  225 2020-10-09   \n",
       "284   1145  Pakistan                   204                  226 2020-10-10   \n",
       "285   1146  Pakistan                   205                  227 2020-10-11   \n",
       "286   1147  Pakistan                   206                  228 2020-10-12   \n",
       "\n",
       "     new_cases  new_deaths  \n",
       "282      583.0         9.0  \n",
       "283      661.0         8.0  \n",
       "284      671.0         6.0  \n",
       "285      666.0        12.0  \n",
       "286        0.0         0.0  "
      ]
     },
     "execution_count": 234,
     "metadata": {},
     "output_type": "execute_result"
    }
   ],
   "source": [
    "#obtain the data for the country of brazil\n",
    "df_pakistan = other_country_data[other_country_data.location =='Pakistan'].reset_index()\n",
    "\n",
    "#obtain the date of the first case\n",
    "first_case_index = df_pakistan['new_cases'].ne(0).idxmax() \n",
    "\n",
    "#obtain the date of the first death\n",
    "first_death_index= df_pakistan['new_deaths'].ne(0).idxmax() \n",
    "\n",
    "#list to hold the cases since day 1\n",
    "numOfCasesSinceDay1=[]\n",
    "\n",
    "#list to hold the deaths since day 1\n",
    "numOfDeathsSinceDay1=[]\n",
    "\n",
    "#loop to compute the number of cases since day 1\n",
    "counter=1\n",
    "for i,index in enumerate(range(len(df_pakistan))):\n",
    "    if i<=first_case_index:\n",
    "        numOfCasesSinceDay1.insert(index, 0) \n",
    "    else:\n",
    "        numOfCasesSinceDay1.insert(index, counter) \n",
    "        counter = counter+1\n",
    "\n",
    "#loop to compute the number of deaths since day 1\n",
    "counter=1\n",
    "for i,index in enumerate(range(len(df_pakistan))):\n",
    "    if i<=first_death_index:\n",
    "        numOfDeathsSinceDay1.insert(index, 0) \n",
    "    else:\n",
    "        numOfDeathsSinceDay1.insert(index, counter) \n",
    "        counter = counter+1\n",
    "\n",
    "#insert list into dataset as a column\n",
    "df_pakistan.insert(2, \"numOfCasesSinceDay1\", numOfCasesSinceDay1)\n",
    "\n",
    "#insert list into dataset as a column   \n",
    "df_pakistan.insert(2, \"numOfDeathsSinceDay1\", numOfDeathsSinceDay1)\n",
    "\n",
    "#print dataset\n",
    "df_pakistan.tail()"
   ]
  },
  {
   "cell_type": "markdown",
   "metadata": {},
   "source": [
    "### Linear Model Cases"
   ]
  },
  {
   "cell_type": "code",
   "execution_count": 235,
   "metadata": {
    "scrolled": true
   },
   "outputs": [
    {
     "name": "stdout",
     "output_type": "stream",
     "text": [
      "Evaluation of the linear model:\n",
      "Mean Absolute Error: 1078.9811369936563\n",
      "Mean Squared Error: 2130831.3447846156\n",
      "Sqrt of Mean Squared Error: 1459.7367381773386\n",
      "r^2 score: 0.06926407246582167\n",
      "\n",
      "Predicted Deaths:\n",
      "[235] - [1878.94131964]\n",
      "[236] - [1884.27101215]\n",
      "[237] - [1889.60070466]\n",
      "[238] - [1894.93039717]\n",
      "[239] - [1900.26008968]\n",
      "[240] - [1905.5897822]\n",
      "[241] - [1910.91947471]\n"
     ]
    }
   ],
   "source": [
    "#create second dataframe of just the cases data\n",
    "df = df_pakistan[['numOfCasesSinceDay1','new_cases']]\n",
    "\n",
    "#obtain x and y variables for cases\n",
    "X = df.iloc[:,0].values.reshape(-1, 1) \n",
    "y = df.iloc[:,1].values.reshape(-1, 1) \n",
    "\n",
    "#make linear regression model and fit the cases data\n",
    "lm = LinearRegression()\n",
    "lm.fit(X, y)\n",
    "\n",
    "#predict the x variable data using the linear regression model\n",
    "cases_prediction = lm.predict(X)\n",
    "\n",
    "#display data for the linear model\n",
    "print(\"Evaluation of the linear model:\")\n",
    "print(\"Mean Absolute Error:\", metrics.mean_absolute_error(y,cases_prediction))\n",
    "print(\"Mean Squared Error:\", metrics.mean_squared_error(y,cases_prediction))\n",
    "print(\"Sqrt of Mean Squared Error:\", np.sqrt(metrics.mean_squared_error(y,cases_prediction)))\n",
    "print(\"r^2 score:\", r2_score(y,cases_prediction))\n",
    "\n",
    "#predict the future deaths\n",
    "future_cases = lm.predict(future_dates)\n",
    "\n",
    "#display the predicted cases for the future dates\n",
    "print(\"\\nPredicted Deaths:\")\n",
    "for i in range(0, len(future_dates)):\n",
    "    print(future_dates[i], '-', future_cases[i])"
   ]
  },
  {
   "cell_type": "code",
   "execution_count": 236,
   "metadata": {},
   "outputs": [
    {
     "data": {
      "image/png": "[encoded data removed]",
      "text/plain": [
       "<Figure size 432x288 with 1 Axes>"
      ]
     },
     "metadata": {
      "needs_background": "light"
     },
     "output_type": "display_data"
    }
   ],
   "source": [
    "#display cases and the linear regression model\n",
    "def viz_linear():\n",
    "    plt.scatter(X, y, color='red')\n",
    "    plt.plot(X, lm.predict(X), color='blue')\n",
    "    plt.title('Linear Regression')\n",
    "    plt.xlabel('Days from first case')\n",
    "    plt.ylabel('Cases')\n",
    "    plt.show()\n",
    "    return\n",
    "viz_linear()"
   ]
  },
  {
   "cell_type": "markdown",
   "metadata": {},
   "source": [
    "### Polynomial Model Cases"
   ]
  },
  {
   "cell_type": "code",
   "execution_count": 237,
   "metadata": {},
   "outputs": [
    {
     "data": {
      "text/plain": [
       "LinearRegression(copy_X=True, fit_intercept=True, n_jobs=None, normalize=False)"
      ]
     },
     "execution_count": 237,
     "metadata": {},
     "output_type": "execute_result"
    }
   ],
   "source": [
    "#create regression for a polynomial of degree 2\n",
    "poly = PolynomialFeatures(degree = 2)\n",
    "poly_features = poly.fit_transform(X)\n",
    "poly.fit(X,y)\n",
    "poly_regression = LinearRegression()\n",
    "poly_regression.fit(poly_features,y)\n",
    "\n",
    "#create regression for a polynomial of degree 3\n",
    "poly3 = PolynomialFeatures(degree = 3)\n",
    "poly_features3 = poly3.fit_transform(X)\n",
    "poly3.fit(X,y)\n",
    "poly_regression3 = LinearRegression()\n",
    "poly_regression3.fit(poly_features3,y)\n",
    "\n",
    "#create regression for a polynomial of degree 4\n",
    "poly4 = PolynomialFeatures(degree = 4)\n",
    "poly_features4 = poly4.fit_transform(X)\n",
    "poly3.fit(X,y)\n",
    "poly_regression4 = LinearRegression()\n",
    "poly_regression4.fit(poly_features4,y)"
   ]
  },
  {
   "cell_type": "code",
   "execution_count": 238,
   "metadata": {},
   "outputs": [
    {
     "data": {
      "image/png": "[encoded data removed]",
      "text/plain": [
       "<Figure size 432x288 with 1 Axes>"
      ]
     },
     "metadata": {
      "needs_background": "light"
     },
     "output_type": "display_data"
    }
   ],
   "source": [
    "#ploting the data  for polynomial regression \n",
    "plt.scatter(X, y, color='red')\n",
    "plt.plot(X,poly_regression.predict(poly_features),color='blue', label = \"Degree 2\")\n",
    "plt.plot(X,poly_regression3.predict(poly_features3),color='green', label = \"Degree 3\")\n",
    "plt.plot(X,poly_regression4.predict(poly_features4),color='orange', label = \"Degree 4\")\n",
    "plt.legend(loc=\"upper left\")\n",
    "plt.title(\"Days since case 1 vs cases\")\n",
    "plt.xlabel(\"Days \")\n",
    "plt.ylabel(\"Cases\")\n",
    "plt.show()"
   ]
  },
  {
   "cell_type": "code",
   "execution_count": 239,
   "metadata": {},
   "outputs": [
    {
     "name": "stdout",
     "output_type": "stream",
     "text": [
      "Evaluation of the Polynomial-3 model:\n",
      "Polynomial Coefficients: [[ 0.00000000e+00  4.56993310e+01 -1.68568982e-01 -1.72123037e-04]]\n",
      "Polynomial Intercept: [-301.11985608]\n",
      "Mean Squared Error: 1150206.6562985657\n",
      "Sqrt of Mean Squared Error: 1072.476879144052\n",
      "r^2 score: 0.497595780291921\n",
      "\n",
      "Predicted Cases:\n",
      "[235] - [-1104.79035062]\n",
      "[236] - [-1167.12501303]\n",
      "[237] - [-1230.04053962]\n",
      "[238] - [-1293.53796313]\n",
      "[239] - [-1357.6183163]\n",
      "[240] - [-1422.28263187]\n",
      "[241] - [-1487.53194258]\n"
     ]
    }
   ],
   "source": [
    "#displaying data for the polynomial model\n",
    "print(\"Evaluation of the Polynomial-3 model:\")\n",
    "print(\"Polynomial Coefficients:\", poly_regression3.coef_)\n",
    "print(\"Polynomial Intercept:\", poly_regression3.intercept_)\n",
    "print(\"Mean Squared Error:\", metrics.mean_squared_error(y,poly_regression3.predict(poly_features3)))\n",
    "print(\"Sqrt of Mean Squared Error:\", np.sqrt(metrics.mean_squared_error(y,poly_regression3.predict(poly_features3))))\n",
    "print(\"r^2 score:\", r2_score(y,poly_regression3.predict(poly_features3)))\n",
    "\n",
    "#predict future cases\n",
    "poly_features_f = poly3.fit_transform(future_dates)\n",
    "predicted_dates = poly_regression3.predict(poly_features_f)\n",
    "\n",
    "#display the predicted cases for the future dates\n",
    "print(\"\\nPredicted Cases:\")\n",
    "for i in range(0, len(future_dates)):\n",
    "    print(future_dates[i], '-', predicted_dates[i])"
   ]
  },
  {
   "cell_type": "markdown",
   "metadata": {},
   "source": [
    "### Linear Model Deaths"
   ]
  },
  {
   "cell_type": "code",
   "execution_count": 240,
   "metadata": {
    "scrolled": true
   },
   "outputs": [
    {
     "name": "stdout",
     "output_type": "stream",
     "text": [
      "Evaluation of the linear model:\n",
      "Mean Absolute Error: 23.854175572553466\n",
      "Mean Squared Error: 1007.4789703738645\n",
      "Sqrt of Mean Squared Error: 31.740809226827608\n",
      "r^2 score: 0.04068611275999845\n",
      "\n",
      "Predicted Deaths:\n",
      "[235] - [38.20199752]\n",
      "[236] - [38.29726188]\n",
      "[237] - [38.39252624]\n",
      "[238] - [38.4877906]\n",
      "[239] - [38.58305496]\n",
      "[240] - [38.67831932]\n",
      "[241] - [38.77358368]\n"
     ]
    }
   ],
   "source": [
    "#create second dataframe of just the deaths data\n",
    "df = df_pakistan[['numOfDeathsSinceDay1','new_deaths']]\n",
    "\n",
    "#obtain x and y variables for deaths\n",
    "X = df.iloc[:,0].values.reshape(-1, 1) \n",
    "y = df.iloc[:,1].values.reshape(-1, 1) \n",
    "\n",
    "#make linear regression model and fit the deaths data\n",
    "lm = LinearRegression()\n",
    "lm.fit(X, y)\n",
    "\n",
    "#predict the x variable data using the linear regression model\n",
    "deaths_prediction = lm.predict(X)\n",
    "\n",
    "#display data for the linear model\n",
    "print(\"Evaluation of the linear model:\")\n",
    "print(\"Mean Absolute Error:\", metrics.mean_absolute_error(y,deaths_prediction))\n",
    "print(\"Mean Squared Error:\", metrics.mean_squared_error(y,deaths_prediction))\n",
    "print(\"Sqrt of Mean Squared Error:\", np.sqrt(metrics.mean_squared_error(y,deaths_prediction)))\n",
    "print(\"r^2 score:\", r2_score(y,deaths_prediction))\n",
    "\n",
    "#predict the future deaths\n",
    "future_deaths = lm.predict(future_dates)\n",
    "\n",
    "#display the predicted deaths for the future dates\n",
    "print(\"\\nPredicted Deaths:\")\n",
    "for i in range(0, len(future_dates)):\n",
    "    print(future_dates[i], '-', future_deaths[i])"
   ]
  },
  {
   "cell_type": "code",
   "execution_count": 241,
   "metadata": {},
   "outputs": [
    {
     "data": {
      "image/png": "[encoded data removed]",
      "text/plain": [
       "<Figure size 432x288 with 1 Axes>"
      ]
     },
     "metadata": {
      "needs_background": "light"
     },
     "output_type": "display_data"
    }
   ],
   "source": [
    "#display deaths and the linear regression model\n",
    "def viz_linear():\n",
    "    plt.scatter(X, y, color='red')\n",
    "    plt.plot(X, lm.predict(X), color='blue')\n",
    "    plt.title('Linear Regression')\n",
    "    plt.xlabel('Days from first death')\n",
    "    plt.ylabel('Deaths')\n",
    "    plt.show()\n",
    "    return\n",
    "viz_linear()"
   ]
  },
  {
   "cell_type": "markdown",
   "metadata": {},
   "source": [
    "### Polynomial Model Deaths"
   ]
  },
  {
   "cell_type": "code",
   "execution_count": 242,
   "metadata": {},
   "outputs": [
    {
     "data": {
      "text/plain": [
       "LinearRegression(copy_X=True, fit_intercept=True, n_jobs=None, normalize=False)"
      ]
     },
     "execution_count": 242,
     "metadata": {},
     "output_type": "execute_result"
    }
   ],
   "source": [
    "#create regression for a polynomial of degree 2\n",
    "poly = PolynomialFeatures(degree = 2)\n",
    "poly_features = poly.fit_transform(X)\n",
    "poly.fit(X,y)\n",
    "poly_regression = LinearRegression()\n",
    "poly_regression.fit(poly_features,y)\n",
    "\n",
    "#create regression for a polynomial of degree 3\n",
    "poly3 = PolynomialFeatures(degree = 3)\n",
    "poly_features3 = poly3.fit_transform(X)\n",
    "poly3.fit(X,y)\n",
    "poly_regression3 = LinearRegression()\n",
    "poly_regression3.fit(poly_features3,y)\n",
    "\n",
    "#create regression for a polynomial of degree 4\n",
    "poly4 = PolynomialFeatures(degree = 4)\n",
    "poly_features4 = poly4.fit_transform(X)\n",
    "poly3.fit(X,y)\n",
    "poly_regression4 = LinearRegression()\n",
    "poly_regression4.fit(poly_features4,y)"
   ]
  },
  {
   "cell_type": "code",
   "execution_count": 243,
   "metadata": {},
   "outputs": [
    {
     "data": {
      "image/png": "[encoded data removed]",
      "text/plain": [
       "<Figure size 432x288 with 1 Axes>"
      ]
     },
     "metadata": {
      "needs_background": "light"
     },
     "output_type": "display_data"
    }
   ],
   "source": [
    "#ploting the data  for polynomial regression \n",
    "plt.scatter(X, y, color='red')\n",
    "plt.plot(X,poly_regression.predict(poly_features),color='blue', label = \"Degree 2\")\n",
    "plt.plot(X,poly_regression3.predict(poly_features3),color='green', label = \"Degree 3\")\n",
    "plt.plot(X,poly_regression4.predict(poly_features4),color='orange', label = \"Degree 4\")\n",
    "plt.legend(loc=\"upper left\")\n",
    "plt.title(\"Days since death 1 vs cases\")\n",
    "plt.xlabel(\"Days \")\n",
    "plt.ylabel(\"Deaths\")\n",
    "plt.show()"
   ]
  },
  {
   "cell_type": "code",
   "execution_count": 244,
   "metadata": {},
   "outputs": [
    {
     "name": "stdout",
     "output_type": "stream",
     "text": [
      "Evaluation of the Polynomial-3 model:\n",
      "Polynomial Coefficients: [[ 0.00000000e+00  1.73118024e+00 -1.37207590e-02  2.50406776e-05]]\n",
      "Polynomial Intercept: [-5.05422623]\n",
      "Mean Squared Error: 423.72305029769194\n",
      "Sqrt of Mean Squared Error: 20.584534250200853\n",
      "r^2 score: 0.5965341029962858\n",
      "\n",
      "Predicted Cases:\n",
      "[235] - [-30.98100313]\n",
      "[236] - [-31.54600741]\n",
      "[237] - [-32.10299561]\n",
      "[238] - [-32.65181748]\n",
      "[239] - [-33.19232278]\n",
      "[240] - [-33.72436127]\n",
      "[241] - [-34.2477827]\n"
     ]
    }
   ],
   "source": [
    "#displaying data for the polynomial model\n",
    "print(\"Evaluation of the Polynomial-3 model:\")\n",
    "print(\"Polynomial Coefficients:\", poly_regression3.coef_)\n",
    "print(\"Polynomial Intercept:\", poly_regression3.intercept_)\n",
    "print(\"Mean Squared Error:\", metrics.mean_squared_error(y,poly_regression3.predict(poly_features3)))\n",
    "print(\"Sqrt of Mean Squared Error:\", np.sqrt(metrics.mean_squared_error(y,poly_regression3.predict(poly_features3))))\n",
    "print(\"r^2 score:\", r2_score(y,poly_regression3.predict(poly_features3)))\n",
    "\n",
    "#predict future cases\n",
    "poly_features_f = poly3.fit_transform(future_dates)\n",
    "predicted_dates = poly_regression3.predict(poly_features_f)\n",
    "\n",
    "#display the predicted cases for the future dates\n",
    "print(\"\\nPredicted Cases:\")\n",
    "for i in range(0, len(future_dates)):\n",
    "    print(future_dates[i], '-', predicted_dates[i])"
   ]
  }
 ],
 "metadata": {
  "colab": {
   "name": "Team3_stage3.ipynb",
   "provenance": []
  },
  "kernelspec": {
   "display_name": "Python 3",
   "language": "python",
   "name": "python3"
  },
  "language_info": {
   "codemirror_mode": {
    "name": "ipython",
    "version": 3
   },
   "file_extension": ".py",
   "mimetype": "text/x-python",
   "name": "python",
   "nbconvert_exporter": "python",
   "pygments_lexer": "ipython3",
   "version": "3.7.4"
  }
 },
 "nbformat": 4,
 "nbformat_minor": 1
}
