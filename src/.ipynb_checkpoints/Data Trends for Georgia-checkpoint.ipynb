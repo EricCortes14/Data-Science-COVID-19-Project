{
 "cells": [
  {
   "cell_type": "markdown",
   "metadata": {},
   "source": [
    "### Import Libraries"
   ]
  },
  {
   "cell_type": "code",
   "execution_count": 47,
   "metadata": {},
   "outputs": [],
   "source": [
    "#import pandas\n",
    "import pandas as pd\n",
    "import matplotlib.pyplot as plt"
   ]
  },
  {
   "cell_type": "markdown",
   "metadata": {},
   "source": [
    "### Obtain Covid-19 Dataset"
   ]
  },
  {
   "cell_type": "code",
   "execution_count": 48,
   "metadata": {
    "scrolled": false
   },
   "outputs": [
    {
     "data": {
      "text/html": [
       "<div>\n",
       "<style scoped>\n",
       "    .dataframe tbody tr th:only-of-type {\n",
       "        vertical-align: middle;\n",
       "    }\n",
       "\n",
       "    .dataframe tbody tr th {\n",
       "        vertical-align: top;\n",
       "    }\n",
       "\n",
       "    .dataframe thead th {\n",
       "        text-align: right;\n",
       "    }\n",
       "</style>\n",
       "<table border=\"1\" class=\"dataframe\">\n",
       "  <thead>\n",
       "    <tr style=\"text-align: right;\">\n",
       "      <th></th>\n",
       "      <th>State</th>\n",
       "      <th>countyFIPS</th>\n",
       "      <th>County Name</th>\n",
       "      <th>Date</th>\n",
       "      <th>Num of Cases</th>\n",
       "      <th>Num of Deaths</th>\n",
       "      <th>population</th>\n",
       "    </tr>\n",
       "  </thead>\n",
       "  <tbody>\n",
       "    <tr>\n",
       "      <th>0</th>\n",
       "      <td>AL</td>\n",
       "      <td>0</td>\n",
       "      <td>statewide unallocated</td>\n",
       "      <td>2020-01-22</td>\n",
       "      <td>0</td>\n",
       "      <td>0</td>\n",
       "      <td>0</td>\n",
       "    </tr>\n",
       "    <tr>\n",
       "      <th>1</th>\n",
       "      <td>AL</td>\n",
       "      <td>0</td>\n",
       "      <td>statewide unallocated</td>\n",
       "      <td>2020-01-23</td>\n",
       "      <td>0</td>\n",
       "      <td>0</td>\n",
       "      <td>0</td>\n",
       "    </tr>\n",
       "    <tr>\n",
       "      <th>2</th>\n",
       "      <td>AL</td>\n",
       "      <td>0</td>\n",
       "      <td>statewide unallocated</td>\n",
       "      <td>2020-01-24</td>\n",
       "      <td>0</td>\n",
       "      <td>0</td>\n",
       "      <td>0</td>\n",
       "    </tr>\n",
       "    <tr>\n",
       "      <th>3</th>\n",
       "      <td>AL</td>\n",
       "      <td>0</td>\n",
       "      <td>statewide unallocated</td>\n",
       "      <td>2020-01-25</td>\n",
       "      <td>0</td>\n",
       "      <td>0</td>\n",
       "      <td>0</td>\n",
       "    </tr>\n",
       "    <tr>\n",
       "      <th>4</th>\n",
       "      <td>AL</td>\n",
       "      <td>0</td>\n",
       "      <td>statewide unallocated</td>\n",
       "      <td>2020-01-26</td>\n",
       "      <td>0</td>\n",
       "      <td>0</td>\n",
       "      <td>0</td>\n",
       "    </tr>\n",
       "    <tr>\n",
       "      <th>...</th>\n",
       "      <td>...</td>\n",
       "      <td>...</td>\n",
       "      <td>...</td>\n",
       "      <td>...</td>\n",
       "      <td>...</td>\n",
       "      <td>...</td>\n",
       "      <td>...</td>\n",
       "    </tr>\n",
       "    <tr>\n",
       "      <th>757210</th>\n",
       "      <td>WY</td>\n",
       "      <td>56045</td>\n",
       "      <td>weston county</td>\n",
       "      <td>2020-09-10</td>\n",
       "      <td>21</td>\n",
       "      <td>0</td>\n",
       "      <td>6927</td>\n",
       "    </tr>\n",
       "    <tr>\n",
       "      <th>757211</th>\n",
       "      <td>WY</td>\n",
       "      <td>56045</td>\n",
       "      <td>weston county</td>\n",
       "      <td>2020-09-11</td>\n",
       "      <td>21</td>\n",
       "      <td>0</td>\n",
       "      <td>6927</td>\n",
       "    </tr>\n",
       "    <tr>\n",
       "      <th>757212</th>\n",
       "      <td>WY</td>\n",
       "      <td>56045</td>\n",
       "      <td>weston county</td>\n",
       "      <td>2020-09-12</td>\n",
       "      <td>23</td>\n",
       "      <td>0</td>\n",
       "      <td>6927</td>\n",
       "    </tr>\n",
       "    <tr>\n",
       "      <th>757213</th>\n",
       "      <td>WY</td>\n",
       "      <td>56045</td>\n",
       "      <td>weston county</td>\n",
       "      <td>2020-09-13</td>\n",
       "      <td>23</td>\n",
       "      <td>0</td>\n",
       "      <td>6927</td>\n",
       "    </tr>\n",
       "    <tr>\n",
       "      <th>757214</th>\n",
       "      <td>WY</td>\n",
       "      <td>56045</td>\n",
       "      <td>weston county</td>\n",
       "      <td>2020-09-14</td>\n",
       "      <td>23</td>\n",
       "      <td>0</td>\n",
       "      <td>6927</td>\n",
       "    </tr>\n",
       "  </tbody>\n",
       "</table>\n",
       "<p>757215 rows × 7 columns</p>\n",
       "</div>"
      ],
      "text/plain": [
       "       State  countyFIPS            County Name        Date  Num of Cases  \\\n",
       "0         AL           0  statewide unallocated  2020-01-22             0   \n",
       "1         AL           0  statewide unallocated  2020-01-23             0   \n",
       "2         AL           0  statewide unallocated  2020-01-24             0   \n",
       "3         AL           0  statewide unallocated  2020-01-25             0   \n",
       "4         AL           0  statewide unallocated  2020-01-26             0   \n",
       "...      ...         ...                    ...         ...           ...   \n",
       "757210    WY       56045          weston county  2020-09-10            21   \n",
       "757211    WY       56045          weston county  2020-09-11            21   \n",
       "757212    WY       56045          weston county  2020-09-12            23   \n",
       "757213    WY       56045          weston county  2020-09-13            23   \n",
       "757214    WY       56045          weston county  2020-09-14            23   \n",
       "\n",
       "        Num of Deaths  population  \n",
       "0                   0           0  \n",
       "1                   0           0  \n",
       "2                   0           0  \n",
       "3                   0           0  \n",
       "4                   0           0  \n",
       "...               ...         ...  \n",
       "757210              0        6927  \n",
       "757211              0        6927  \n",
       "757212              0        6927  \n",
       "757213              0        6927  \n",
       "757214              0        6927  \n",
       "\n",
       "[757215 rows x 7 columns]"
      ]
     },
     "execution_count": 48,
     "metadata": {},
     "output_type": "execute_result"
    }
   ],
   "source": [
    "#make a dataframe of the covid-19 dataset\n",
    "main_dataset = pd.read_csv('../data/covid_large.csv')\n",
    "\n",
    "#display data\n",
    "main_dataset"
   ]
  },
  {
   "cell_type": "markdown",
   "metadata": {},
   "source": [
    "### Data Manipulation"
   ]
  },
  {
   "cell_type": "code",
   "execution_count": 49,
   "metadata": {},
   "outputs": [
    {
     "data": {
      "text/html": [
       "<div>\n",
       "<style scoped>\n",
       "    .dataframe tbody tr th:only-of-type {\n",
       "        vertical-align: middle;\n",
       "    }\n",
       "\n",
       "    .dataframe tbody tr th {\n",
       "        vertical-align: top;\n",
       "    }\n",
       "\n",
       "    .dataframe thead th {\n",
       "        text-align: right;\n",
       "    }\n",
       "</style>\n",
       "<table border=\"1\" class=\"dataframe\">\n",
       "  <thead>\n",
       "    <tr style=\"text-align: right;\">\n",
       "      <th></th>\n",
       "      <th>State</th>\n",
       "      <th>countyFIPS</th>\n",
       "      <th>County Name</th>\n",
       "      <th>Date</th>\n",
       "      <th>Num of Cases</th>\n",
       "      <th>Num of Deaths</th>\n",
       "      <th>population</th>\n",
       "    </tr>\n",
       "  </thead>\n",
       "  <tbody>\n",
       "    <tr>\n",
       "      <th>94326</th>\n",
       "      <td>GA</td>\n",
       "      <td>0</td>\n",
       "      <td>statewide unallocated</td>\n",
       "      <td>2020-01-22</td>\n",
       "      <td>0</td>\n",
       "      <td>0</td>\n",
       "      <td>0</td>\n",
       "    </tr>\n",
       "    <tr>\n",
       "      <th>94327</th>\n",
       "      <td>GA</td>\n",
       "      <td>0</td>\n",
       "      <td>statewide unallocated</td>\n",
       "      <td>2020-01-23</td>\n",
       "      <td>0</td>\n",
       "      <td>0</td>\n",
       "      <td>0</td>\n",
       "    </tr>\n",
       "    <tr>\n",
       "      <th>94328</th>\n",
       "      <td>GA</td>\n",
       "      <td>0</td>\n",
       "      <td>statewide unallocated</td>\n",
       "      <td>2020-01-24</td>\n",
       "      <td>0</td>\n",
       "      <td>0</td>\n",
       "      <td>0</td>\n",
       "    </tr>\n",
       "    <tr>\n",
       "      <th>94329</th>\n",
       "      <td>GA</td>\n",
       "      <td>0</td>\n",
       "      <td>statewide unallocated</td>\n",
       "      <td>2020-01-25</td>\n",
       "      <td>0</td>\n",
       "      <td>0</td>\n",
       "      <td>0</td>\n",
       "    </tr>\n",
       "    <tr>\n",
       "      <th>94330</th>\n",
       "      <td>GA</td>\n",
       "      <td>0</td>\n",
       "      <td>statewide unallocated</td>\n",
       "      <td>2020-01-26</td>\n",
       "      <td>0</td>\n",
       "      <td>0</td>\n",
       "      <td>0</td>\n",
       "    </tr>\n",
       "    <tr>\n",
       "      <th>...</th>\n",
       "      <td>...</td>\n",
       "      <td>...</td>\n",
       "      <td>...</td>\n",
       "      <td>...</td>\n",
       "      <td>...</td>\n",
       "      <td>...</td>\n",
       "      <td>...</td>\n",
       "    </tr>\n",
       "    <tr>\n",
       "      <th>132241</th>\n",
       "      <td>GA</td>\n",
       "      <td>13321</td>\n",
       "      <td>worth county</td>\n",
       "      <td>2020-09-10</td>\n",
       "      <td>514</td>\n",
       "      <td>29</td>\n",
       "      <td>20247</td>\n",
       "    </tr>\n",
       "    <tr>\n",
       "      <th>132242</th>\n",
       "      <td>GA</td>\n",
       "      <td>13321</td>\n",
       "      <td>worth county</td>\n",
       "      <td>2020-09-11</td>\n",
       "      <td>514</td>\n",
       "      <td>29</td>\n",
       "      <td>20247</td>\n",
       "    </tr>\n",
       "    <tr>\n",
       "      <th>132243</th>\n",
       "      <td>GA</td>\n",
       "      <td>13321</td>\n",
       "      <td>worth county</td>\n",
       "      <td>2020-09-12</td>\n",
       "      <td>513</td>\n",
       "      <td>29</td>\n",
       "      <td>20247</td>\n",
       "    </tr>\n",
       "    <tr>\n",
       "      <th>132244</th>\n",
       "      <td>GA</td>\n",
       "      <td>13321</td>\n",
       "      <td>worth county</td>\n",
       "      <td>2020-09-13</td>\n",
       "      <td>513</td>\n",
       "      <td>29</td>\n",
       "      <td>20247</td>\n",
       "    </tr>\n",
       "    <tr>\n",
       "      <th>132245</th>\n",
       "      <td>GA</td>\n",
       "      <td>13321</td>\n",
       "      <td>worth county</td>\n",
       "      <td>2020-09-14</td>\n",
       "      <td>513</td>\n",
       "      <td>29</td>\n",
       "      <td>20247</td>\n",
       "    </tr>\n",
       "  </tbody>\n",
       "</table>\n",
       "<p>37920 rows × 7 columns</p>\n",
       "</div>"
      ],
      "text/plain": [
       "       State  countyFIPS            County Name        Date  Num of Cases  \\\n",
       "94326     GA           0  statewide unallocated  2020-01-22             0   \n",
       "94327     GA           0  statewide unallocated  2020-01-23             0   \n",
       "94328     GA           0  statewide unallocated  2020-01-24             0   \n",
       "94329     GA           0  statewide unallocated  2020-01-25             0   \n",
       "94330     GA           0  statewide unallocated  2020-01-26             0   \n",
       "...      ...         ...                    ...         ...           ...   \n",
       "132241    GA       13321           worth county  2020-09-10           514   \n",
       "132242    GA       13321           worth county  2020-09-11           514   \n",
       "132243    GA       13321           worth county  2020-09-12           513   \n",
       "132244    GA       13321           worth county  2020-09-13           513   \n",
       "132245    GA       13321           worth county  2020-09-14           513   \n",
       "\n",
       "        Num of Deaths  population  \n",
       "94326               0           0  \n",
       "94327               0           0  \n",
       "94328               0           0  \n",
       "94329               0           0  \n",
       "94330               0           0  \n",
       "...               ...         ...  \n",
       "132241             29       20247  \n",
       "132242             29       20247  \n",
       "132243             29       20247  \n",
       "132244             29       20247  \n",
       "132245             29       20247  \n",
       "\n",
       "[37920 rows x 7 columns]"
      ]
     },
     "execution_count": 49,
     "metadata": {},
     "output_type": "execute_result"
    }
   ],
   "source": [
    "#obtain rows that only have Georgia(GA) as the state\n",
    "main_dataset = main_dataset[main_dataset['State'] == 'GA']\n",
    "\n",
    "#display data\n",
    "main_dataset"
   ]
  },
  {
   "cell_type": "code",
   "execution_count": 50,
   "metadata": {},
   "outputs": [
    {
     "data": {
      "text/html": [
       "<div>\n",
       "<style scoped>\n",
       "    .dataframe tbody tr th:only-of-type {\n",
       "        vertical-align: middle;\n",
       "    }\n",
       "\n",
       "    .dataframe tbody tr th {\n",
       "        vertical-align: top;\n",
       "    }\n",
       "\n",
       "    .dataframe thead th {\n",
       "        text-align: right;\n",
       "    }\n",
       "</style>\n",
       "<table border=\"1\" class=\"dataframe\">\n",
       "  <thead>\n",
       "    <tr style=\"text-align: right;\">\n",
       "      <th></th>\n",
       "      <th>State</th>\n",
       "      <th>Date</th>\n",
       "      <th>Num of Cases</th>\n",
       "      <th>Num of Deaths</th>\n",
       "      <th>population</th>\n",
       "    </tr>\n",
       "  </thead>\n",
       "  <tbody>\n",
       "    <tr>\n",
       "      <th>94326</th>\n",
       "      <td>GA</td>\n",
       "      <td>2020-01-22</td>\n",
       "      <td>0</td>\n",
       "      <td>0</td>\n",
       "      <td>0</td>\n",
       "    </tr>\n",
       "    <tr>\n",
       "      <th>94327</th>\n",
       "      <td>GA</td>\n",
       "      <td>2020-01-23</td>\n",
       "      <td>0</td>\n",
       "      <td>0</td>\n",
       "      <td>0</td>\n",
       "    </tr>\n",
       "    <tr>\n",
       "      <th>94328</th>\n",
       "      <td>GA</td>\n",
       "      <td>2020-01-24</td>\n",
       "      <td>0</td>\n",
       "      <td>0</td>\n",
       "      <td>0</td>\n",
       "    </tr>\n",
       "    <tr>\n",
       "      <th>94329</th>\n",
       "      <td>GA</td>\n",
       "      <td>2020-01-25</td>\n",
       "      <td>0</td>\n",
       "      <td>0</td>\n",
       "      <td>0</td>\n",
       "    </tr>\n",
       "    <tr>\n",
       "      <th>94330</th>\n",
       "      <td>GA</td>\n",
       "      <td>2020-01-26</td>\n",
       "      <td>0</td>\n",
       "      <td>0</td>\n",
       "      <td>0</td>\n",
       "    </tr>\n",
       "    <tr>\n",
       "      <th>...</th>\n",
       "      <td>...</td>\n",
       "      <td>...</td>\n",
       "      <td>...</td>\n",
       "      <td>...</td>\n",
       "      <td>...</td>\n",
       "    </tr>\n",
       "    <tr>\n",
       "      <th>132241</th>\n",
       "      <td>GA</td>\n",
       "      <td>2020-09-10</td>\n",
       "      <td>514</td>\n",
       "      <td>29</td>\n",
       "      <td>20247</td>\n",
       "    </tr>\n",
       "    <tr>\n",
       "      <th>132242</th>\n",
       "      <td>GA</td>\n",
       "      <td>2020-09-11</td>\n",
       "      <td>514</td>\n",
       "      <td>29</td>\n",
       "      <td>20247</td>\n",
       "    </tr>\n",
       "    <tr>\n",
       "      <th>132243</th>\n",
       "      <td>GA</td>\n",
       "      <td>2020-09-12</td>\n",
       "      <td>513</td>\n",
       "      <td>29</td>\n",
       "      <td>20247</td>\n",
       "    </tr>\n",
       "    <tr>\n",
       "      <th>132244</th>\n",
       "      <td>GA</td>\n",
       "      <td>2020-09-13</td>\n",
       "      <td>513</td>\n",
       "      <td>29</td>\n",
       "      <td>20247</td>\n",
       "    </tr>\n",
       "    <tr>\n",
       "      <th>132245</th>\n",
       "      <td>GA</td>\n",
       "      <td>2020-09-14</td>\n",
       "      <td>513</td>\n",
       "      <td>29</td>\n",
       "      <td>20247</td>\n",
       "    </tr>\n",
       "  </tbody>\n",
       "</table>\n",
       "<p>37920 rows × 5 columns</p>\n",
       "</div>"
      ],
      "text/plain": [
       "       State        Date  Num of Cases  Num of Deaths  population\n",
       "94326     GA  2020-01-22             0              0           0\n",
       "94327     GA  2020-01-23             0              0           0\n",
       "94328     GA  2020-01-24             0              0           0\n",
       "94329     GA  2020-01-25             0              0           0\n",
       "94330     GA  2020-01-26             0              0           0\n",
       "...      ...         ...           ...            ...         ...\n",
       "132241    GA  2020-09-10           514             29       20247\n",
       "132242    GA  2020-09-11           514             29       20247\n",
       "132243    GA  2020-09-12           513             29       20247\n",
       "132244    GA  2020-09-13           513             29       20247\n",
       "132245    GA  2020-09-14           513             29       20247\n",
       "\n",
       "[37920 rows x 5 columns]"
      ]
     },
     "execution_count": 50,
     "metadata": {},
     "output_type": "execute_result"
    }
   ],
   "source": [
    "#obtain the only necessary columns\n",
    "main_dataset = main_dataset[['State', 'Date', 'Num of Cases', 'Num of Deaths', 'population']]\n",
    "\n",
    "#display data\n",
    "main_dataset"
   ]
  },
  {
   "cell_type": "code",
   "execution_count": 51,
   "metadata": {},
   "outputs": [
    {
     "data": {
      "text/plain": [
       "Date\n",
       "2020-09-08    285331\n",
       "2020-09-09    287275\n",
       "2020-09-10    289113\n",
       "2020-09-11    290775\n",
       "2020-09-12    292896\n",
       "2020-09-13    294307\n",
       "2020-09-14    295327\n",
       "Name: Num of Cases, dtype: int64"
      ]
     },
     "execution_count": 51,
     "metadata": {},
     "output_type": "execute_result"
    }
   ],
   "source": [
    "#add the number of cases in each row by corresponding date\n",
    "num_of_cases = main_dataset.groupby('Date')['Num of Cases'].sum()\n",
    "\n",
    "#get the last 7 days of the data\n",
    "num_of_cases = num_of_cases.tail(7)\n",
    "\n",
    "#display data\n",
    "num_of_cases"
   ]
  },
  {
   "cell_type": "code",
   "execution_count": 52,
   "metadata": {},
   "outputs": [
    {
     "data": {
      "text/plain": [
       "Date\n",
       "2020-09-08    6065\n",
       "2020-09-09    6123\n",
       "2020-09-10    6199\n",
       "2020-09-11    6245\n",
       "2020-09-12    6286\n",
       "2020-09-13    6331\n",
       "2020-09-14    6351\n",
       "Name: Num of Deaths, dtype: int64"
      ]
     },
     "execution_count": 52,
     "metadata": {},
     "output_type": "execute_result"
    }
   ],
   "source": [
    "#add the number of deaths in each row by corresponding date\n",
    "num_of_deaths = main_dataset.groupby('Date')['Num of Deaths'].sum()\n",
    "\n",
    "#obtain the last 7 days of the data\n",
    "num_of_deaths = num_of_deaths.tail(7)\n",
    "\n",
    "#display data\n",
    "num_of_deaths"
   ]
  },
  {
   "cell_type": "markdown",
   "metadata": {},
   "source": [
    "### Graphs"
   ]
  },
  {
   "cell_type": "markdown",
   "metadata": {},
   "source": [
    "#### Number of Cases"
   ]
  },
  {
   "cell_type": "code",
   "execution_count": 53,
   "metadata": {},
   "outputs": [
    {
     "data": {
      "text/plain": [
       "<matplotlib.axes._subplots.AxesSubplot at 0x1d0e5a82d48>"
      ]
     },
     "execution_count": 53,
     "metadata": {},
     "output_type": "execute_result"
    },
    {
     "data": {
      "image/png": "[encoded data removed]",
      "text/plain": [
       "<Figure size 432x288 with 1 Axes>"
      ]
     },
     "metadata": {
      "needs_background": "light"
     },
     "output_type": "display_data"
    }
   ],
   "source": [
    "#plot number of cases of the last week of Georgia\n",
    "num_of_cases.plot(x ='Date', y='Num of Cases', kind = 'line')"
   ]
  },
  {
   "cell_type": "markdown",
   "metadata": {},
   "source": [
    "#### Number of Deaths"
   ]
  },
  {
   "cell_type": "code",
   "execution_count": 54,
   "metadata": {},
   "outputs": [
    {
     "data": {
      "text/plain": [
       "<matplotlib.axes._subplots.AxesSubplot at 0x1d0e4c97308>"
      ]
     },
     "execution_count": 54,
     "metadata": {},
     "output_type": "execute_result"
    },
    {
     "data": {
      "image/png": "[encoded data removed]",
      "text/plain": [
       "<Figure size 432x288 with 1 Axes>"
      ]
     },
     "metadata": {
      "needs_background": "light"
     },
     "output_type": "display_data"
    }
   ],
   "source": [
    "#plot number of deaths of the last week of Georgia\n",
    "num_of_deaths.plot(x ='Date', y='Num of Deaths', kind = 'line')"
   ]
  },
  {
   "cell_type": "markdown",
   "metadata": {},
   "source": [
    "### Observations"
   ]
  },
  {
   "cell_type": "markdown",
   "metadata": {},
   "source": [
    "As can be noted in both line graphs above, the number of cases as well as the number of deaths for the last 7 days of the state Georgia have been increasing. The number of cases appears to increase at steady rate very linear and the number of deaths also appear to be increasing linearly excpet that towards the end of the week the rate of the number of deaths decreased. Both death and cases rate are currently increasing."
   ]
  },
  {
   "cell_type": "markdown",
   "metadata": {},
   "source": [
    "# By: Eric Cortes"
   ]
  }
 ],
 "metadata": {
  "kernelspec": {
   "display_name": "Python 3",
   "language": "python",
   "name": "python3"
  },
  "language_info": {
   "codemirror_mode": {
    "name": "ipython",
    "version": 3
   },
   "file_extension": ".py",
   "mimetype": "text/x-python",
   "name": "python",
   "nbconvert_exporter": "python",
   "pygments_lexer": "ipython3",
   "version": "3.7.4"
  }
 },
 "nbformat": 4,
 "nbformat_minor": 4
}
