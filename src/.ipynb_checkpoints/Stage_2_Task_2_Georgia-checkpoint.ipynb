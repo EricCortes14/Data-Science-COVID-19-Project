{
 "cells": [
  {
   "cell_type": "markdown",
   "metadata": {},
   "source": [
    "# Import Libraries"
   ]
  },
  {
   "cell_type": "code",
   "execution_count": 1,
   "metadata": {},
   "outputs": [],
   "source": [
    "import pandas as pd\n",
    "from datetime import datetime\n",
    "import plotly.express as px\n",
    "import matplotlib.pyplot as plt\n",
    "import scipy.stats  as stats\n",
    "import numpy as np"
   ]
  },
  {
   "cell_type": "markdown",
   "metadata": {},
   "source": [
    "# Part 1"
   ]
  },
  {
   "cell_type": "markdown",
   "metadata": {},
   "source": [
    "### Data Manipulation and Aggregation"
   ]
  },
  {
   "cell_type": "code",
   "execution_count": 2,
   "metadata": {},
   "outputs": [
    {
     "data": {
      "text/html": [
       "<div>\n",
       "<style scoped>\n",
       "    .dataframe tbody tr th:only-of-type {\n",
       "        vertical-align: middle;\n",
       "    }\n",
       "\n",
       "    .dataframe tbody tr th {\n",
       "        vertical-align: top;\n",
       "    }\n",
       "\n",
       "    .dataframe thead th {\n",
       "        text-align: right;\n",
       "    }\n",
       "</style>\n",
       "<table border=\"1\" class=\"dataframe\">\n",
       "  <thead>\n",
       "    <tr style=\"text-align: right;\">\n",
       "      <th></th>\n",
       "      <th>Date</th>\n",
       "      <th>Num of Cases</th>\n",
       "    </tr>\n",
       "  </thead>\n",
       "  <tbody>\n",
       "    <tr>\n",
       "      <th>0</th>\n",
       "      <td>2020-01-22</td>\n",
       "      <td>0</td>\n",
       "    </tr>\n",
       "    <tr>\n",
       "      <th>1</th>\n",
       "      <td>2020-01-23</td>\n",
       "      <td>0</td>\n",
       "    </tr>\n",
       "    <tr>\n",
       "      <th>2</th>\n",
       "      <td>2020-01-24</td>\n",
       "      <td>0</td>\n",
       "    </tr>\n",
       "    <tr>\n",
       "      <th>3</th>\n",
       "      <td>2020-01-25</td>\n",
       "      <td>0</td>\n",
       "    </tr>\n",
       "    <tr>\n",
       "      <th>4</th>\n",
       "      <td>2020-01-26</td>\n",
       "      <td>0</td>\n",
       "    </tr>\n",
       "    <tr>\n",
       "      <th>...</th>\n",
       "      <td>...</td>\n",
       "      <td>...</td>\n",
       "    </tr>\n",
       "    <tr>\n",
       "      <th>232</th>\n",
       "      <td>2020-09-10</td>\n",
       "      <td>270138</td>\n",
       "    </tr>\n",
       "    <tr>\n",
       "      <th>233</th>\n",
       "      <td>2020-09-11</td>\n",
       "      <td>271810</td>\n",
       "    </tr>\n",
       "    <tr>\n",
       "      <th>234</th>\n",
       "      <td>2020-09-12</td>\n",
       "      <td>273843</td>\n",
       "    </tr>\n",
       "    <tr>\n",
       "      <th>235</th>\n",
       "      <td>2020-09-13</td>\n",
       "      <td>275249</td>\n",
       "    </tr>\n",
       "    <tr>\n",
       "      <th>236</th>\n",
       "      <td>2020-09-14</td>\n",
       "      <td>276275</td>\n",
       "    </tr>\n",
       "  </tbody>\n",
       "</table>\n",
       "<p>237 rows × 2 columns</p>\n",
       "</div>"
      ],
      "text/plain": [
       "          Date  Num of Cases\n",
       "0   2020-01-22             0\n",
       "1   2020-01-23             0\n",
       "2   2020-01-24             0\n",
       "3   2020-01-25             0\n",
       "4   2020-01-26             0\n",
       "..         ...           ...\n",
       "232 2020-09-10        270138\n",
       "233 2020-09-11        271810\n",
       "234 2020-09-12        273843\n",
       "235 2020-09-13        275249\n",
       "236 2020-09-14        276275\n",
       "\n",
       "[237 rows x 2 columns]"
      ]
     },
     "execution_count": 2,
     "metadata": {},
     "output_type": "execute_result"
    }
   ],
   "source": [
    "#get main dataframe\n",
    "main = pd.read_csv('../data/covid_large.csv')\n",
    "\n",
    "#convert date from object to datetime\n",
    "main['Date'] = main.Date.apply(lambda d: datetime.strptime(d, '%Y-%m-%d'))\n",
    "\n",
    "#remove empty rows\n",
    "main = main[main.countyFIPS != 0]\n",
    "\n",
    "#select only georgia rows\n",
    "main = main[main.State == 'GA']\n",
    "\n",
    "#group rows by date\n",
    "main = main.groupby([\"Date\"]).sum().reset_index()\n",
    "\n",
    "#select only desired columns\n",
    "main = main[['Date', 'Num of Cases']]\n",
    "\n",
    "#display dataset\n",
    "main"
   ]
  },
  {
   "cell_type": "code",
   "execution_count": null,
   "metadata": {},
   "outputs": [],
   "source": [
    "#make plot of state daily trends\n",
    "fig = px.line(main, x = \"Date\", y = \"Num of Cases\", title ='State Daily Trends ')\n",
    "\n",
    "#display plot\n",
    "fig.show()"
   ]
  },
  {
   "cell_type": "code",
   "execution_count": null,
   "metadata": {},
   "outputs": [],
   "source": [
    "#display histogram of the georgia state cases\n",
    "plt.hist(main['Num of Cases'], density = True)"
   ]
  },
  {
   "cell_type": "markdown",
   "metadata": {},
   "source": [
    "### Results"
   ]
  },
  {
   "cell_type": "code",
   "execution_count": null,
   "metadata": {},
   "outputs": [],
   "source": [
    "#fit the cases into exponential distribution\n",
    "fitted_data = stats.expon.fit(main['Num of Cases'])\n",
    "\n",
    "#obtain paramaters needed to make exponential distribution\n",
    "a = np.linspace(0, 300000, 100)\n",
    "b = stats.expon.pdf(a, *fitted_data)\n",
    "\n",
    "#plot histogram\n",
    "plt.hist(main['Num of Cases'], density = True)\n",
    "\n",
    "#plot exponential distribution\n",
    "plt.plot(a, b)"
   ]
  },
  {
   "cell_type": "markdown",
   "metadata": {},
   "source": [
    "# Part  2"
   ]
  },
  {
   "cell_type": "markdown",
   "metadata": {},
   "source": [
    "### Data Manipulation/Aggregation"
   ]
  },
  {
   "cell_type": "code",
   "execution_count": null,
   "metadata": {},
   "outputs": [],
   "source": [
    "#import dataset\n",
    "main = pd.read_csv('../data/covid_large.csv')"
   ]
  },
  {
   "cell_type": "code",
   "execution_count": null,
   "metadata": {},
   "outputs": [],
   "source": [
    "#convert date object to datetime\n",
    "main['Date'] = main.Date.apply(lambda d: datetime.strptime(d, '%Y-%m-%d'))\n",
    "\n",
    "#remove empty rows\n",
    "main = main[main.countyFIPS != 0]\n",
    "\n",
    "#select specific states and add to a list\n",
    "stateList = ['GA','IL', 'PA', 'OH', 'MI', 'NJ']\n",
    "\n",
    "#remove states that are not needed from the dataset\n",
    "main = main[main.State.isin(stateList)]\n",
    "\n",
    "#select only the columns that are needed from the dataset\n",
    "main = main[['State', 'Date', 'Num of Cases', 'Num of Deaths', 'population']]\n",
    "\n",
    "#group the dataset by state and date\n",
    "main = main.groupby([\"Date\", \"State\"]).sum().reset_index().sort_values([\"State\", \"Date\"], ascending = (True, True))\n",
    "\n",
    "#display dataset\n",
    "main"
   ]
  },
  {
   "cell_type": "code",
   "execution_count": null,
   "metadata": {},
   "outputs": [],
   "source": [
    "#take the diffenece of the columns to get the new cases and deaths\n",
    "main['New Cases Per Day'] = main['Num of Cases'].diff()\n",
    "main['New Deaths Per Day'] = main['Num of Deaths'].diff()\n",
    "\n",
    "#remove unneeded columns\n",
    "main = main[['Date', 'State', 'New Cases Per Day', 'New Deaths Per Day', 'population']]\n",
    "\n",
    "#remove the rows that are NaN\n",
    "main = main[main.Date != '2020-01-22']\n",
    "\n",
    "#display dataset\n",
    "main"
   ]
  },
  {
   "cell_type": "code",
   "execution_count": null,
   "metadata": {},
   "outputs": [],
   "source": [
    "#normalize the new cases and deaths per day by population of 100000\n",
    "main['New Cases Per Day (Normalized)']= (main['New Cases Per Day']/main['population'])*100000\n",
    "main['New Deaths Per Day (Normalized)']= (main['New Deaths Per Day']/main['population'])*100000\n",
    "\n",
    "#remove unneeded columns\n",
    "main = main[['Date', 'State', 'New Cases Per Day (Normalized)', 'New Deaths Per Day (Normalized)']]\n",
    "\n",
    "#display dataset\n",
    "main"
   ]
  },
  {
   "cell_type": "code",
   "execution_count": null,
   "metadata": {},
   "outputs": [],
   "source": [
    "#group by state and compute mean of each column for each state\n",
    "main = main.groupby(['State'])['New Cases Per Day (Normalized)','New Deaths Per Day (Normalized)'].agg({'New Cases Per Day (Normalized)':'mean','New Deaths Per Day (Normalized)' :'mean'}).reset_index()\n",
    "\n",
    "#display dataset\n",
    "main"
   ]
  },
  {
   "cell_type": "markdown",
   "metadata": {},
   "source": [
    "### Results"
   ]
  },
  {
   "cell_type": "code",
   "execution_count": null,
   "metadata": {},
   "outputs": [],
   "source": [
    "#display cases poisson model for each state\n",
    "\n",
    "#display the poisson model for georgia\n",
    "georgia = stats.poisson.rvs(size = 1000, mu = 11.025809)\n",
    "plt.hist(georgia)\n",
    "plt.title(\"Georgia\") \n",
    "plt.show()\n",
    "\n",
    "#display poisson model for illinois\n",
    "illinois = stats.poisson.rvs(size = 1000, mu = 8.783703)\n",
    "plt.hist(illinois)\n",
    "plt.title(\"Illinois\") \n",
    "plt.show()\n",
    "\n",
    "\n",
    "#display poisson model for michigan\n",
    "michigan = stats.poisson.rvs(size = 1000, mu = 5.019988)\n",
    "plt.hist(michigan)\n",
    "plt.title(\"Michigan\") \n",
    "plt.show()\n",
    "\n",
    "#display poisson model for new jersey\n",
    "newJersey = stats.poisson.rvs(size = 1000, mu = 9.381419)\n",
    "plt.hist(newJersey)\n",
    "plt.title(\"New Jersey\") \n",
    "plt.show()\n",
    "\n",
    "#display poisson model for ohio\n",
    "ohio = stats.poisson.rvs(size = 1000, mu = 5.019851)\n",
    "plt.hist(ohio)\n",
    "plt.title(\"Ohio\") \n",
    "plt.show()\n",
    "\n",
    "#display poisson model for pennsylvania\n",
    "pennsylvania = stats.poisson.rvs(size = 1000, mu = 4.801392)\n",
    "plt.hist(pennsylvania)\n",
    "plt.title(\"Pennsylvania\") \n",
    "plt.show()"
   ]
  },
  {
   "cell_type": "code",
   "execution_count": null,
   "metadata": {},
   "outputs": [],
   "source": [
    "#display poisson models for each state from of the deaths data\n",
    "\n",
    "#display georgia poisson model\n",
    "georgia = stats.poisson.rvs(size = 1000, mu = 0.247674)\n",
    "plt.hist(georgia)\n",
    "plt.title(\"Georgia\") \n",
    "plt.show()\n",
    "\n",
    "#display illinois poisson model\n",
    "illinois = stats.poisson.rvs(size = 1000, mu = 0.278009)\n",
    "plt.hist(illinois)\n",
    "plt.title(\"Illinois\") \n",
    "plt.show()\n",
    "\n",
    "\n",
    "#display michigan poisson model\n",
    "michigan = stats.poisson.rvs(size = 1000, mu = 0.290297)\n",
    "plt.hist(michigan)\n",
    "plt.title(\"Michigan\") \n",
    "plt.show()\n",
    "\n",
    "#display new jersey poisson model\n",
    "newJersey = stats.poisson.rvs(size = 1000, mu = 0.764861)\n",
    "plt.hist(newJersey)\n",
    "plt.title(\"New Jersey\") \n",
    "plt.show()\n",
    "\n",
    "#display ohio poisson model\n",
    "ohio = stats.poisson.rvs(size = 1000, mu = 0.160152)\n",
    "plt.hist(ohio)\n",
    "plt.title(\"Ohio\") \n",
    "plt.show()\n",
    "\n",
    "#display pennsylvania poisson model\n",
    "pennsylvania = stats.poisson.rvs(size = 1000, mu = 0.260453)\n",
    "plt.hist(pennsylvania)\n",
    "plt.title(\"Pennsylvania\") \n",
    "plt.show()"
   ]
  },
  {
   "cell_type": "markdown",
   "metadata": {},
   "source": [
    "# Part 3"
   ]
  },
  {
   "cell_type": "markdown",
   "metadata": {},
   "source": [
    "### Data Manipulation/Aggregation"
   ]
  },
  {
   "cell_type": "code",
   "execution_count": null,
   "metadata": {},
   "outputs": [],
   "source": [
    "#import dataset\n",
    "main = pd.read_csv('../data/covid_large.csv')"
   ]
  },
  {
   "cell_type": "code",
   "execution_count": null,
   "metadata": {},
   "outputs": [],
   "source": [
    "#conver date from an object to datetime\n",
    "main['Date'] = main.Date.apply(lambda d: datetime.strptime(d, '%Y-%m-%d'))\n",
    "\n",
    "#remove empty rows\n",
    "main = main[main.countyFIPS != 0]\n",
    "\n",
    "#select north carolina rows\n",
    "main = main[main.State == 'NC']\n",
    "\n",
    "#select only needed columns and sort by County Name and Date\n",
    "main = main[['County Name', 'Date', 'Num of Cases', 'Num of Deaths', 'population']].sort_values([\"County Name\", \"Date\"], ascending = (True, True))\n",
    "\n",
    "#display dataset\n",
    "main"
   ]
  },
  {
   "cell_type": "code",
   "execution_count": null,
   "metadata": {},
   "outputs": [],
   "source": [
    "#compute diffrence of rows to get the new cases and deaths\n",
    "main['New Cases Per Day'] = main['Num of Cases'].diff()\n",
    "main['New Deaths Per Day'] = main['Num of Deaths'].diff()\n",
    "\n",
    "#select only needed columns\n",
    "main = main[['Date', 'County Name', 'New Cases Per Day', 'New Deaths Per Day', 'population']]\n",
    "\n",
    "#remove rows with NaN\n",
    "main = main[main.Date != '2020-01-22']\n",
    "\n",
    "#display dataset\n",
    "main"
   ]
  },
  {
   "cell_type": "code",
   "execution_count": null,
   "metadata": {},
   "outputs": [],
   "source": [
    "#normalize new cases and deaths by population of 100000\n",
    "main['New Cases Per Day (Normalized)']= (main['New Cases Per Day']/main['population'])*100000\n",
    "main['New Deaths Per Day (Normalized)']= (main['New Deaths Per Day']/main['population'])*100000\n",
    "\n",
    "#select specific columns\n",
    "main = main[['Date', 'County Name', 'New Cases Per Day (Normalized)', 'New Deaths Per Day (Normalized)']]\n",
    "\n",
    "#display dataset\n",
    "main"
   ]
  },
  {
   "cell_type": "code",
   "execution_count": null,
   "metadata": {},
   "outputs": [],
   "source": [
    "#group by county name and comupute mean of each counties normalized data\n",
    "main = main.groupby(['County Name'])['New Cases Per Day (Normalized)','New Deaths Per Day (Normalized)'].agg({'New Cases Per Day (Normalized)':'mean','New Deaths Per Day (Normalized)' :'mean'}).reset_index()\n",
    "\n",
    "#display dataset\n",
    "main"
   ]
  },
  {
   "cell_type": "markdown",
   "metadata": {},
   "source": [
    "### Results"
   ]
  },
  {
   "cell_type": "code",
   "execution_count": null,
   "metadata": {},
   "outputs": [],
   "source": [
    "#display alamance county cases poisson model\n",
    "alamanceCounty = stats.poisson.rvs(size = 1000, mu = 8.931579)\n",
    "plt.hist(alamanceCounty)\n",
    "plt.title(\"Alamance County\") \n",
    "plt.show()\n",
    "\n",
    "#display alexander county cases poisson model\n",
    "alexanderCounty = stats.poisson.rvs(size = 1000, mu = 5.322460)\n",
    "plt.hist(alexanderCounty)\n",
    "plt.title(\"Alexander County\") \n",
    "plt.show()\n",
    "\n",
    "#display alleghany county cases poisson model\n",
    "alleghanyCounty = stats.poisson.rvs(size = 1000, mu = 8.256187)\n",
    "plt.hist(alleghanyCounty)\n",
    "plt.title(\"Alleghany County\") \n",
    "plt.show()\n",
    "\n",
    "#display anson county cases poisson model\n",
    "ansonCounty = stats.poisson.rvs(size = 1000, mu = 8.839961)\n",
    "plt.hist(ansonCounty)\n",
    "plt.title(\"Anson County\") \n",
    "plt.show()\n",
    "\n",
    "#display ashe countycases poisson model\n",
    "asheCounty = stats.poisson.rvs(size = 1000, mu = 3.753948)\n",
    "plt.hist(asheCounty)\n",
    "plt.title(\"Ashe County\") \n",
    "plt.show()"
   ]
  },
  {
   "cell_type": "code",
   "execution_count": null,
   "metadata": {},
   "outputs": [],
   "source": [
    "#display alamance county deaths poisson model\n",
    "alamanceCounty = stats.poisson.rvs(size = 1000, mu = 0.119988)\n",
    "plt.hist(alamanceCounty)\n",
    "plt.title(\"Alamance County\") \n",
    "plt.show()\n",
    "\n",
    "#display alexander county deaths poisson model\n",
    "alexanderCounty = stats.poisson.rvs(size = 1000, mu = 0.033901)\n",
    "plt.hist(alexanderCounty)\n",
    "plt.title(\"Alexander County\") \n",
    "plt.show()\n",
    "\n",
    "#display alleghany county deaths poisson model\n",
    "alleghanyCounty = stats.poisson.rvs(size = 1000, mu = 0.000000)\n",
    "plt.hist(alleghanyCounty)\n",
    "plt.title(\"Alleghany County\") \n",
    "plt.show()\n",
    "\n",
    "#display anson county deaths poisson model\n",
    "ansonCounty = stats.poisson.rvs(size = 1000, mu = 0.052000)\n",
    "plt.hist(ansonCounty)\n",
    "plt.title(\"Anson County\") \n",
    "plt.show()\n",
    "\n",
    "#display ashe county deaths poisson model\n",
    "asheCounty = stats.poisson.rvs(size = 1000, mu = 0.015577)\n",
    "plt.hist(asheCounty)\n",
    "plt.title(\"Ashe County\") \n",
    "plt.show()"
   ]
  },
  {
   "cell_type": "markdown",
   "metadata": {},
   "source": [
    "# Part 4"
   ]
  },
  {
   "cell_type": "markdown",
   "metadata": {},
   "source": [
    "### Data Manipulation/Aggregation"
   ]
  },
  {
   "cell_type": "code",
   "execution_count": null,
   "metadata": {},
   "outputs": [],
   "source": [
    "#get dataset \n",
    "main = pd.read_csv('../data/housing_merge.csv')"
   ]
  },
  {
   "cell_type": "code",
   "execution_count": null,
   "metadata": {},
   "outputs": [],
   "source": [
    "#convert date object to datetime\n",
    "main['Date'] = main.Date.apply(lambda d: datetime.strptime(d, '%Y-%m-%d'))\n",
    "\n",
    "#remove empty rows\n",
    "main = main[main.countyFIPS != 0]\n",
    "\n",
    "#select specific states used in previous example\n",
    "stateList = ['GA','IL', 'PA', 'OH', 'MI', 'NJ'] \n",
    "\n",
    "#remove all other states that are not needed\n",
    "main = main[main.State.isin(stateList)]\n",
    "\n",
    "#display dataset\n",
    "main"
   ]
  },
  {
   "cell_type": "code",
   "execution_count": null,
   "metadata": {},
   "outputs": [],
   "source": [
    "#select columns that are only needed\n",
    "main = main[['State', 'Date','Owner-Occupied Unit', 'Renter-Occupied Unit', 'Average Household Size of Owner-Occupied Unit', 'Average Household Size of Renter-Occupied Unit']]"
   ]
  },
  {
   "cell_type": "code",
   "execution_count": null,
   "metadata": {},
   "outputs": [],
   "source": [
    "#group by state and compute the enhacement data for each state\n",
    "main = main.groupby(['State'])['Owner-Occupied Unit', 'Renter-Occupied Unit', 'Average Household Size of Owner-Occupied Unit', 'Average Household Size of Renter-Occupied Unit'].agg({'Owner-Occupied Unit':'sum', 'Renter-Occupied Unit':'sum', 'Average Household Size of Owner-Occupied Unit':'mean', 'Average Household Size of Renter-Occupied Unit':'mean'}).reset_index()\n",
    "main"
   ]
  },
  {
   "cell_type": "code",
   "execution_count": null,
   "metadata": {},
   "outputs": [],
   "source": []
  }
 ],
 "metadata": {
  "kernelspec": {
   "display_name": "Python 3",
   "language": "python",
   "name": "python3"
  },
  "language_info": {
   "codemirror_mode": {
    "name": "ipython",
    "version": 3
   },
   "file_extension": ".py",
   "mimetype": "text/x-python",
   "name": "python",
   "nbconvert_exporter": "python",
   "pygments_lexer": "ipython3",
   "version": "3.7.4"
  }
 },
 "nbformat": 4,
 "nbformat_minor": 4
}
