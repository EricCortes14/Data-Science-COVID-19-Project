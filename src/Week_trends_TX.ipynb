{
 "cells": [
  {
   "cell_type": "markdown",
   "metadata": {},
   "source": [
    "### Showing trends of cases and deaths from 7th-14th of September "
   ]
  },
  {
   "cell_type": "code",
   "execution_count": 1,
   "metadata": {},
   "outputs": [],
   "source": [
    "#Imporitng libraries\n",
    "import pandas as pd\n",
    "import matplotlib.pyplot as plt\n",
    "from datetime import datetime"
   ]
  },
  {
   "cell_type": "markdown",
   "metadata": {},
   "source": [
    "#### Reading and preprocessing the data"
   ]
  },
  {
   "cell_type": "code",
   "execution_count": 2,
   "metadata": {},
   "outputs": [],
   "source": [
    "#Reading the dataset\n",
    "covid_data=pd.read_csv('../data/covid_large.csv')\n"
   ]
  },
  {
   "cell_type": "code",
   "execution_count": 3,
   "metadata": {},
   "outputs": [],
   "source": [
    "#Converting the datatype to datetime format\n",
    "covid_data['Date'] = covid_data.Date.apply(lambda d: datetime.strptime(d, '%Y-%m-%d'))"
   ]
  },
  {
   "cell_type": "code",
   "execution_count": 4,
   "metadata": {},
   "outputs": [
    {
     "data": {
      "text/html": [
       "<div>\n",
       "<style scoped>\n",
       "    .dataframe tbody tr th:only-of-type {\n",
       "        vertical-align: middle;\n",
       "    }\n",
       "\n",
       "    .dataframe tbody tr th {\n",
       "        vertical-align: top;\n",
       "    }\n",
       "\n",
       "    .dataframe thead th {\n",
       "        text-align: right;\n",
       "    }\n",
       "</style>\n",
       "<table border=\"1\" class=\"dataframe\">\n",
       "  <thead>\n",
       "    <tr style=\"text-align: right;\">\n",
       "      <th></th>\n",
       "      <th>State</th>\n",
       "      <th>countyFIPS</th>\n",
       "      <th>County Name</th>\n",
       "      <th>Date</th>\n",
       "      <th>Num of Cases</th>\n",
       "      <th>Num of Deaths</th>\n",
       "      <th>population</th>\n",
       "    </tr>\n",
       "  </thead>\n",
       "  <tbody>\n",
       "    <tr>\n",
       "      <td>0</td>\n",
       "      <td>AL</td>\n",
       "      <td>0</td>\n",
       "      <td>statewide unallocated</td>\n",
       "      <td>2020-01-22</td>\n",
       "      <td>0</td>\n",
       "      <td>0</td>\n",
       "      <td>0</td>\n",
       "    </tr>\n",
       "    <tr>\n",
       "      <td>1</td>\n",
       "      <td>AL</td>\n",
       "      <td>0</td>\n",
       "      <td>statewide unallocated</td>\n",
       "      <td>2020-01-23</td>\n",
       "      <td>0</td>\n",
       "      <td>0</td>\n",
       "      <td>0</td>\n",
       "    </tr>\n",
       "    <tr>\n",
       "      <td>2</td>\n",
       "      <td>AL</td>\n",
       "      <td>0</td>\n",
       "      <td>statewide unallocated</td>\n",
       "      <td>2020-01-24</td>\n",
       "      <td>0</td>\n",
       "      <td>0</td>\n",
       "      <td>0</td>\n",
       "    </tr>\n",
       "    <tr>\n",
       "      <td>3</td>\n",
       "      <td>AL</td>\n",
       "      <td>0</td>\n",
       "      <td>statewide unallocated</td>\n",
       "      <td>2020-01-25</td>\n",
       "      <td>0</td>\n",
       "      <td>0</td>\n",
       "      <td>0</td>\n",
       "    </tr>\n",
       "    <tr>\n",
       "      <td>4</td>\n",
       "      <td>AL</td>\n",
       "      <td>0</td>\n",
       "      <td>statewide unallocated</td>\n",
       "      <td>2020-01-26</td>\n",
       "      <td>0</td>\n",
       "      <td>0</td>\n",
       "      <td>0</td>\n",
       "    </tr>\n",
       "  </tbody>\n",
       "</table>\n",
       "</div>"
      ],
      "text/plain": [
       "  State  countyFIPS            County Name       Date  Num of Cases  \\\n",
       "0    AL           0  statewide unallocated 2020-01-22             0   \n",
       "1    AL           0  statewide unallocated 2020-01-23             0   \n",
       "2    AL           0  statewide unallocated 2020-01-24             0   \n",
       "3    AL           0  statewide unallocated 2020-01-25             0   \n",
       "4    AL           0  statewide unallocated 2020-01-26             0   \n",
       "\n",
       "   Num of Deaths  population  \n",
       "0              0           0  \n",
       "1              0           0  \n",
       "2              0           0  \n",
       "3              0           0  \n",
       "4              0           0  "
      ]
     },
     "execution_count": 4,
     "metadata": {},
     "output_type": "execute_result"
    }
   ],
   "source": [
    "covid_data.head()"
   ]
  },
  {
   "cell_type": "markdown",
   "metadata": {},
   "source": [
    "#### Choosing Texas state data"
   ]
  },
  {
   "cell_type": "code",
   "execution_count": 31,
   "metadata": {},
   "outputs": [],
   "source": [
    "covid_statedata=covid_data.loc[covid_data['State'] == 'TX']"
   ]
  },
  {
   "cell_type": "code",
   "execution_count": 32,
   "metadata": {},
   "outputs": [
    {
     "data": {
      "text/plain": [
       "State                    object\n",
       "countyFIPS                int64\n",
       "County Name              object\n",
       "Date             datetime64[ns]\n",
       "Num of Cases              int64\n",
       "Num of Deaths             int64\n",
       "population                int64\n",
       "dtype: object"
      ]
     },
     "execution_count": 32,
     "metadata": {},
     "output_type": "execute_result"
    }
   ],
   "source": [
    "covid_statedata.dtypes"
   ]
  },
  {
   "cell_type": "code",
   "execution_count": 33,
   "metadata": {},
   "outputs": [],
   "source": [
    "#Choosing one week's data from 7th-14th September\n",
    "start_date=datetime(2020,9,6)\n",
    "end_date=datetime(2020,9,15)\n",
    "mask = (covid_statedata['Date'] > start_date) & (covid_statedata['Date'] <= end_date)"
   ]
  },
  {
   "cell_type": "code",
   "execution_count": 34,
   "metadata": {},
   "outputs": [],
   "source": [
    "#Applying mask to the dataset \n",
    "covid = covid_statedata.loc[mask]\n"
   ]
  },
  {
   "cell_type": "code",
   "execution_count": 35,
   "metadata": {},
   "outputs": [
    {
     "data": {
      "text/html": [
       "<div>\n",
       "<style scoped>\n",
       "    .dataframe tbody tr th:only-of-type {\n",
       "        vertical-align: middle;\n",
       "    }\n",
       "\n",
       "    .dataframe tbody tr th {\n",
       "        vertical-align: top;\n",
       "    }\n",
       "\n",
       "    .dataframe thead th {\n",
       "        text-align: right;\n",
       "    }\n",
       "</style>\n",
       "<table border=\"1\" class=\"dataframe\">\n",
       "  <thead>\n",
       "    <tr style=\"text-align: right;\">\n",
       "      <th></th>\n",
       "      <th>State</th>\n",
       "      <th>countyFIPS</th>\n",
       "      <th>County Name</th>\n",
       "      <th>Date</th>\n",
       "      <th>Num of Cases</th>\n",
       "      <th>Num of Deaths</th>\n",
       "      <th>population</th>\n",
       "    </tr>\n",
       "  </thead>\n",
       "  <tbody>\n",
       "    <tr>\n",
       "      <td>608845</td>\n",
       "      <td>TX</td>\n",
       "      <td>0</td>\n",
       "      <td>statewide unallocated</td>\n",
       "      <td>2020-09-07</td>\n",
       "      <td>0</td>\n",
       "      <td>3</td>\n",
       "      <td>0</td>\n",
       "    </tr>\n",
       "    <tr>\n",
       "      <td>608846</td>\n",
       "      <td>TX</td>\n",
       "      <td>0</td>\n",
       "      <td>statewide unallocated</td>\n",
       "      <td>2020-09-08</td>\n",
       "      <td>0</td>\n",
       "      <td>3</td>\n",
       "      <td>0</td>\n",
       "    </tr>\n",
       "    <tr>\n",
       "      <td>608847</td>\n",
       "      <td>TX</td>\n",
       "      <td>0</td>\n",
       "      <td>statewide unallocated</td>\n",
       "      <td>2020-09-09</td>\n",
       "      <td>0</td>\n",
       "      <td>3</td>\n",
       "      <td>0</td>\n",
       "    </tr>\n",
       "    <tr>\n",
       "      <td>608848</td>\n",
       "      <td>TX</td>\n",
       "      <td>0</td>\n",
       "      <td>statewide unallocated</td>\n",
       "      <td>2020-09-10</td>\n",
       "      <td>0</td>\n",
       "      <td>3</td>\n",
       "      <td>0</td>\n",
       "    </tr>\n",
       "    <tr>\n",
       "      <td>608849</td>\n",
       "      <td>TX</td>\n",
       "      <td>0</td>\n",
       "      <td>statewide unallocated</td>\n",
       "      <td>2020-09-11</td>\n",
       "      <td>0</td>\n",
       "      <td>3</td>\n",
       "      <td>0</td>\n",
       "    </tr>\n",
       "    <tr>\n",
       "      <td>...</td>\n",
       "      <td>...</td>\n",
       "      <td>...</td>\n",
       "      <td>...</td>\n",
       "      <td>...</td>\n",
       "      <td>...</td>\n",
       "      <td>...</td>\n",
       "      <td>...</td>\n",
       "    </tr>\n",
       "    <tr>\n",
       "      <td>669046</td>\n",
       "      <td>TX</td>\n",
       "      <td>48507</td>\n",
       "      <td>zavala county</td>\n",
       "      <td>2020-09-10</td>\n",
       "      <td>274</td>\n",
       "      <td>13</td>\n",
       "      <td>11840</td>\n",
       "    </tr>\n",
       "    <tr>\n",
       "      <td>669047</td>\n",
       "      <td>TX</td>\n",
       "      <td>48507</td>\n",
       "      <td>zavala county</td>\n",
       "      <td>2020-09-11</td>\n",
       "      <td>275</td>\n",
       "      <td>14</td>\n",
       "      <td>11840</td>\n",
       "    </tr>\n",
       "    <tr>\n",
       "      <td>669048</td>\n",
       "      <td>TX</td>\n",
       "      <td>48507</td>\n",
       "      <td>zavala county</td>\n",
       "      <td>2020-09-12</td>\n",
       "      <td>282</td>\n",
       "      <td>14</td>\n",
       "      <td>11840</td>\n",
       "    </tr>\n",
       "    <tr>\n",
       "      <td>669049</td>\n",
       "      <td>TX</td>\n",
       "      <td>48507</td>\n",
       "      <td>zavala county</td>\n",
       "      <td>2020-09-13</td>\n",
       "      <td>282</td>\n",
       "      <td>14</td>\n",
       "      <td>11840</td>\n",
       "    </tr>\n",
       "    <tr>\n",
       "      <td>669050</td>\n",
       "      <td>TX</td>\n",
       "      <td>48507</td>\n",
       "      <td>zavala county</td>\n",
       "      <td>2020-09-14</td>\n",
       "      <td>282</td>\n",
       "      <td>14</td>\n",
       "      <td>11840</td>\n",
       "    </tr>\n",
       "  </tbody>\n",
       "</table>\n",
       "<p>2040 rows × 7 columns</p>\n",
       "</div>"
      ],
      "text/plain": [
       "       State  countyFIPS            County Name       Date  Num of Cases  \\\n",
       "608845    TX           0  statewide unallocated 2020-09-07             0   \n",
       "608846    TX           0  statewide unallocated 2020-09-08             0   \n",
       "608847    TX           0  statewide unallocated 2020-09-09             0   \n",
       "608848    TX           0  statewide unallocated 2020-09-10             0   \n",
       "608849    TX           0  statewide unallocated 2020-09-11             0   \n",
       "...      ...         ...                    ...        ...           ...   \n",
       "669046    TX       48507          zavala county 2020-09-10           274   \n",
       "669047    TX       48507          zavala county 2020-09-11           275   \n",
       "669048    TX       48507          zavala county 2020-09-12           282   \n",
       "669049    TX       48507          zavala county 2020-09-13           282   \n",
       "669050    TX       48507          zavala county 2020-09-14           282   \n",
       "\n",
       "        Num of Deaths  population  \n",
       "608845              3           0  \n",
       "608846              3           0  \n",
       "608847              3           0  \n",
       "608848              3           0  \n",
       "608849              3           0  \n",
       "...               ...         ...  \n",
       "669046             13       11840  \n",
       "669047             14       11840  \n",
       "669048             14       11840  \n",
       "669049             14       11840  \n",
       "669050             14       11840  \n",
       "\n",
       "[2040 rows x 7 columns]"
      ]
     },
     "execution_count": 35,
     "metadata": {},
     "output_type": "execute_result"
    }
   ],
   "source": [
    "#Final dataset with Texas state data\n",
    "covid"
   ]
  },
  {
   "cell_type": "code",
   "execution_count": 36,
   "metadata": {},
   "outputs": [],
   "source": [
    "#Setting date as the index\n",
    "covid=covid.set_index('Date')"
   ]
  },
  {
   "cell_type": "code",
   "execution_count": 37,
   "metadata": {},
   "outputs": [],
   "source": [
    "#Grouping by date and adding all the county numbers in TX state on the same date for both cases and deaths\n",
    "covid_test=covid.groupby('Date')['Num of Deaths'].sum()\n",
    "covid_test1=covid.groupby('Date')['Num of Cases'].sum()"
   ]
  },
  {
   "cell_type": "code",
   "execution_count": 38,
   "metadata": {},
   "outputs": [
    {
     "data": {
      "text/plain": [
       "Date\n",
       "2020-09-07    13485\n",
       "2020-09-08    13546\n",
       "2020-09-09    13686\n",
       "2020-09-10    13847\n",
       "2020-09-11    13991\n",
       "2020-09-12    14138\n",
       "2020-09-13    14185\n",
       "2020-09-14    14206\n",
       "Name: Num of Deaths, dtype: int64"
      ]
     },
     "execution_count": 38,
     "metadata": {},
     "output_type": "execute_result"
    }
   ],
   "source": [
    "covid_test"
   ]
  },
  {
   "cell_type": "markdown",
   "metadata": {},
   "source": [
    "#### Deaths trend for the week"
   ]
  },
  {
   "cell_type": "code",
   "execution_count": 92,
   "metadata": {},
   "outputs": [
    {
     "data": {
      "text/plain": [
       "Text(0, 0.5, 'Deaths')"
      ]
     },
     "execution_count": 92,
     "metadata": {},
     "output_type": "execute_result"
    },
    {
     "data": {
      "image/png": "[encoded data removed]",
      "text/plain": [
       "<Figure size 720x360 with 1 Axes>"
      ]
     },
     "metadata": {
      "needs_background": "light"
     },
     "output_type": "display_data"
    }
   ],
   "source": [
    "ax=covid_test.plot(title='Deaths due to Covid19 in the past week',figsize=(10,5), grid=True,legend=True)\n",
    "ax.set_ylabel(\"Deaths\")"
   ]
  },
  {
   "cell_type": "markdown",
   "metadata": {},
   "source": [
    "#### The deaths due to Covid19 seems to be steadily increasing in the past week from 7th-13th, than they are a bit stable on 14th."
   ]
  },
  {
   "cell_type": "markdown",
   "metadata": {},
   "source": [
    "#### Cases trend for the week"
   ]
  },
  {
   "cell_type": "code",
   "execution_count": 93,
   "metadata": {},
   "outputs": [
    {
     "data": {
      "text/plain": [
       "Text(0, 0.5, 'COVID cases')"
      ]
     },
     "execution_count": 93,
     "metadata": {},
     "output_type": "execute_result"
    },
    {
     "data": {
      "image/png": "[encoded data removed]",
      "text/plain": [
       "<Figure size 720x360 with 1 Axes>"
      ]
     },
     "metadata": {
      "needs_background": "light"
     },
     "output_type": "display_data"
    }
   ],
   "source": [
    "\n",
    "ax=covid_test1.plot(title='Number of Covid19 Cases in the past week',figsize=(10,5), grid=True,legend=True)\n",
    "ax.set_ylabel(\"COVID cases\")"
   ]
  },
  {
   "cell_type": "markdown",
   "metadata": {},
   "source": [
    "#### The cases seems to be steadily increasing in the past week."
   ]
  }
 ],
 "metadata": {
  "kernelspec": {
   "display_name": "Python 3",
   "language": "python",
   "name": "python3"
  },
  "language_info": {
   "codemirror_mode": {
    "name": "ipython",
    "version": 3
   },
   "file_extension": ".py",
   "mimetype": "text/x-python",
   "name": "python",
   "nbconvert_exporter": "python",
   "pygments_lexer": "ipython3",
   "version": "3.7.4"
  }
 },
 "nbformat": 4,
 "nbformat_minor": 2
}
